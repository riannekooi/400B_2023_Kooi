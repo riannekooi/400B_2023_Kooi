{
 "cells": [
  {
   "cell_type": "markdown",
   "metadata": {
    "collapsed": true
   },
   "source": [
    "# In Class Lab 10 Template\n",
    "# Cosmological Tools\n",
    "\n",
    "In this lab you will create a Class called `CosmologicalTools` that will define various functions that are useful for defining cosmological quantities. We will be adding to this class in subsequent labs. \n",
    "\n",
    "For Lab 12, we will create functions that return the Hubble Parameter and the Density Parameters as a function of redshift. \n",
    "\n"
   ]
  },
  {
   "cell_type": "code",
   "execution_count": 2,
   "metadata": {},
   "outputs": [],
   "source": [
    "# import modules\n",
    "import numpy as np\n",
    "import astropy.units as u\n",
    "from astropy.constants import G\n",
    "\n",
    "# import plotting modules\n",
    "import matplotlib.pyplot as plt\n",
    "import matplotlib\n",
    "%matplotlib inline"
   ]
  },
  {
   "cell_type": "markdown",
   "metadata": {},
   "source": [
    "\n",
    "# Part 1 :\n",
    "\n",
    "A)\n",
    "The first function of the class is called `HubbleParameter`.   From class:\n",
    "\n",
    "$H(z)^2 = H_o^2 \\Bigg [ \\Omega_{m,o}(1+z)^3 + \\Omega_{rad,o}(1+z)^4 + \\Omega_{\\Lambda,o} + \\Omega_{K,o}(1+z)^2 \\Bigg ] $\n",
    "\n",
    "- Complete the initialization of the Class. \n",
    "- Complete the function to return H(z). \n",
    "\n",
    "B)\n",
    "Check your code to make sure it returns the correct Hubble Parameter at z=0  of 67.81 km/s/Mpc\n",
    "\n",
    "C) \n",
    "Determine the Hubble Parameter at z = 1 in the benchmark cosmology\n",
    "\n",
    "D) The Einstein De Sitter cosmology refers to a time when normal matter dominated the energy budget. \n",
    "$\\Omega_m = 1$ and all other density parameters are negligible (set to 0).\n",
    "\n",
    "   -  Determine the Hubble Parameter at z=1 in the Einstein De Sitter Cosmology\n",
    "\n",
    "   -   Is the recession velocity of a galaxy at a given distance expected to be larger or smaller than in the benchmark cosmology at z=1?"
   ]
  },
  {
   "cell_type": "markdown",
   "metadata": {},
   "source": [
    "# Part 2:\n",
    "\n",
    "\n",
    "## A) \n",
    "\n",
    "From class:\n",
    "\n",
    "$\\Omega_m(z) = \\Omega_{m0} (1+z)^3 \\Bigg (\\frac{H_o}{H(z)} \\Bigg )^2$\n",
    "\n",
    "\n",
    "$\\Omega_{rad}(z) = \\Omega_{rad0}(1+z)^4\\Bigg (\\frac{H_o}{H(z)} \\Bigg )^2$\n",
    "\n",
    "\n",
    "$\\Omega_\\Lambda(z) = \\Omega_{\\Lambda 0}\\Bigg (\\frac{H_o}{H(z)} \\Bigg )^2$\n",
    "\n",
    "\n",
    "Complete the corresponding functions in the class\n",
    "\n",
    "## B) \n",
    "\n",
    "Plot $\\Omega_m$(z),  $\\Omega_{rad}$(z) and $\\Omega_{\\Lambda}$(z) as a function of z using the benchmark cosmology.  \n",
    "\n",
    "But plot the x values as (z+1).  \n",
    "\n",
    "An array of redshifts has already been defined (zrange), starting from the future  (zmin = -0.9) to the past (zmax = 10$^5$).\n",
    "\n",
    "## C) \n",
    "\n",
    "-  At what redshift does radiation dominate? This epoch is referred to as matter-radiation equality.\n",
    "-  At what redshift does dark energy dominate?\n"
   ]
  },
  {
   "cell_type": "code",
   "execution_count": 3,
   "metadata": {},
   "outputs": [],
   "source": [
    "class CosmologicalTools:\n",
    "    # Define a class that provides functions to compute various cosmological quantities\n",
    "    # for a given cosmology  \n",
    "    def __init__(self, OmegaM0, OmegaR0, OmegaL0, h):\n",
    "        \"\"\" initialize the instance of the class - for any given Cosmology\n",
    "        \n",
    "        PARAMETERS\n",
    "        ----------\n",
    "        OmegaM0: `float`\n",
    "            the Matter density parameter at z=0\n",
    "        \n",
    "        OmegaR0: `float` \n",
    "            the radiation density parameter at z=0\n",
    "        \n",
    "        OmegaL0: `float`\n",
    "            The dark energy density parameter at z=0\n",
    "            \n",
    "        h: `float` \n",
    "            the Normalization for the hubble parameter at z=0\n",
    "        \"\"\"\n",
    "        # initialize the cosmology at z=0\n",
    "        self.OmegaM0 = OmegaM0    ### Matter Density Parameter\n",
    "        self.OmegaR0 = OmegaR0   ### Radiation Density Parameter\n",
    "        self.OmegaL0 = OmegaL0  ### Dark Energy Density Parameter\n",
    "        self.OmegaK0 = 1-(OmegaM0+OmegaR0+OmegaL0)    #### Curvature Density Parameter\n",
    "    \n",
    "        self.h = h   # Normalization of Hubble Parameter   \n",
    "        self.Ho = self.h*100*u.km/u.s/u.Mpc #  Hubble Constant at z=0  100 h km/s/Mpc\n",
    "    \n",
    "    \n",
    "    # Question 1 A)\n",
    "    def HubbleParameter(self, z):\n",
    "        \"\"\"  Method that defines the Hubble Parameter as a function of redshift\n",
    "            H(z)^2 = H_o^2 [ OmegaM0(1+z)^3 + OmegaR0(1+z)^4 + OmegaLambda0 + OmegaK0(1+z)^2] \n",
    "        \n",
    "        PARAMETERS\n",
    "        ----------\n",
    "            z: `float`\n",
    "                redshift \n",
    "            \n",
    "        RETURNS\n",
    "        -------\n",
    "            Hz: `float`\n",
    "                The Hubble parameter at the given redshift in units of km/s/Mpc        \n",
    "        \"\"\"\n",
    "        \n",
    "        \n",
    "        # FILL THIS IN\n",
    "        \n",
    "        OmegaM = self.OmegaM0*(1+z)**3 #omega matter\n",
    "        OmegaR = self.OmegaR0*(1+z)**4 #omega radiation\n",
    "        OmegaL = self.OmegaL0 #omega lambda\n",
    "        OmegaK = self.OmegaK0*(1+z)**2 #curvature density\n",
    "        \n",
    "        Hz = self.Ho*np.sqrt(OmegaM+OmegaR+OmegaL+OmegaK)\n",
    "        \n",
    "  \n",
    "        return Hz \n",
    "    \n",
    "    \n",
    "    # Question 2 A)\n",
    "    def OmegaM_Z(self,z):\n",
    "        \"\"\" Method that defines the matter density parameter as a function of redshift\n",
    "        OmegaM0*(1+z)**3*(Ho/Hz)^2\n",
    "        \n",
    "        PARAMETERS\n",
    "        ----------\n",
    "        z  `float or np.ndarray`\n",
    "            Redshift\n",
    "        \n",
    "        RETURNS\n",
    "        -------\n",
    "        OmegaM: `float or np.ndarray`\n",
    "            Matter Density Parameter at the given redshift.\n",
    "        \"\"\"\n",
    "        \n",
    "        # FILL THIS IN\n",
    "        OmegaM = self.OmegaM0*(1+z)**3*(self.Ho/self.HubbleParameter(z))**2\n",
    "        \n",
    "        return OmegaM \n",
    "    \n",
    "    def OmegaR_Z(self,z):\n",
    "        \"\"\" Method that defines the radiation density parameter as a function of redshift\n",
    "         OmegaR0*(1+z)**4*(Ho/Hz)^2\n",
    "         PARAMETERS\n",
    "         ---------\n",
    "         z  `float or np.ndarray`\n",
    "            Redshift\n",
    "            RETURNS\n",
    "            -------\n",
    "            OmegaR: `float or np.ndarray`\n",
    "            Radiation Density Parameter at the given redshift.\n",
    "            \"\"\"\n",
    "        # FILL THIS IN\n",
    "        OmegaR = self.OmegaR0*(1+z)**4*(self.Ho/self.HubbleParameter(z))**2\n",
    "        \n",
    "        return OmegaR\n",
    "    \n",
    "    \n",
    "    def OmegaL_Z(self,z):\n",
    "        \"\"\" Method that defines the dark energy density parameter as a function of redshift\n",
    "        OmegaL0*(Ho/Hz)^2\n",
    "        \n",
    "        PARAMETERS\n",
    "        ----------\n",
    "        z  `float or np.ndarray`\n",
    "            Redshift\n",
    "        \n",
    "        RETURNS\n",
    "        -------\n",
    "        OmegaL: `float or np.ndarray`\n",
    "            Dark Energy Density Parameter at the given redshift.\n",
    "        \"\"\"\n",
    "        # FILL THIS IN\n",
    "        OmegaL = self.OmegaL0*(self.Ho/self.HubbleParameter(z))**2\n",
    "        \n",
    "        return OmegaL\n",
    "\n",
    "    "
   ]
  },
  {
   "cell_type": "code",
   "execution_count": 4,
   "metadata": {},
   "outputs": [],
   "source": [
    "\n",
    "# Define the benchmark cosmology at z =0\n",
    "# Planck 2015 results. XIII. Cosmological parameters   \n",
    "# Planck Collaboration+2016 A&A 594 13  Table 4, column 2 \n",
    "\n",
    "OmegaM0_planck = 0.308   # Matter Density Parameter\n",
    "OmegaR0_planck = 8.24e-5  # Radiation Density Parameter\n",
    "OmegaL0_planck = 0.692  # Dark Energy Density Parameter\n",
    "h_planck = 0.6781   # Hubble Constant  100 h km/s/Mpc\n",
    "  "
   ]
  },
  {
   "cell_type": "code",
   "execution_count": 5,
   "metadata": {},
   "outputs": [],
   "source": [
    "# Define here an instance of the Class Cosmological Tools that follows the Benchmark Cosmology\n",
    "\n",
    "BenchMark = CosmologicalTools(OmegaM0_planck, OmegaR0_planck, OmegaL0_planck, h_planck)\n"
   ]
  },
  {
   "cell_type": "code",
   "execution_count": 6,
   "metadata": {},
   "outputs": [
    {
     "data": {
      "text/latex": [
       "$67.81 \\; \\mathrm{\\frac{km}{Mpc\\,s}}$"
      ],
      "text/plain": [
       "<Quantity 67.81 km / (Mpc s)>"
      ]
     },
     "execution_count": 6,
     "metadata": {},
     "output_type": "execute_result"
    }
   ],
   "source": [
    "# Question 1 B) \n",
    "\n",
    "# Test Hubble Parameter at z = 0\n",
    "BenchMark.HubbleParameter(0)"
   ]
  },
  {
   "cell_type": "code",
   "execution_count": 7,
   "metadata": {},
   "outputs": [
    {
     "data": {
      "text/latex": [
       "$120.48425 \\; \\mathrm{\\frac{km}{Mpc\\,s}}$"
      ],
      "text/plain": [
       "<Quantity 120.48424622 km / (Mpc s)>"
      ]
     },
     "execution_count": 7,
     "metadata": {},
     "output_type": "execute_result"
    }
   ],
   "source": [
    "# Question 1 C) \n",
    "\n",
    "# Compute the Hubble Parameter at z = 1 in BenchMark Cosmology\n",
    "BenchMark.HubbleParameter(1)"
   ]
  },
  {
   "cell_type": "code",
   "execution_count": 8,
   "metadata": {},
   "outputs": [],
   "source": [
    "# Question 1 D) \n",
    "# Define the cosmology for the Einstein De Sitter Universe\n",
    "OmegaMD = 1\n",
    "OmegaRD = 0\n",
    "OmegaLD = 0\n",
    "# h is the same as in Benchmark Cosmology"
   ]
  },
  {
   "cell_type": "code",
   "execution_count": 9,
   "metadata": {},
   "outputs": [],
   "source": [
    "# Define a New Instance of the Class with Einstein De Sitter Cosmology \n",
    "DeSitter = CosmologicalTools(OmegaMD, OmegaRD, OmegaLD, h_planck)\n"
   ]
  },
  {
   "cell_type": "code",
   "execution_count": 10,
   "metadata": {},
   "outputs": [
    {
     "data": {
      "text/latex": [
       "$191.79564 \\; \\mathrm{\\frac{km}{Mpc\\,s}}$"
      ],
      "text/plain": [
       "<Quantity 191.79564333 km / (Mpc s)>"
      ]
     },
     "execution_count": 10,
     "metadata": {},
     "output_type": "execute_result"
    }
   ],
   "source": [
    "# Compute the Hubble Parameter at z = 1.0 in Einstein De Sitter Cosmology\n",
    "DeSitter.HubbleParameter(1)"
   ]
  },
  {
   "cell_type": "markdown",
   "metadata": {},
   "source": [
    "Is the recession velocity of a galaxy at a given distance larger or smaller than in the benchmark cosmology at z=1?\n",
    "DeSitter is higher!"
   ]
  },
  {
   "cell_type": "code",
   "execution_count": 11,
   "metadata": {},
   "outputs": [
    {
     "data": {
      "image/png": "[encoded data removed]",
      "text/plain": [
       "<Figure size 1000x1000 with 1 Axes>"
      ]
     },
     "metadata": {},
     "output_type": "display_data"
    }
   ],
   "source": [
    "# Question 2 B) \n",
    "\n",
    "\n",
    "# Plot the Redshift Evolution of OmegaM, OmegaR and OmegaL\n",
    "############################################################\n",
    "\n",
    "fig = plt.figure(figsize=(10,10))\n",
    "ax = plt.subplot(111)\n",
    "\n",
    "# Define an array of redshift \n",
    "zmax = 10**5\n",
    "zmin = -0.9\n",
    "zrange = np.arange(zmin, zmax, 0.01)\n",
    "\n",
    "OmegaM_Z = BenchMark.OmegaM_Z(zrange)\n",
    "OmegaR_Z = BenchMark.OmegaR_Z(zrange)\n",
    "OmegaL_Z = BenchMark.OmegaL_Z(zrange)\n",
    "\n",
    "# Evolution of Matter Density Parameter as a function of 1+z\n",
    "# FILL THIS IN\n",
    "plt.semilogx(1+zrange,OmegaM_Z , color='blue', linewidth=5, label=r'$\\Omega_M$(z)')\n",
    "\n",
    "# Evolution of Radiation Density Parameter \n",
    "# FILL THIS IN \n",
    "plt.semilogx(1+zrange, OmegaR_Z  , color='red', linewidth=5, label=r'$\\Omega_R$(z)')\n",
    "\n",
    "# Evolution of Dark Energy Density Parameter \n",
    "# FILL THIS IN\n",
    "plt.semilogx(1+zrange, OmegaL_Z, color='black', linewidth=5, label=r'$\\Omega_L$(z)')\n",
    "\n",
    "\n",
    "\n",
    "\n",
    "# Add axis labels\n",
    "plt.xlabel('1+z', fontsize=22)\n",
    "plt.ylabel(r'$\\Omega$(z)', fontsize=22)\n",
    "\n",
    "\n",
    "#adjust tick label font size\n",
    "label_size = 22\n",
    "matplotlib.rcParams['xtick.labelsize'] = label_size \n",
    "matplotlib.rcParams['ytick.labelsize'] = label_size\n",
    "\n",
    "\n",
    "legend = ax.legend(loc='upper center', fontsize='x-large', \n",
    "                   bbox_to_anchor=(0.5, 1.05),ncol=3, fancybox=True, shadow=True)\n",
    "\n",
    "# Save to a file\n",
    "plt.savefig('Lab10_DensityParameterEvolution.png')"
   ]
  },
  {
   "cell_type": "markdown",
   "metadata": {},
   "source": [
    "# Question 2 C) \n",
    "\n",
    " At what approximate redshift does Radiation Density dominate?\n",
    "\n",
    "\n"
   ]
  },
  {
   "cell_type": "code",
   "execution_count": 14,
   "metadata": {},
   "outputs": [
    {
     "name": "stdout",
     "output_type": "stream",
     "text": [
      "3736.870000000003\n"
     ]
    }
   ],
   "source": [
    "idx = np.where(OmegaR_Z > OmegaM_Z)\n",
    "zRad = zrange[idx[0][0]]\n",
    "print(zRad)"
   ]
  },
  {
   "cell_type": "markdown",
   "metadata": {},
   "source": [
    " At what approximate redshift does Dark Energy dominate?   \n"
   ]
  },
  {
   "cell_type": "code",
   "execution_count": 15,
   "metadata": {},
   "outputs": [
    {
     "name": "stdout",
     "output_type": "stream",
     "text": [
      "0.31000000000000105\n"
     ]
    }
   ],
   "source": [
    "idx = np.where(OmegaM_Z > OmegaL_Z)\n",
    "zRad = zrange[idx[0][0]]\n",
    "print(zRad)"
   ]
  },
  {
   "cell_type": "code",
   "execution_count": null,
   "metadata": {},
   "outputs": [],
   "source": []
  }
 ],
 "metadata": {
  "kernelspec": {
   "display_name": "Python 3 (ipykernel)",
   "language": "python",
   "name": "python3"
  },
  "language_info": {
   "codemirror_mode": {
    "name": "ipython",
    "version": 3
   },
   "file_extension": ".py",
   "mimetype": "text/x-python",
   "name": "python",
   "nbconvert_exporter": "python",
   "pygments_lexer": "ipython3",
   "version": "3.9.13"
  }
 },
 "nbformat": 4,
 "nbformat_minor": 2
}
