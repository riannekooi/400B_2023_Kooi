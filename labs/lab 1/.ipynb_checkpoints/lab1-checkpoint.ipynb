{
 "cells": [
  {
   "cell_type": "markdown",
   "metadata": {},
   "source": [
    "# In Class Lab 1\n",
    "\n",
    "### Due by 5 PM Jan 31st in your github repository 'Labs/Lab1' folder\n",
    "\n",
    "## Part A:  The Local Standard of Rest\n",
    "Proper motion of Sgr A* from Reid & Brunthaler 2004\n",
    "$\\mu = 6.379$ mas/yr \n",
    "\n",
    "Peculiar motion of the sun, $v_\\odot$ = 12.24 km/s  (Schonrich 2010)\n",
    "\n",
    "\n",
    "$v_{tan} = 4.74 \\frac{\\mu}{\\rm mas/yr} \\frac{R_o}{\\rm kpc} = V_{LSR} + v_\\odot$\n",
    "\n",
    "\n",
    "### a)\n",
    "\n",
    "Create a function called VLSR to compute the local standard of res (V$_{LSR}$).\n",
    "\n",
    "The function should take as input: the solar radius (R$_o$), the proper motion (mu)\n",
    "and the peculiar motion of the sun in the $v_\\odot$ direction.\n",
    "\n",
    "Compute V$_{LSR}$ using three different values R$_o$: \n",
    "1. Water Maser Distance for the Sun :  R$_o$ = 8.34 kpc   (Reid 2014 ApJ 783) \n",
    "2. GRAVITY Collaboration Distance for the Sun:  R$_o$ = 8.178 kpc   (Abuter+2019 A&A 625)\n",
    "3. Value for Distance to Sun listed in Sparke & Gallagher : R$_o$ = 7.9 kpc \n"
   ]
  },
  {
   "cell_type": "code",
   "execution_count": 1,
   "metadata": {},
   "outputs": [],
   "source": [
    "# Import Modules \n",
    "import numpy as np # import numpy\n",
    "import astropy.units as u # import astropy units\n",
    "from astropy import constants as const # import astropy constants"
   ]
  },
  {
   "cell_type": "code",
   "execution_count": 2,
   "metadata": {},
   "outputs": [],
   "source": [
    "def VLSR(Ro, mu=6.379, vsun=12.24*u.km/u.s):\n",
    "    \"\"\"\n",
    "    This function calculates the local standard of rest (VLSR) where we are in the galaxy\n",
    "    by using different measurements of the distance of the Sun from the Galactic Center.\n",
    "                            vlsr = 4.74*mu*Ro - vsun\n",
    "    Inputs:\n",
    "    - Ro: astropy quantity\n",
    "            the Sun's distance to the Galactic Center in kpc.\n",
    "    - mu: float\n",
    "            the proper motion of Sag A* in mas/yr. default is from Reid & Brunthaler (2004)\n",
    "    - vsun: astropy quantity\n",
    "            the peculiar motion of the Sun in km/s. default is from Schonrich (2010)\n",
    "\n",
    "    Output: \n",
    "    - vlsr: astropy quantity\n",
    "            the local standard of rest\n",
    "    \"\"\"\n",
    "    \n",
    "    vlsr = 4.74*mu*(Ro/u.kpc)*u.km/u.s - vsun\n",
    "    return vlsr"
   ]
  },
  {
   "cell_type": "code",
   "execution_count": 3,
   "metadata": {},
   "outputs": [],
   "source": [
    "Ro_Reid = 8.34*u.kpc # distance from Reid+2014, in kpc\n",
    "Ro_GRAVITY = 8.178*u.kpc # distance from the GRAVITY Collaboration Distance+2019, in kpc\n",
    "Ro_SG = 7.9*u.kpc # distance from the textbook by Sparke & Gallagher"
   ]
  },
  {
   "cell_type": "code",
   "execution_count": 4,
   "metadata": {},
   "outputs": [
    {
     "name": "stdout",
     "output_type": "stream",
     "text": [
      "VLSR based on Reid+2014: 239.932 km / s\n"
     ]
    }
   ],
   "source": [
    "# compute VLSR based on Reid+2014\n",
    "VLSR_Reid = VLSR(Ro_Reid)\n",
    "print('VLSR based on Reid+2014:', np.round(VLSR_Reid, 3))"
   ]
  },
  {
   "cell_type": "code",
   "execution_count": 5,
   "metadata": {},
   "outputs": [
    {
     "name": "stdout",
     "output_type": "stream",
     "text": [
      "VLSR based on GRAVITY+2019: 235.034 km / s\n"
     ]
    }
   ],
   "source": [
    "# compute VLSR based on GRAVITY+2019\n",
    "VLSR_GRAVITY = VLSR(Ro_GRAVITY)\n",
    "print('VLSR based on GRAVITY+2019:', np.round(VLSR_GRAVITY, 3))"
   ]
  },
  {
   "cell_type": "code",
   "execution_count": 6,
   "metadata": {},
   "outputs": [
    {
     "name": "stdout",
     "output_type": "stream",
     "text": [
      "VLSR based on Sparke & Gallagher: 227.0 km / s\n"
     ]
    }
   ],
   "source": [
    "# computer VLSR based on the textbook by Sparke & Gallagher\n",
    "VLSR_SG = VLSR(Ro_SG)\n",
    "print('VLSR based on Sparke & Gallagher:', np.round(VLSR_SG))"
   ]
  },
  {
   "cell_type": "markdown",
   "metadata": {},
   "source": [
    "### b)\n",
    "\n",
    "compute the orbital period of the sun in Gyr using R$_o$ from the GRAVITY Collaboration (assume circular orbit)\n",
    "\n",
    "Note that 1 km/s $\\sim$ 1kpc/Gyr"
   ]
  },
  {
   "cell_type": "code",
   "execution_count": 7,
   "metadata": {},
   "outputs": [],
   "source": [
    "def TorbSun(R, V):\n",
    "    \"\"\"\n",
    "    This function computes the orbital period of the Sun.\n",
    "                            T = 2pi*R/V\n",
    "    Inputs:\n",
    "    - R: astropy quantity\n",
    "            the Sun's distance to the Galactic Center in kpc.\n",
    "    - V: astropy quantity\n",
    "            the velocity of the Sun in km/s.\n",
    "\n",
    "    Output: \n",
    "    - T: astropy quantity\n",
    "            the orbital period of the Sun around the Galactic Center in Gyr.\n",
    "    \"\"\"\n",
    "    \n",
    "    VkpcGyr = V.to(u.kpc/u.Gyr) # converting velocity input from km/s to kpc/Gyr\n",
    "    T = 2*np.pi*R / VkpcGyr\n",
    "    return T"
   ]
  },
  {
   "cell_type": "code",
   "execution_count": 8,
   "metadata": {},
   "outputs": [
    {
     "name": "stdout",
     "output_type": "stream",
     "text": [
      "Sun's orbital period based on GRAVITY+2019: 0.20318680562272234 Gyr\n"
     ]
    }
   ],
   "source": [
    "# the Sun's tangential velocity = VLSR + peculiar motion\n",
    "Vsun_peculiar = 12.24*u.km/u.s\n",
    "Vsun = VLSR_GRAVITY + Vsun_peculiar\n",
    "\n",
    "# compute Sun's orbital period based on GRAVITY+2019\n",
    "Torb_GRAVITY = TorbSun(Ro_GRAVITY, Vsun)\n",
    "print(\"Sun's orbital period based on GRAVITY+2019:\", Torb_GRAVITY)"
   ]
  },
  {
   "cell_type": "markdown",
   "metadata": {},
   "source": [
    "### c)\n",
    "\n",
    "Compute the number of rotations about the GC over the age of the universe (13.8 Gyr)"
   ]
  },
  {
   "cell_type": "code",
   "execution_count": 9,
   "metadata": {},
   "outputs": [
    {
     "name": "stdout",
     "output_type": "stream",
     "text": [
      "67.91779593023313\n"
     ]
    }
   ],
   "source": [
    "# the number of rotations = age of universe / Sun's orbital period\n",
    "\n",
    "Age = 13.8*u.Gyr \n",
    "print(Age / Torb_GRAVITY)"
   ]
  },
  {
   "cell_type": "markdown",
   "metadata": {},
   "source": [
    "## Part B  Dark Matter Density Profiles\n",
    "\n",
    "### a)\n",
    "Try out Fitting Rotation Curves \n",
    "[here](http://wittman.physics.ucdavis.edu/Animations/RotationCurve/GalacticRotation.html)\n",
    "\n",
    "\n",
    "### b)\n",
    "\n",
    "\n",
    "In the Isothermal Sphere model, what is the mass enclosed within the solar radius (R$_o$) in units of M$_\\odot$? \n",
    "\n",
    "Recall that for the Isothermal sphere :\n",
    "$\\rho(r) = \\frac{V_{LSR}^2}{4\\pi G r^2}$\n",
    "\n",
    "Where $G$ = 4.4985e-6 kpc$^3$/Gyr$^2$/M$_\\odot$, r is in kpc and $V_{LSR}$ is in km/s\n",
    "\n",
    "What about at 260 kpc (in units of  M$_\\odot$) ? "
   ]
  },
  {
   "cell_type": "code",
   "execution_count": 10,
   "metadata": {},
   "outputs": [],
   "source": [
    "# this converts the gravitational constant given by astropy into the desired units\n",
    "\n",
    "Grav = const.G.to(u.kpc**3/u.Gyr**2/u.Msun)"
   ]
  },
  {
   "cell_type": "code",
   "execution_count": 11,
   "metadata": {},
   "outputs": [],
   "source": [
    "# density: rho = VLSR**2 / (4pi*G*r**2)\n",
    "# mass = integrate rho\n",
    "#      = rho (4pi*G*r**2) dr\n",
    "#      = VLSR**2 / (4pi*G*r**2) * (4*pi*r**2) dr\n",
    "#      = VLSR**2 / Gr\n",
    "\n",
    "def MassIso(r, VLSR):\n",
    "    \"\"\"\n",
    "    This function computes the dark matter mass enclosed within a given distance,\n",
    "    given an isothermal sphere model for the dark matter.\n",
    "                                mass = VLSR**2 / Gr\n",
    "    Inputs:\n",
    "    - r: astropy quantity\n",
    "            distance to the Galactic Center in kpc.\n",
    "    - VLSR: astropy quantity\n",
    "            velocity of the local standard of rest in km/s.\n",
    "            \n",
    "    Output:\n",
    "    - MassIso: the mass enclosed within r in Msun.\n",
    "    \"\"\"\n",
    "    \n",
    "    VLSR_kpcGyr = VLSR.to(u.kpc/u.Gyr) # converting VLSR units into kpc/Gyr\n",
    "    MassIso = VLSR_kpcGyr**2 / Grav*r\n",
    "    return MassIso"
   ]
  },
  {
   "cell_type": "code",
   "execution_count": 12,
   "metadata": {},
   "outputs": [
    {
     "name": "stdout",
     "output_type": "stream",
     "text": [
      "1.05e+11 solMass\n"
     ]
    }
   ],
   "source": [
    "# compute mass within the distance of the Sun from the Galactic Center as measured by GRAVITY+2019\n",
    "\n",
    "MassIso_GRAVITY = MassIso(Ro_GRAVITY, VLSR_GRAVITY)\n",
    "print(f\"{MassIso_GRAVITY:.2e}\")"
   ]
  },
  {
   "cell_type": "code",
   "execution_count": 13,
   "metadata": {},
   "outputs": [
    {
     "name": "stdout",
     "output_type": "stream",
     "text": [
      "3.34e+12 solMass\n"
     ]
    }
   ],
   "source": [
    "# compute mass within 260 kpc\n",
    "\n",
    "MassIso_260kpc = MassIso(260*u.kpc, VLSR_GRAVITY)\n",
    "print(f\"{MassIso_260kpc:.2e}\")"
   ]
  },
  {
   "cell_type": "markdown",
   "metadata": {},
   "source": [
    "## c) \n",
    "\n",
    "The Leo I satellite is one of the fastest moving satellite galaxies we know. \n",
    "\n",
    "\n",
    "It is moving with 3D velocity of magnitude: Vtot = 196 km/s at a distance of 260 kpc (Sohn 2013 ApJ 768)\n",
    "\n",
    "If we assume that Leo I is moving at the escape speed:\n",
    "\n",
    "$v_{esc}^2 = 2|\\Phi| = 2 \\int G \\frac{\\rho(r)}{r}dV $ \n",
    "\n",
    "and assuming the Milky Way is well modeled by a Hernquist Sphere with a scale radius of $a$= 30 kpc, what is the minimum mass of the Milky Way (in units of M$_\\odot$) ?  \n",
    "\n",
    "How does this compare to estimates of the mass assuming the Isothermal Sphere model at 260 kpc (from your answer above)"
   ]
  },
  {
   "cell_type": "code",
   "execution_count": null,
   "metadata": {},
   "outputs": [],
   "source": []
  }
 ],
 "metadata": {
  "kernelspec": {
   "display_name": "Python 3 (ipykernel)",
   "language": "python",
   "name": "python3"
  },
  "language_info": {
   "codemirror_mode": {
    "name": "ipython",
    "version": 3
   },
   "file_extension": ".py",
   "mimetype": "text/x-python",
   "name": "python",
   "nbconvert_exporter": "python",
   "pygments_lexer": "ipython3",
   "version": "3.9.13"
  }
 },
 "nbformat": 4,
 "nbformat_minor": 2
}
