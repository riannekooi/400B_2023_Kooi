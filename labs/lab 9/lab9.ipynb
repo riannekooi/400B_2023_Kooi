{
 "cells": [
  {
   "cell_type": "markdown",
   "metadata": {
    "ExecuteTime": {
     "end_time": "2020-01-26T08:48:31.926693Z",
     "start_time": "2020-01-26T08:48:31.923116Z"
    }
   },
   "source": [
    "# Lab 9 Dynamical Friction\n",
    "\n",
    "Starting from the Homework 7 Solutions, add Dynamical Friction to better match the simulation data. \n",
    "\n"
   ]
  },
  {
   "cell_type": "code",
   "execution_count": 3,
   "metadata": {
    "ExecuteTime": {
     "end_time": "2020-03-16T03:13:30.748911Z",
     "start_time": "2020-03-16T03:13:30.745053Z"
    }
   },
   "outputs": [
    {
     "data": {
      "text/latex": [
       "MW halo Mass: $1.975\\times 10^{12}M_{\\odot}$"
      ],
      "text/plain": [
       "<IPython.core.display.Latex object>"
      ]
     },
     "metadata": {},
     "output_type": "display_data"
    },
    {
     "data": {
      "text/latex": [
       "MW disk Mass: $0.075\\times 10^{12}M_{\\odot}$"
      ],
      "text/plain": [
       "<IPython.core.display.Latex object>"
      ]
     },
     "metadata": {},
     "output_type": "display_data"
    },
    {
     "data": {
      "text/latex": [
       "MW bulge Mass: $0.010\\times 10^{12}M_{\\odot}$"
      ],
      "text/plain": [
       "<IPython.core.display.Latex object>"
      ]
     },
     "metadata": {},
     "output_type": "display_data"
    },
    {
     "data": {
      "text/latex": [
       "MW total Mass: $2.060\\times 10^{12}M_{\\odot}$"
      ],
      "text/plain": [
       "<IPython.core.display.Latex object>"
      ]
     },
     "metadata": {},
     "output_type": "display_data"
    },
    {
     "data": {
      "text/latex": [
       "MW baryon fraction $f_{bar} = 0.041$"
      ],
      "text/plain": [
       "<IPython.core.display.Latex object>"
      ]
     },
     "metadata": {},
     "output_type": "display_data"
    },
    {
     "data": {
      "text/latex": [
       "M31 Halo Mass: $1.921\\times 10^{12}M_{\\odot}$"
      ],
      "text/plain": [
       "<IPython.core.display.Latex object>"
      ]
     },
     "metadata": {},
     "output_type": "display_data"
    },
    {
     "data": {
      "text/latex": [
       "M31 Disk Mass: $0.120\\times 10^{12}M_{\\odot}$"
      ],
      "text/plain": [
       "<IPython.core.display.Latex object>"
      ]
     },
     "metadata": {},
     "output_type": "display_data"
    },
    {
     "data": {
      "text/latex": [
       "M31 Bulge Mass: $0.019\\times 10^{12}M_{\\odot}$"
      ],
      "text/plain": [
       "<IPython.core.display.Latex object>"
      ]
     },
     "metadata": {},
     "output_type": "display_data"
    },
    {
     "data": {
      "text/latex": [
       "M31 Total Mass: $2.060\\times 10^{12}M_{\\odot}$"
      ],
      "text/plain": [
       "<IPython.core.display.Latex object>"
      ]
     },
     "metadata": {},
     "output_type": "display_data"
    },
    {
     "data": {
      "text/latex": [
       "M31 baryon fraction $f_{bar} = 0.067$"
      ],
      "text/plain": [
       "<IPython.core.display.Latex object>"
      ]
     },
     "metadata": {},
     "output_type": "display_data"
    },
    {
     "data": {
      "text/latex": [
       "M33 Halo Mass: $0.187\\times 10^{12}M_{\\odot}$"
      ],
      "text/plain": [
       "<IPython.core.display.Latex object>"
      ]
     },
     "metadata": {},
     "output_type": "display_data"
    },
    {
     "data": {
      "text/latex": [
       "M33 Disk Mass: $0.009\\times 10^{12}M_{\\odot}$"
      ],
      "text/plain": [
       "<IPython.core.display.Latex object>"
      ]
     },
     "metadata": {},
     "output_type": "display_data"
    },
    {
     "data": {
      "text/latex": [
       "M33 Total Mass: $0.196\\times 10^{12}M_{\\odot}$"
      ],
      "text/plain": [
       "<IPython.core.display.Latex object>"
      ]
     },
     "metadata": {},
     "output_type": "display_data"
    },
    {
     "data": {
      "text/latex": [
       "M33 baryon fraction $f_{bar} = 0.046$"
      ],
      "text/plain": [
       "<IPython.core.display.Latex object>"
      ]
     },
     "metadata": {},
     "output_type": "display_data"
    },
    {
     "data": {
      "text/latex": [
       "Local Group Mass: $4.316\\times 10^{12}M_{\\odot}$"
      ],
      "text/plain": [
       "<IPython.core.display.Latex object>"
      ]
     },
     "metadata": {},
     "output_type": "display_data"
    },
    {
     "name": "stdout",
     "output_type": "stream",
     "text": [
      "\n",
      "Galaxy Name  | Halo Mass   |  Disk Mass   | Bulge Mass  | Total Mass  | f_bar \n",
      "             | [1e12 Msun] |  [1e12 Msun] | [1e12 Msun] | [1e12 Msun] |       \n",
      "-------------|-------------|--------------|-------------|-------------|-------\n",
      " Milky Way   | 1.975       | 0.075        | 0.010       | 2.060       | 0.041   \n",
      " M31         | 1.921       | 0.120        | 0.019       | 2.060       | 0.067   \n",
      " M33         | 0.187       | 0.009        | -           | 0.196       | 0.046   \n",
      " Local Group | -           | -            | -           | 4.316       | 0.054   \n",
      "\n"
     ]
    }
   ],
   "source": [
    "# import necessary modules\n",
    "# numpy provides powerful multi-dimensional arrays to hold and manipulate data\n",
    "import numpy as np\n",
    "# matplotlib provides powerful functions for plotting figures\n",
    "import matplotlib.pyplot as plt\n",
    "# astropy provides unit system and constants for astronomical calculations\n",
    "import astropy.units as u\n",
    "import astropy.constants as const\n",
    "# import Latex module so we can display the results with symbols\n",
    "from IPython.display import Latex\n",
    "%matplotlib inline\n",
    "\n",
    "# import the CenterOfMass to determine the COM pos/vel of M33\n",
    "from CenterOfMass2 import CenterOfMass\n",
    "# import the GalaxyMass to determine the mass of M31 for each component\n",
    "from GalaxyMass import ComponentMass"
   ]
  },
  {
   "cell_type": "markdown",
   "metadata": {},
   "source": [
    "# M33AnalyticOrbit - Version 2\n",
    "\n",
    "1. Add a new variable to the initialization for the class,  `self.M33halo`,  that defines M33's halo mass.\n",
    "\n",
    "2. Add a new varaible to the initialization of the class, `self.Vc`, the circular speed of the halo at large radii from M31.\n",
    "\n",
    "3. Add a function called `DynamicalFriction` that takes as inputs (Msat,r,v), and computes the acceleration, assuming an isothermal sphere profile for the dark matter halo of M31.\n",
    "\n",
    "$ {\\bf a} =  -0.428 \\frac{GM_{\\rm sat} \\rm{ln}(\\Lambda)}{r^2} \\frac{\\bf v}{v} $ \n",
    "\n",
    "Where the ${\\rm ln}(\\Lambda)$ is the Coulomb logairthm \n",
    "\n",
    "$\\Lambda = \\frac{bmax}{bmin} $\n",
    "\n",
    "$bmax$ = the current separation between M31 and M33 and \n",
    "\n",
    "$bmin = \\frac{GM_{sat}}{V_c^2}$\n",
    "\n",
    "4. Include this function in M33Accel.  Note that it will require a new input, v (velocity vector). This must be accounted for also when M33Accel is called in LeapFrog \n",
    "\n",
    "5. If the orbit doesn't match well. Add a fudge factor (`self.fudge`) that is some fraction of 1 to decrease the strength of the dynamical friction term. \n",
    "\n",
    "6. What other reasons might there be for why the orbits don't match?"
   ]
  },
  {
   "cell_type": "code",
   "execution_count": 15,
   "metadata": {
    "ExecuteTime": {
     "end_time": "2020-03-16T03:08:14.820296Z",
     "start_time": "2020-03-16T03:08:14.800707Z"
    }
   },
   "outputs": [],
   "source": [
    "class M33AnalyticOrbit:\n",
    "    '''Class that integrates the orbit of M33 based on the analytic form of M31's potential'''\n",
    "    \n",
    "    \n",
    "    def __init__(self, filename):\n",
    "        '''\n",
    "        This class uses leapfrog integration to calculate the orbit of M33 around M31,\n",
    "        using the analytic potentials for each of M31's components.\n",
    "\n",
    "        PARAMETERS\n",
    "        ----------\n",
    "        filename : `str`\n",
    "            Name of the file in which to store the orbit\n",
    "        '''    \n",
    "        \n",
    "        # get the gravitational constant (the value is 4.498502151575286e-06)\n",
    "        self.G = const.G.to(u.kpc**3/u.Msun/u.Gyr**2).value\n",
    "        \n",
    "        # store the output file name\n",
    "        self.filename = filename\n",
    "        \n",
    "        # get the COM position and velocity of each galaxy using disk particles\n",
    "        \n",
    "        # COM object \n",
    "        com_M31 = CenterOfMass('M31_000.txt', 2) # COM object for M31\n",
    "        com_M33 = CenterOfMass('M33_000.txt', 2) # COM object for M33\n",
    "        # COM Pos and Velocity for M31\n",
    "        com_p_M31 = com_M31.COM_P(volDec=2, delta=0.1)\n",
    "        com_v_M31 = com_M31.COM_V(com_p_M31[0], com_p_M31[1], com_p_M31[2])\n",
    "        # COM Pos and Velocity for for M33\n",
    "        com_p_M33 = com_M33.COM_P(volDec=4, delta=0.1)\n",
    "        com_v_M33 = com_M33.COM_V(com_p_M33[0], com_p_M33[1], com_p_M33[2])\n",
    "\n",
    "        # set up initial conditions (M33 pos and velocity relative to M31)\n",
    "        self.r0 = (com_p_M33 - com_p_M31).value # separation vector in kpc\n",
    "        self.v0 = (com_v_M33 - com_v_M31).value # relative velocity in km/s\n",
    "             \n",
    "            \n",
    "            \n",
    "        # set up M31 potential parameters\n",
    "        \n",
    "        # M31 disk\n",
    "        self.rdisk = 5.0 # disk scale length in kpc\n",
    "        self.Mdisk = ComponentMass(\"M31_000.txt\", 2)*1e12 # disk mass in Msun\n",
    "        \n",
    "        # M31 bulge\n",
    "        self.rbulge = 1.0 # bulge scale length in kpc\n",
    "        self.Mbulge = ComponentMass(\"M31_000.txt\", 3)*1e12 # bulge mass in Msun\n",
    "        \n",
    "        # M31 Halo\n",
    "        self.rhalo = 61.58 # Halo Scale Length: use the Hernquist scale length, computed in HW5\n",
    "        self.Mhalo = ComponentMass(\"M31_000.txt\", 1)*1e12  # halo mass in Msun\n",
    "     \n",
    "        \n",
    "        ### ADD M33 HALO MASS HERE ####\n",
    "        self.M33halo = ComponentMass(\"M33_000.txt\", 1)*1e12 # halo mass in Msun\n",
    "    \n",
    "    \n",
    "        ### ADD M31 CIRCULAR SPEED HERE ###\n",
    "        self.Vc = 180 # Circular speed in km/w (M31 Halo Vcirc from Hmwk 5)\n",
    "\n",
    "        \n",
    "        ### Fudge factor ## \n",
    "    \n",
    "    \n",
    "    \n",
    "    \n",
    "    def HernquistAccel(self, M, r_a, r):\n",
    "        '''\n",
    "        This method computes the 3-D acceleration due to a Hernquist potential.\n",
    "\n",
    "        PARAMETERS\n",
    "        ----------\n",
    "        M : `float`\n",
    "            Total mass responsible for the potential in Msun\n",
    "        r_a : `float`\n",
    "            Scale length in kpc\n",
    "        r : `np.ndarray`\n",
    "            Position vector to find the acceleration at\n",
    "\n",
    "        RETURNS\n",
    "        -------\n",
    "        a : `np.ndarray`\n",
    "            Acceleration vector in kpc/Gyr^2\n",
    "        '''\n",
    "\n",
    "        # follow the formula in the HW instructions\n",
    "        r_mag = np.sqrt(np.sum(r**2))\n",
    "        \n",
    "        # Acceleration for a Hernquist Potential\n",
    "        # Terms that are constant per component\n",
    "        M_const = self.G * M / (r_mag * (r_a + r_mag)**2) \n",
    "        a = -M_const*r # acceleration per component\n",
    "        \n",
    "        return a\n",
    "    \n",
    "    \n",
    "    \n",
    "    def MiyamotoNagaiAccel(self, M, rd, r):\n",
    "        '''\n",
    "        This method computes the 3-D acceleration due to a Miyamoto-Nagai disk.\n",
    "\n",
    "        PARAMETERS\n",
    "        ----------\n",
    "        M : `float`\n",
    "            Disk mass responsible for the potential in Msun\n",
    "        r_d : `float`\n",
    "            Disk scale length in kpc\n",
    "        r : `np.ndarray`\n",
    "            Position vector to find the acceleration (kpc)\n",
    "\n",
    "        RETURNS\n",
    "        -------\n",
    "        a : `np.ndarray`\n",
    "            Acceleration vector in kpc/Gyr^2\n",
    "        '''\n",
    "        # follow the formula for a Miyamoto-Nagai Disk from the HW instructions\n",
    "       \n",
    "        # Intermediate Terms\n",
    "        R2 = np.sum(r[:2]**2)\n",
    "        zd = rd / 5.0\n",
    "        B = rd + np.sqrt(r[2]**2 + zd**2)\n",
    "        \n",
    "        # constant term in all three components\n",
    "        M_const = self.G * M / (R2 + B**2)**1.5\n",
    "        \n",
    "        # vector of additional terms\n",
    "        # the np.array allows for a different value for the z component of the acceleration\n",
    "        vec = np.array([1., 1., B/np.sqrt(r[2]**2 + zd**2)])\n",
    "        \n",
    "        # Acceleration\n",
    "        a = -M_const*vec*r\n",
    "       \n",
    "        return a\n",
    "     \n",
    "    \n",
    "    ########### ADD Dynamical Friction Method Here ##################\n",
    "    def DynamicalFriction(self, Msat, Vc, r, v):\n",
    "        \"\"\" Method that returns the deceleration from dynamical friction\n",
    "        a = -0.428 G Msat ln(Lambda) /rmag^2 * v/vmag\n",
    "        \n",
    "        PARAMETERS\n",
    "        ----------\n",
    "        Msat: `float`\n",
    "            Mass of the satellite (M33) in Msun\n",
    "        \n",
    "        Vc: `float`\n",
    "            Max circular velocity of the host's (M31) dark matter halo (km/s)\n",
    "        \n",
    "        r: `np.ndarray`\n",
    "            Position vector of the satellite relative to the host (rM33-rM31) in kpc\n",
    "        \n",
    "        v: `np.ndarray`\n",
    "            Velocity vector of the satellite relative to the host (vM33-vM31) in km/s\n",
    "            \n",
    "        OUTPUTS\n",
    "        -------\n",
    "        DF: `np.ndarray`\n",
    "            Deceleration vector owing to Dynamical Friction (km/s^2)\n",
    "        \n",
    "        \"\"\"\n",
    "        \n",
    "        r_mag = np.sqrt(r[0]**2 + r[1]**2 + r[2]**2) # magnitude of the position vector\n",
    "        v_mag = np.sqrt(v[0]**2 + v[1]**2 + v[2]**2) # magnitude of the velocity vector\n",
    "        \n",
    "        bmax = r_mag # current separation between M33 and M31\n",
    "        \n",
    "        bmin = self.G*Msat/Vc**2 # G Msat/ Vc**2\n",
    "        \n",
    "        Coulomb = np.log(bmax/bmin)\n",
    "        \n",
    "        DF = -0.428*self.G*Msat*Coulomb/r_mag**2*v/v_mag\n",
    "        \n",
    "        return DF \n",
    "\n",
    "        \n",
    "        \n",
    "     ##### ADD v to M31Accel input #### \n",
    "    def M31Accel(self, r, v):\n",
    "        '''\n",
    "        This method computes the 3-D acceleration due to M31.\n",
    "\n",
    "        PARAMETERS\n",
    "        ----------\n",
    "        r : `np.ndarray`\n",
    "            Position vector to find the acceleration at\n",
    "        \n",
    "        v : `np.ndarray`\n",
    "            Velocity vector for DF calculation (km/s)\n",
    "\n",
    "        RETURNS\n",
    "        -------\n",
    "        a : `np.ndarray`\n",
    "            Acceleration vector in kpc/Gyr^2\n",
    "        '''\n",
    "        \n",
    "        # Compute the acceleration from each galaxy component\n",
    "        ahalo = self.HernquistAccel(self.Mhalo, self.rhalo, r) \n",
    "        abulge = self.HernquistAccel(self.Mbulge, self.rbulge, r) \n",
    "        adisk = self.MiyamotoNagaiAccel(self.Mdisk, self.rdisk, r)\n",
    "    \n",
    "        ###### ADD DYNAMICAL FRICTION HERE and include in \"a\"\n",
    "        aDF = self.DynamicalFriction(self.M33halo, self.Vc, r, v)\n",
    "\n",
    "        a = ahalo+abulge+adisk\n",
    "        \n",
    "        return a # return the total acceleration\n",
    "    \n",
    "    \n",
    "    def LeapFrog(self, dt, r, v):\n",
    "        '''This method is a leapfrog integrator for evolving the position\n",
    "        and velocity of M33 in time. One call produces one timestep.\n",
    "\n",
    "        PARAMETERS\n",
    "        ----------\n",
    "        dt : `float`\n",
    "            timestep in Gyr\n",
    "        r : `np.ndarray`\n",
    "            position vector at the start of the timestep in kpc\n",
    "        v : `np.ndarray`\n",
    "            velocity vector at the start of the timestep in km/s\n",
    "\n",
    "        RETURNS\n",
    "        -------\n",
    "        rnext : `np.ndarray`\n",
    "            position vector at the end of the timestep in kpc\n",
    "        vnext : `np.ndarray`\n",
    "            velocity vector at the end of the timestep in km/s\n",
    "        '''\n",
    "        \n",
    "        # predict the position at the next half timestep\n",
    "        r_half = r + v * (dt / 2.0)\n",
    "        \n",
    "        # compute the velocity at the next timestep\n",
    "        ##### ADD v as input to M31Accel ### \n",
    "        vnext = v + self.M31Accel(r_half) * dt\n",
    "        \n",
    "        # compute the position at the next timestep\n",
    "        rnext = r + (vnext+v) * dt / 2.0\n",
    "        \n",
    "        return rnext, vnext\n",
    "    \n",
    "    \n",
    "    \n",
    "    def OrbitIntegration(self, t0, dt, tmax):\n",
    "        '''This method integrates the orbit of M33 and stores the position\n",
    "            and velocity of M33 (in the COM frame of M31) at each timestep in a file. \n",
    "\n",
    "        PARAMETERS\n",
    "        ----------\n",
    "        t0 : `float`\n",
    "            Start time in Gyr\n",
    "        dt : `float`\n",
    "            Timestep in Gyr\n",
    "        tmax : `float`\n",
    "            End time in Gyr\n",
    "        ''' \n",
    "        \n",
    "        # find out how many timesteps we have\n",
    "        N_steps = int((tmax - t0)/dt)+1 # add 1 to account for the integer rounding\n",
    "        \n",
    "        # set up orbit array, two more rows than t/dt allow for storing the ICs\n",
    "        # and account for the rounding of the number of time intervals to an integer\n",
    "        orbit = np.zeros([N_steps+1, 7]) # first row will be for the ICs\n",
    "        #orbit = np.zeros([int(tmax/dt)+2, 7])\n",
    "        \n",
    "        \n",
    "        \n",
    "        # initialize the time , position, velocity\n",
    "        t = t0 # initial time\n",
    "        r = self.r0 # initial p\n",
    "        v = self.v0 # initial v\n",
    "        \n",
    "        # and store the ICs for M33 in the first row of the orbit file\n",
    "        # Initial time, initial position relative to M31, initial velocity relative to M31\n",
    "        orbit[0] = t0, *tuple(r), *tuple(v)\n",
    "        \n",
    "        \n",
    "        i = 1 # step counter, starts at 1 since the 0th timestep is the ICs above.\n",
    "        \n",
    "        # start the integration\n",
    "        while (t < tmax):\n",
    "            # update time\n",
    "            t += dt\n",
    "            \n",
    "            # update positions and velocities with the leapfrog function\n",
    "            r, v = self.LeapFrog(dt, r, v)\n",
    "            \n",
    "            # store system state\n",
    "            orbit[i] = t, *tuple(r), *tuple(v)\n",
    "            \n",
    "            # print progress and increment step counter\n",
    "            print(f'Finished step {i} of {N_steps}') \n",
    "            \n",
    "            i += 1 # update counter\n",
    "        \n",
    "        # write the data to a file\n",
    "        np.savetxt(self.filename, orbit, fmt = \"%11.3f\"*7, comments='#', \n",
    "                   header=\"{:>10s}{:>11s}{:>11s}{:>11s}{:>11s}{:>11s}{:>11s}\"\\\n",
    "                   .format('t', 'x', 'y', 'z', 'vx', 'vy', 'vz'))\n",
    "        "
   ]
  },
  {
   "cell_type": "code",
   "execution_count": 16,
   "metadata": {
    "ExecuteTime": {
     "end_time": "2020-03-16T03:08:17.670110Z",
     "start_time": "2020-03-16T03:08:17.664177Z"
    }
   },
   "outputs": [],
   "source": [
    "# ------------------ FUNCTIONS -------------------# \n",
    "\n",
    "# Set the format for reading in the orbit data files   \n",
    "orbit_type = np.dtype([('t', 'f8'), ('r', 'f8', 3), ('v', 'f8', 3)])\n",
    "\n",
    "\n",
    "def relative_mag(orbit1, orbit2): \n",
    "    \"\"\" Function to compute the relative separation and velocity using input orbit files for two galaxies, \n",
    "    where the orbit files have `orbit_type` formatting: np.dtype([('t', 'f8'), ('r', 'f8', 3), ('v', 'f8', 3)])\n",
    "\n",
    "    PARAMETERS\n",
    "    ----------\n",
    "    orbit1 : `np.ndarray' \n",
    "        first vector, assumed 'orbit_type' formatting\n",
    "    orbit2 : 'np.ndarray'\n",
    "        second vector, assumed 'orbit_type' formatting\n",
    "    RETURNS\n",
    "    -------\n",
    "    rel_pos : `float or np.ndarray`\n",
    "            |pos1 - pos2|\n",
    "    rel_vel :`float or np.ndarray`\n",
    "            |vel1 - vel2|\n",
    "    \"\"\"\n",
    "    \n",
    "    rel_pos = np.sqrt(np.sum((orbit1['r'] - orbit2['r'])**2, axis=1))\n",
    "    rel_vel = np.sqrt(np.sum((orbit1['v'] - orbit2['v'])**2, axis=1))\n",
    "    \n",
    "    return rel_pos,rel_vel\n",
    "                  \n",
    "                  \n",
    "def vector_mag(orbit):\n",
    "    \"\"\" Function to compute the magnitude of the separation and velocity using an input orbit file, \n",
    "    where the orbit files have `orbit_type` formatting: np.dtype([('t', 'f8'), ('r', 'f8', 3), ('v', 'f8', 3)])\n",
    "\n",
    "    PARAMETERS\n",
    "    ----------\n",
    "    orbit : `np.ndarray' \n",
    "        vector, assumed 'orbit_type' formatting\n",
    "        \n",
    "    RETURNS\n",
    "    --------\n",
    "    pos : `float or np.ndarray`\n",
    "         magnitude of the position\n",
    "    vel : `float or np.ndarray`\n",
    "         magnitude of the position  \n",
    "    \n",
    "    \"\"\"              \n",
    "    pos = np.sqrt(np.sum(orbit['r']**2, axis=1)) \n",
    "    vel = np.sqrt(np.sum(orbit['v']**2, axis=1))\n",
    "                      \n",
    "    return pos, vel"
   ]
  },
  {
   "cell_type": "code",
   "execution_count": 17,
   "metadata": {
    "ExecuteTime": {
     "end_time": "2020-03-16T03:08:16.418718Z",
     "start_time": "2020-03-16T03:08:15.552091Z"
    }
   },
   "outputs": [
    {
     "ename": "TypeError",
     "evalue": "COM_P() missing 1 required positional argument: 'galaxy'",
     "output_type": "error",
     "traceback": [
      "\u001b[0;31m---------------------------------------------------------------------------\u001b[0m",
      "\u001b[0;31mTypeError\u001b[0m                                 Traceback (most recent call last)",
      "\u001b[0;32m/var/folders/1h/z8n5ns0s4xz1pj0xl926qny40000gn/T/ipykernel_7398/3162871604.py\u001b[0m in \u001b[0;36m<module>\u001b[0;34m\u001b[0m\n\u001b[1;32m      3\u001b[0m \u001b[0;34m\u001b[0m\u001b[0m\n\u001b[1;32m      4\u001b[0m \u001b[0;31m# make instance of the orbit integrator class\u001b[0m\u001b[0;34m\u001b[0m\u001b[0;34m\u001b[0m\u001b[0m\n\u001b[0;32m----> 5\u001b[0;31m \u001b[0mM33\u001b[0m \u001b[0;34m=\u001b[0m \u001b[0mM33AnalyticOrbit\u001b[0m\u001b[0;34m(\u001b[0m\u001b[0;34m\"M33AnalyticOrbit_withDF.txt\"\u001b[0m\u001b[0;34m)\u001b[0m\u001b[0;34m\u001b[0m\u001b[0;34m\u001b[0m\u001b[0m\n\u001b[0m\u001b[1;32m      6\u001b[0m \u001b[0;34m\u001b[0m\u001b[0m\n\u001b[1;32m      7\u001b[0m \u001b[0;31m# Compute the orbit\u001b[0m\u001b[0;34m\u001b[0m\u001b[0;34m\u001b[0m\u001b[0m\n",
      "\u001b[0;32m/var/folders/1h/z8n5ns0s4xz1pj0xl926qny40000gn/T/ipykernel_7398/173666362.py\u001b[0m in \u001b[0;36m__init__\u001b[0;34m(self, filename)\u001b[0m\n\u001b[1;32m     26\u001b[0m         \u001b[0mcom_M33\u001b[0m \u001b[0;34m=\u001b[0m \u001b[0mCenterOfMass\u001b[0m\u001b[0;34m(\u001b[0m\u001b[0;34m'M33_000.txt'\u001b[0m\u001b[0;34m,\u001b[0m \u001b[0;36m2\u001b[0m\u001b[0;34m)\u001b[0m \u001b[0;31m# COM object for M33\u001b[0m\u001b[0;34m\u001b[0m\u001b[0;34m\u001b[0m\u001b[0m\n\u001b[1;32m     27\u001b[0m         \u001b[0;31m# COM Pos and Velocity for M31\u001b[0m\u001b[0;34m\u001b[0m\u001b[0;34m\u001b[0m\u001b[0m\n\u001b[0;32m---> 28\u001b[0;31m         \u001b[0mcom_p_M31\u001b[0m \u001b[0;34m=\u001b[0m \u001b[0mcom_M31\u001b[0m\u001b[0;34m.\u001b[0m\u001b[0mCOM_P\u001b[0m\u001b[0;34m(\u001b[0m\u001b[0mvolDec\u001b[0m\u001b[0;34m=\u001b[0m\u001b[0;36m2\u001b[0m\u001b[0;34m,\u001b[0m \u001b[0mdelta\u001b[0m\u001b[0;34m=\u001b[0m\u001b[0;36m0.1\u001b[0m\u001b[0;34m)\u001b[0m\u001b[0;34m\u001b[0m\u001b[0;34m\u001b[0m\u001b[0m\n\u001b[0m\u001b[1;32m     29\u001b[0m         \u001b[0mcom_v_M31\u001b[0m \u001b[0;34m=\u001b[0m \u001b[0mcom_M31\u001b[0m\u001b[0;34m.\u001b[0m\u001b[0mCOM_V\u001b[0m\u001b[0;34m(\u001b[0m\u001b[0mcom_p_M31\u001b[0m\u001b[0;34m[\u001b[0m\u001b[0;36m0\u001b[0m\u001b[0;34m]\u001b[0m\u001b[0;34m,\u001b[0m \u001b[0mcom_p_M31\u001b[0m\u001b[0;34m[\u001b[0m\u001b[0;36m1\u001b[0m\u001b[0;34m]\u001b[0m\u001b[0;34m,\u001b[0m \u001b[0mcom_p_M31\u001b[0m\u001b[0;34m[\u001b[0m\u001b[0;36m2\u001b[0m\u001b[0;34m]\u001b[0m\u001b[0;34m)\u001b[0m\u001b[0;34m\u001b[0m\u001b[0;34m\u001b[0m\u001b[0m\n\u001b[1;32m     30\u001b[0m         \u001b[0;31m# COM Pos and Velocity for for M33\u001b[0m\u001b[0;34m\u001b[0m\u001b[0;34m\u001b[0m\u001b[0m\n",
      "\u001b[0;31mTypeError\u001b[0m: COM_P() missing 1 required positional argument: 'galaxy'"
     ]
    }
   ],
   "source": [
    "# ------------------- MAIN ---------------------- #\n",
    "\n",
    "\n",
    "# make instance of the orbit integrator class\n",
    "M33 = M33AnalyticOrbit(\"M33AnalyticOrbit_withDF.txt\")\n",
    "\n",
    "# Compute the orbit\n",
    "M33.OrbitIntegration(0, 0.1, 10.)"
   ]
  },
  {
   "cell_type": "code",
   "execution_count": 18,
   "metadata": {
    "ExecuteTime": {
     "end_time": "2020-03-16T03:08:18.051139Z",
     "start_time": "2020-03-16T03:08:18.047567Z"
    }
   },
   "outputs": [
    {
     "ename": "OSError",
     "evalue": "M33AnalyticOrbit_withDF.txt not found.",
     "output_type": "error",
     "traceback": [
      "\u001b[0;31m---------------------------------------------------------------------------\u001b[0m",
      "\u001b[0;31mOSError\u001b[0m                                   Traceback (most recent call last)",
      "\u001b[0;32m/var/folders/1h/z8n5ns0s4xz1pj0xl926qny40000gn/T/ipykernel_7398/2561126632.py\u001b[0m in \u001b[0;36m<module>\u001b[0;34m\u001b[0m\n\u001b[1;32m      2\u001b[0m \u001b[0;34m\u001b[0m\u001b[0m\n\u001b[1;32m      3\u001b[0m \u001b[0;31m# Read in Orbit of M33 relative to M31 that we computed using LeapFrog\u001b[0m\u001b[0;34m\u001b[0m\u001b[0;34m\u001b[0m\u001b[0m\n\u001b[0;32m----> 4\u001b[0;31m \u001b[0mM33Orbit\u001b[0m \u001b[0;34m=\u001b[0m \u001b[0mnp\u001b[0m\u001b[0;34m.\u001b[0m\u001b[0mloadtxt\u001b[0m\u001b[0;34m(\u001b[0m\u001b[0;34m\"M33AnalyticOrbit_withDF.txt\"\u001b[0m\u001b[0;34m,\u001b[0m \u001b[0mdtype\u001b[0m\u001b[0;34m=\u001b[0m\u001b[0morbit_type\u001b[0m\u001b[0;34m)\u001b[0m\u001b[0;34m\u001b[0m\u001b[0;34m\u001b[0m\u001b[0m\n\u001b[0m\u001b[1;32m      5\u001b[0m \u001b[0;34m\u001b[0m\u001b[0m\n\u001b[1;32m      6\u001b[0m \u001b[0;31m#Determine the magnitude of the position and velocities of\u001b[0m\u001b[0;34m\u001b[0m\u001b[0;34m\u001b[0m\u001b[0m\n",
      "\u001b[0;32m~/opt/anaconda3/lib/python3.9/site-packages/numpy/lib/npyio.py\u001b[0m in \u001b[0;36mloadtxt\u001b[0;34m(fname, dtype, comments, delimiter, converters, skiprows, usecols, unpack, ndmin, encoding, max_rows, like)\u001b[0m\n\u001b[1;32m   1065\u001b[0m             \u001b[0mfname\u001b[0m \u001b[0;34m=\u001b[0m \u001b[0mos_fspath\u001b[0m\u001b[0;34m(\u001b[0m\u001b[0mfname\u001b[0m\u001b[0;34m)\u001b[0m\u001b[0;34m\u001b[0m\u001b[0;34m\u001b[0m\u001b[0m\n\u001b[1;32m   1066\u001b[0m         \u001b[0;32mif\u001b[0m \u001b[0m_is_string_like\u001b[0m\u001b[0;34m(\u001b[0m\u001b[0mfname\u001b[0m\u001b[0;34m)\u001b[0m\u001b[0;34m:\u001b[0m\u001b[0;34m\u001b[0m\u001b[0;34m\u001b[0m\u001b[0m\n\u001b[0;32m-> 1067\u001b[0;31m             \u001b[0mfh\u001b[0m \u001b[0;34m=\u001b[0m \u001b[0mnp\u001b[0m\u001b[0;34m.\u001b[0m\u001b[0mlib\u001b[0m\u001b[0;34m.\u001b[0m\u001b[0m_datasource\u001b[0m\u001b[0;34m.\u001b[0m\u001b[0mopen\u001b[0m\u001b[0;34m(\u001b[0m\u001b[0mfname\u001b[0m\u001b[0;34m,\u001b[0m \u001b[0;34m'rt'\u001b[0m\u001b[0;34m,\u001b[0m \u001b[0mencoding\u001b[0m\u001b[0;34m=\u001b[0m\u001b[0mencoding\u001b[0m\u001b[0;34m)\u001b[0m\u001b[0;34m\u001b[0m\u001b[0;34m\u001b[0m\u001b[0m\n\u001b[0m\u001b[1;32m   1068\u001b[0m             \u001b[0mfencoding\u001b[0m \u001b[0;34m=\u001b[0m \u001b[0mgetattr\u001b[0m\u001b[0;34m(\u001b[0m\u001b[0mfh\u001b[0m\u001b[0;34m,\u001b[0m \u001b[0;34m'encoding'\u001b[0m\u001b[0;34m,\u001b[0m \u001b[0;34m'latin1'\u001b[0m\u001b[0;34m)\u001b[0m\u001b[0;34m\u001b[0m\u001b[0;34m\u001b[0m\u001b[0m\n\u001b[1;32m   1069\u001b[0m             \u001b[0mfh\u001b[0m \u001b[0;34m=\u001b[0m \u001b[0miter\u001b[0m\u001b[0;34m(\u001b[0m\u001b[0mfh\u001b[0m\u001b[0;34m)\u001b[0m\u001b[0;34m\u001b[0m\u001b[0;34m\u001b[0m\u001b[0m\n",
      "\u001b[0;32m~/opt/anaconda3/lib/python3.9/site-packages/numpy/lib/_datasource.py\u001b[0m in \u001b[0;36mopen\u001b[0;34m(path, mode, destpath, encoding, newline)\u001b[0m\n\u001b[1;32m    191\u001b[0m \u001b[0;34m\u001b[0m\u001b[0m\n\u001b[1;32m    192\u001b[0m     \u001b[0mds\u001b[0m \u001b[0;34m=\u001b[0m \u001b[0mDataSource\u001b[0m\u001b[0;34m(\u001b[0m\u001b[0mdestpath\u001b[0m\u001b[0;34m)\u001b[0m\u001b[0;34m\u001b[0m\u001b[0;34m\u001b[0m\u001b[0m\n\u001b[0;32m--> 193\u001b[0;31m     \u001b[0;32mreturn\u001b[0m \u001b[0mds\u001b[0m\u001b[0;34m.\u001b[0m\u001b[0mopen\u001b[0m\u001b[0;34m(\u001b[0m\u001b[0mpath\u001b[0m\u001b[0;34m,\u001b[0m \u001b[0mmode\u001b[0m\u001b[0;34m,\u001b[0m \u001b[0mencoding\u001b[0m\u001b[0;34m=\u001b[0m\u001b[0mencoding\u001b[0m\u001b[0;34m,\u001b[0m \u001b[0mnewline\u001b[0m\u001b[0;34m=\u001b[0m\u001b[0mnewline\u001b[0m\u001b[0;34m)\u001b[0m\u001b[0;34m\u001b[0m\u001b[0;34m\u001b[0m\u001b[0m\n\u001b[0m\u001b[1;32m    194\u001b[0m \u001b[0;34m\u001b[0m\u001b[0m\n\u001b[1;32m    195\u001b[0m \u001b[0;34m\u001b[0m\u001b[0m\n",
      "\u001b[0;32m~/opt/anaconda3/lib/python3.9/site-packages/numpy/lib/_datasource.py\u001b[0m in \u001b[0;36mopen\u001b[0;34m(self, path, mode, encoding, newline)\u001b[0m\n\u001b[1;32m    531\u001b[0m                                       encoding=encoding, newline=newline)\n\u001b[1;32m    532\u001b[0m         \u001b[0;32melse\u001b[0m\u001b[0;34m:\u001b[0m\u001b[0;34m\u001b[0m\u001b[0;34m\u001b[0m\u001b[0m\n\u001b[0;32m--> 533\u001b[0;31m             \u001b[0;32mraise\u001b[0m \u001b[0mIOError\u001b[0m\u001b[0;34m(\u001b[0m\u001b[0;34m\"%s not found.\"\u001b[0m \u001b[0;34m%\u001b[0m \u001b[0mpath\u001b[0m\u001b[0;34m)\u001b[0m\u001b[0;34m\u001b[0m\u001b[0;34m\u001b[0m\u001b[0m\n\u001b[0m\u001b[1;32m    534\u001b[0m \u001b[0;34m\u001b[0m\u001b[0m\n\u001b[1;32m    535\u001b[0m \u001b[0;34m\u001b[0m\u001b[0m\n",
      "\u001b[0;31mOSError\u001b[0m: M33AnalyticOrbit_withDF.txt not found."
     ]
    }
   ],
   "source": [
    "# With DF \n",
    "\n",
    "# Read in Orbit of M33 relative to M31 that we computed using LeapFrog \n",
    "M33Orbit = np.loadtxt(\"M33AnalyticOrbit_withDF.txt\", dtype=orbit_type)\n",
    "\n",
    "#Determine the magnitude of the position and velocities of \n",
    "# the galaxies at each point in the orbit\n",
    "M31_M33_R, M31_M33_V = vector_mag(M33Orbit)\n"
   ]
  },
  {
   "cell_type": "code",
   "execution_count": 19,
   "metadata": {},
   "outputs": [
    {
     "ename": "OSError",
     "evalue": "M33AnalyticOrbit_Hmwk7.txt not found.",
     "output_type": "error",
     "traceback": [
      "\u001b[0;31m---------------------------------------------------------------------------\u001b[0m",
      "\u001b[0;31mOSError\u001b[0m                                   Traceback (most recent call last)",
      "\u001b[0;32m/var/folders/1h/z8n5ns0s4xz1pj0xl926qny40000gn/T/ipykernel_7398/1455282668.py\u001b[0m in \u001b[0;36m<module>\u001b[0;34m\u001b[0m\n\u001b[1;32m      2\u001b[0m \u001b[0;34m\u001b[0m\u001b[0m\n\u001b[1;32m      3\u001b[0m \u001b[0;31m# Read in Orbit of M33 relative to M31 Old, from Homework 7\u001b[0m\u001b[0;34m\u001b[0m\u001b[0;34m\u001b[0m\u001b[0m\n\u001b[0;32m----> 4\u001b[0;31m \u001b[0mM33Orbit_Hmwk7\u001b[0m \u001b[0;34m=\u001b[0m \u001b[0mnp\u001b[0m\u001b[0;34m.\u001b[0m\u001b[0mloadtxt\u001b[0m\u001b[0;34m(\u001b[0m\u001b[0;34m\"M33AnalyticOrbit_Hmwk7.txt\"\u001b[0m\u001b[0;34m,\u001b[0m \u001b[0mdtype\u001b[0m\u001b[0;34m=\u001b[0m\u001b[0morbit_type\u001b[0m\u001b[0;34m)\u001b[0m\u001b[0;34m\u001b[0m\u001b[0;34m\u001b[0m\u001b[0m\n\u001b[0m\u001b[1;32m      5\u001b[0m \u001b[0;34m\u001b[0m\u001b[0m\n\u001b[1;32m      6\u001b[0m \u001b[0;31m#Determine the magnitude of the position and velocities of\u001b[0m\u001b[0;34m\u001b[0m\u001b[0;34m\u001b[0m\u001b[0m\n",
      "\u001b[0;32m~/opt/anaconda3/lib/python3.9/site-packages/numpy/lib/npyio.py\u001b[0m in \u001b[0;36mloadtxt\u001b[0;34m(fname, dtype, comments, delimiter, converters, skiprows, usecols, unpack, ndmin, encoding, max_rows, like)\u001b[0m\n\u001b[1;32m   1065\u001b[0m             \u001b[0mfname\u001b[0m \u001b[0;34m=\u001b[0m \u001b[0mos_fspath\u001b[0m\u001b[0;34m(\u001b[0m\u001b[0mfname\u001b[0m\u001b[0;34m)\u001b[0m\u001b[0;34m\u001b[0m\u001b[0;34m\u001b[0m\u001b[0m\n\u001b[1;32m   1066\u001b[0m         \u001b[0;32mif\u001b[0m \u001b[0m_is_string_like\u001b[0m\u001b[0;34m(\u001b[0m\u001b[0mfname\u001b[0m\u001b[0;34m)\u001b[0m\u001b[0;34m:\u001b[0m\u001b[0;34m\u001b[0m\u001b[0;34m\u001b[0m\u001b[0m\n\u001b[0;32m-> 1067\u001b[0;31m             \u001b[0mfh\u001b[0m \u001b[0;34m=\u001b[0m \u001b[0mnp\u001b[0m\u001b[0;34m.\u001b[0m\u001b[0mlib\u001b[0m\u001b[0;34m.\u001b[0m\u001b[0m_datasource\u001b[0m\u001b[0;34m.\u001b[0m\u001b[0mopen\u001b[0m\u001b[0;34m(\u001b[0m\u001b[0mfname\u001b[0m\u001b[0;34m,\u001b[0m \u001b[0;34m'rt'\u001b[0m\u001b[0;34m,\u001b[0m \u001b[0mencoding\u001b[0m\u001b[0;34m=\u001b[0m\u001b[0mencoding\u001b[0m\u001b[0;34m)\u001b[0m\u001b[0;34m\u001b[0m\u001b[0;34m\u001b[0m\u001b[0m\n\u001b[0m\u001b[1;32m   1068\u001b[0m             \u001b[0mfencoding\u001b[0m \u001b[0;34m=\u001b[0m \u001b[0mgetattr\u001b[0m\u001b[0;34m(\u001b[0m\u001b[0mfh\u001b[0m\u001b[0;34m,\u001b[0m \u001b[0;34m'encoding'\u001b[0m\u001b[0;34m,\u001b[0m \u001b[0;34m'latin1'\u001b[0m\u001b[0;34m)\u001b[0m\u001b[0;34m\u001b[0m\u001b[0;34m\u001b[0m\u001b[0m\n\u001b[1;32m   1069\u001b[0m             \u001b[0mfh\u001b[0m \u001b[0;34m=\u001b[0m \u001b[0miter\u001b[0m\u001b[0;34m(\u001b[0m\u001b[0mfh\u001b[0m\u001b[0;34m)\u001b[0m\u001b[0;34m\u001b[0m\u001b[0;34m\u001b[0m\u001b[0m\n",
      "\u001b[0;32m~/opt/anaconda3/lib/python3.9/site-packages/numpy/lib/_datasource.py\u001b[0m in \u001b[0;36mopen\u001b[0;34m(path, mode, destpath, encoding, newline)\u001b[0m\n\u001b[1;32m    191\u001b[0m \u001b[0;34m\u001b[0m\u001b[0m\n\u001b[1;32m    192\u001b[0m     \u001b[0mds\u001b[0m \u001b[0;34m=\u001b[0m \u001b[0mDataSource\u001b[0m\u001b[0;34m(\u001b[0m\u001b[0mdestpath\u001b[0m\u001b[0;34m)\u001b[0m\u001b[0;34m\u001b[0m\u001b[0;34m\u001b[0m\u001b[0m\n\u001b[0;32m--> 193\u001b[0;31m     \u001b[0;32mreturn\u001b[0m \u001b[0mds\u001b[0m\u001b[0;34m.\u001b[0m\u001b[0mopen\u001b[0m\u001b[0;34m(\u001b[0m\u001b[0mpath\u001b[0m\u001b[0;34m,\u001b[0m \u001b[0mmode\u001b[0m\u001b[0;34m,\u001b[0m \u001b[0mencoding\u001b[0m\u001b[0;34m=\u001b[0m\u001b[0mencoding\u001b[0m\u001b[0;34m,\u001b[0m \u001b[0mnewline\u001b[0m\u001b[0;34m=\u001b[0m\u001b[0mnewline\u001b[0m\u001b[0;34m)\u001b[0m\u001b[0;34m\u001b[0m\u001b[0;34m\u001b[0m\u001b[0m\n\u001b[0m\u001b[1;32m    194\u001b[0m \u001b[0;34m\u001b[0m\u001b[0m\n\u001b[1;32m    195\u001b[0m \u001b[0;34m\u001b[0m\u001b[0m\n",
      "\u001b[0;32m~/opt/anaconda3/lib/python3.9/site-packages/numpy/lib/_datasource.py\u001b[0m in \u001b[0;36mopen\u001b[0;34m(self, path, mode, encoding, newline)\u001b[0m\n\u001b[1;32m    531\u001b[0m                                       encoding=encoding, newline=newline)\n\u001b[1;32m    532\u001b[0m         \u001b[0;32melse\u001b[0m\u001b[0;34m:\u001b[0m\u001b[0;34m\u001b[0m\u001b[0;34m\u001b[0m\u001b[0m\n\u001b[0;32m--> 533\u001b[0;31m             \u001b[0;32mraise\u001b[0m \u001b[0mIOError\u001b[0m\u001b[0;34m(\u001b[0m\u001b[0;34m\"%s not found.\"\u001b[0m \u001b[0;34m%\u001b[0m \u001b[0mpath\u001b[0m\u001b[0;34m)\u001b[0m\u001b[0;34m\u001b[0m\u001b[0;34m\u001b[0m\u001b[0m\n\u001b[0m\u001b[1;32m    534\u001b[0m \u001b[0;34m\u001b[0m\u001b[0m\n\u001b[1;32m    535\u001b[0m \u001b[0;34m\u001b[0m\u001b[0m\n",
      "\u001b[0;31mOSError\u001b[0m: M33AnalyticOrbit_Hmwk7.txt not found."
     ]
    }
   ],
   "source": [
    "# No DF \n",
    "\n",
    "# Read in Orbit of M33 relative to M31 Old, from Homework 7\n",
    "M33Orbit_Hmwk7 = np.loadtxt(\"M33AnalyticOrbit_Hmwk7.txt\", dtype=orbit_type)\n",
    "\n",
    "#Determine the magnitude of the position and velocities of \n",
    "# of MW and M31 : Homework 7 \n",
    "M31_M33_R_Hmwk7, M31_M33_V_Hmwk7 = vector_mag(M33Orbit_Hmwk7)\n",
    "\n"
   ]
  },
  {
   "cell_type": "code",
   "execution_count": 10,
   "metadata": {
    "ExecuteTime": {
     "end_time": "2020-03-16T03:08:16.977732Z",
     "start_time": "2020-03-16T03:08:16.968275Z"
    }
   },
   "outputs": [
    {
     "ename": "OSError",
     "evalue": "Orbit_M33.txt not found.",
     "output_type": "error",
     "traceback": [
      "\u001b[0;31m---------------------------------------------------------------------------\u001b[0m",
      "\u001b[0;31mOSError\u001b[0m                                   Traceback (most recent call last)",
      "\u001b[0;32m/var/folders/1h/z8n5ns0s4xz1pj0xl926qny40000gn/T/ipykernel_7398/2689981521.py\u001b[0m in \u001b[0;36m<module>\u001b[0;34m\u001b[0m\n\u001b[1;32m      2\u001b[0m \u001b[0;34m\u001b[0m\u001b[0m\n\u001b[1;32m      3\u001b[0m \u001b[0;31m# Read in simulation Orbit from Homework 6\u001b[0m\u001b[0;34m\u001b[0m\u001b[0;34m\u001b[0m\u001b[0m\n\u001b[0;32m----> 4\u001b[0;31m \u001b[0mM33SimOrbit\u001b[0m \u001b[0;34m=\u001b[0m \u001b[0mnp\u001b[0m\u001b[0;34m.\u001b[0m\u001b[0mgenfromtxt\u001b[0m\u001b[0;34m(\u001b[0m\u001b[0;34m'Orbit_M33.txt'\u001b[0m\u001b[0;34m,\u001b[0m \u001b[0mdtype\u001b[0m \u001b[0;34m=\u001b[0m \u001b[0morbit_type\u001b[0m\u001b[0;34m)\u001b[0m\u001b[0;34m\u001b[0m\u001b[0;34m\u001b[0m\u001b[0m\n\u001b[0m\u001b[1;32m      5\u001b[0m \u001b[0mM31SimOrbit\u001b[0m \u001b[0;34m=\u001b[0m \u001b[0mnp\u001b[0m\u001b[0;34m.\u001b[0m\u001b[0mgenfromtxt\u001b[0m\u001b[0;34m(\u001b[0m\u001b[0;34m'Orbit_M31.txt'\u001b[0m\u001b[0;34m,\u001b[0m \u001b[0mdtype\u001b[0m \u001b[0;34m=\u001b[0m \u001b[0morbit_type\u001b[0m\u001b[0;34m)\u001b[0m\u001b[0;34m\u001b[0m\u001b[0;34m\u001b[0m\u001b[0m\n\u001b[1;32m      6\u001b[0m \u001b[0;34m\u001b[0m\u001b[0m\n",
      "\u001b[0;32m~/opt/anaconda3/lib/python3.9/site-packages/numpy/lib/npyio.py\u001b[0m in \u001b[0;36mgenfromtxt\u001b[0;34m(fname, dtype, comments, delimiter, skip_header, skip_footer, converters, missing_values, filling_values, usecols, names, excludelist, deletechars, replace_space, autostrip, case_sensitive, defaultfmt, unpack, usemask, loose, invalid_raise, max_rows, encoding, like)\u001b[0m\n\u001b[1;32m   1791\u001b[0m             \u001b[0mfname\u001b[0m \u001b[0;34m=\u001b[0m \u001b[0mos_fspath\u001b[0m\u001b[0;34m(\u001b[0m\u001b[0mfname\u001b[0m\u001b[0;34m)\u001b[0m\u001b[0;34m\u001b[0m\u001b[0;34m\u001b[0m\u001b[0m\n\u001b[1;32m   1792\u001b[0m         \u001b[0;32mif\u001b[0m \u001b[0misinstance\u001b[0m\u001b[0;34m(\u001b[0m\u001b[0mfname\u001b[0m\u001b[0;34m,\u001b[0m \u001b[0mstr\u001b[0m\u001b[0;34m)\u001b[0m\u001b[0;34m:\u001b[0m\u001b[0;34m\u001b[0m\u001b[0;34m\u001b[0m\u001b[0m\n\u001b[0;32m-> 1793\u001b[0;31m             \u001b[0mfid\u001b[0m \u001b[0;34m=\u001b[0m \u001b[0mnp\u001b[0m\u001b[0;34m.\u001b[0m\u001b[0mlib\u001b[0m\u001b[0;34m.\u001b[0m\u001b[0m_datasource\u001b[0m\u001b[0;34m.\u001b[0m\u001b[0mopen\u001b[0m\u001b[0;34m(\u001b[0m\u001b[0mfname\u001b[0m\u001b[0;34m,\u001b[0m \u001b[0;34m'rt'\u001b[0m\u001b[0;34m,\u001b[0m \u001b[0mencoding\u001b[0m\u001b[0;34m=\u001b[0m\u001b[0mencoding\u001b[0m\u001b[0;34m)\u001b[0m\u001b[0;34m\u001b[0m\u001b[0;34m\u001b[0m\u001b[0m\n\u001b[0m\u001b[1;32m   1794\u001b[0m             \u001b[0mfid_ctx\u001b[0m \u001b[0;34m=\u001b[0m \u001b[0mcontextlib\u001b[0m\u001b[0;34m.\u001b[0m\u001b[0mclosing\u001b[0m\u001b[0;34m(\u001b[0m\u001b[0mfid\u001b[0m\u001b[0;34m)\u001b[0m\u001b[0;34m\u001b[0m\u001b[0;34m\u001b[0m\u001b[0m\n\u001b[1;32m   1795\u001b[0m         \u001b[0;32melse\u001b[0m\u001b[0;34m:\u001b[0m\u001b[0;34m\u001b[0m\u001b[0;34m\u001b[0m\u001b[0m\n",
      "\u001b[0;32m~/opt/anaconda3/lib/python3.9/site-packages/numpy/lib/_datasource.py\u001b[0m in \u001b[0;36mopen\u001b[0;34m(path, mode, destpath, encoding, newline)\u001b[0m\n\u001b[1;32m    191\u001b[0m \u001b[0;34m\u001b[0m\u001b[0m\n\u001b[1;32m    192\u001b[0m     \u001b[0mds\u001b[0m \u001b[0;34m=\u001b[0m \u001b[0mDataSource\u001b[0m\u001b[0;34m(\u001b[0m\u001b[0mdestpath\u001b[0m\u001b[0;34m)\u001b[0m\u001b[0;34m\u001b[0m\u001b[0;34m\u001b[0m\u001b[0m\n\u001b[0;32m--> 193\u001b[0;31m     \u001b[0;32mreturn\u001b[0m \u001b[0mds\u001b[0m\u001b[0;34m.\u001b[0m\u001b[0mopen\u001b[0m\u001b[0;34m(\u001b[0m\u001b[0mpath\u001b[0m\u001b[0;34m,\u001b[0m \u001b[0mmode\u001b[0m\u001b[0;34m,\u001b[0m \u001b[0mencoding\u001b[0m\u001b[0;34m=\u001b[0m\u001b[0mencoding\u001b[0m\u001b[0;34m,\u001b[0m \u001b[0mnewline\u001b[0m\u001b[0;34m=\u001b[0m\u001b[0mnewline\u001b[0m\u001b[0;34m)\u001b[0m\u001b[0;34m\u001b[0m\u001b[0;34m\u001b[0m\u001b[0m\n\u001b[0m\u001b[1;32m    194\u001b[0m \u001b[0;34m\u001b[0m\u001b[0m\n\u001b[1;32m    195\u001b[0m \u001b[0;34m\u001b[0m\u001b[0m\n",
      "\u001b[0;32m~/opt/anaconda3/lib/python3.9/site-packages/numpy/lib/_datasource.py\u001b[0m in \u001b[0;36mopen\u001b[0;34m(self, path, mode, encoding, newline)\u001b[0m\n\u001b[1;32m    531\u001b[0m                                       encoding=encoding, newline=newline)\n\u001b[1;32m    532\u001b[0m         \u001b[0;32melse\u001b[0m\u001b[0;34m:\u001b[0m\u001b[0;34m\u001b[0m\u001b[0;34m\u001b[0m\u001b[0m\n\u001b[0;32m--> 533\u001b[0;31m             \u001b[0;32mraise\u001b[0m \u001b[0mIOError\u001b[0m\u001b[0;34m(\u001b[0m\u001b[0;34m\"%s not found.\"\u001b[0m \u001b[0;34m%\u001b[0m \u001b[0mpath\u001b[0m\u001b[0;34m)\u001b[0m\u001b[0;34m\u001b[0m\u001b[0;34m\u001b[0m\u001b[0m\n\u001b[0m\u001b[1;32m    534\u001b[0m \u001b[0;34m\u001b[0m\u001b[0m\n\u001b[1;32m    535\u001b[0m \u001b[0;34m\u001b[0m\u001b[0m\n",
      "\u001b[0;31mOSError\u001b[0m: Orbit_M33.txt not found."
     ]
    }
   ],
   "source": [
    "# Actual Simulation\n",
    "\n",
    "# Read in simulation Orbit from Homework 6\n",
    "M33SimOrbit = np.genfromtxt('Orbit_M33.txt', dtype = orbit_type)\n",
    "M31SimOrbit = np.genfromtxt('Orbit_M31.txt', dtype = orbit_type)\n",
    "\n",
    "#Determine the magnitude of the position and velocities of \n",
    "# the galaxies at each point in the orbit\n",
    "M31_M33_SimR, M31_M33_SimV = relative_mag(M31SimOrbit, M33SimOrbit)"
   ]
  },
  {
   "cell_type": "code",
   "execution_count": 11,
   "metadata": {
    "ExecuteTime": {
     "end_time": "2020-03-16T03:10:13.673083Z",
     "start_time": "2020-03-16T03:10:13.585155Z"
    },
    "scrolled": true
   },
   "outputs": [
    {
     "ename": "NameError",
     "evalue": "name 'M33Orbit_Hmwk7' is not defined",
     "output_type": "error",
     "traceback": [
      "\u001b[0;31m---------------------------------------------------------------------------\u001b[0m",
      "\u001b[0;31mNameError\u001b[0m                                 Traceback (most recent call last)",
      "\u001b[0;32m/var/folders/1h/z8n5ns0s4xz1pj0xl926qny40000gn/T/ipykernel_7398/1960064459.py\u001b[0m in \u001b[0;36m<module>\u001b[0;34m\u001b[0m\n\u001b[1;32m      5\u001b[0m \u001b[0;34m\u001b[0m\u001b[0m\n\u001b[1;32m      6\u001b[0m \u001b[0;31m# Plot the analytical separation of M31 and M33 from Homework 7\u001b[0m\u001b[0;34m\u001b[0m\u001b[0;34m\u001b[0m\u001b[0m\n\u001b[0;32m----> 7\u001b[0;31m \u001b[0max\u001b[0m\u001b[0;34m.\u001b[0m\u001b[0mplot\u001b[0m\u001b[0;34m(\u001b[0m\u001b[0mM33Orbit_Hmwk7\u001b[0m\u001b[0;34m[\u001b[0m\u001b[0;34m't'\u001b[0m\u001b[0;34m]\u001b[0m\u001b[0;34m,\u001b[0m \u001b[0mM31_M33_R_Hmwk7\u001b[0m\u001b[0;34m,\u001b[0m \u001b[0;34m'b'\u001b[0m\u001b[0;34m,\u001b[0m \u001b[0mlw\u001b[0m\u001b[0;34m=\u001b[0m\u001b[0;36m5\u001b[0m\u001b[0;34m,\u001b[0m \u001b[0mlinestyle\u001b[0m\u001b[0;34m=\u001b[0m\u001b[0;34m\":\"\u001b[0m\u001b[0;34m,\u001b[0m \u001b[0mlabel\u001b[0m\u001b[0;34m=\u001b[0m\u001b[0;34m'M31-M33 No DF'\u001b[0m\u001b[0;34m)\u001b[0m\u001b[0;34m\u001b[0m\u001b[0;34m\u001b[0m\u001b[0m\n\u001b[0m\u001b[1;32m      8\u001b[0m \u001b[0;34m\u001b[0m\u001b[0m\n\u001b[1;32m      9\u001b[0m \u001b[0;31m# Plot the simulated separation of M31 and M33\u001b[0m\u001b[0;34m\u001b[0m\u001b[0;34m\u001b[0m\u001b[0m\n",
      "\u001b[0;31mNameError\u001b[0m: name 'M33Orbit_Hmwk7' is not defined"
     ]
    },
    {
     "data": {
      "image/png": "[encoded data removed]",
      "text/plain": [
       "<Figure size 1200x1000 with 1 Axes>"
      ]
     },
     "metadata": {},
     "output_type": "display_data"
    }
   ],
   "source": [
    "# Plot the orbital separations of the galaxies \n",
    "#################################\n",
    "\n",
    "fig, ax= plt.subplots(figsize=(12, 10))\n",
    "\n",
    "# Plot the analytical separation of M31 and M33 from Homework 7\n",
    "ax.plot(M33Orbit_Hmwk7['t'], M31_M33_R_Hmwk7, 'b', lw=5, linestyle=\":\", label='M31-M33 No DF')\n",
    "\n",
    "# Plot the simulated separation of M31 and M33\n",
    "ax.plot(M33SimOrbit['t'], M31_M33_SimR, 'r', lw=5, label='M31-M33 Simulation')\n",
    "\n",
    "#### Plot the newly computed orbit with DF\n",
    "\n",
    "\n",
    "\n",
    "# Add axis labels\n",
    "ax.set_xlabel('Time (Gyr)', fontsize=22)\n",
    "ax.set_ylabel('Separation (kpc)', fontsize=22)\n",
    "ax.set_title(\"Separations vs. Time\", fontsize=22)\n",
    "\n",
    "#adjust tick label font size\n",
    "ax.xaxis.set_tick_params(labelsize=22)\n",
    "ax.yaxis.set_tick_params(labelsize=22)\n",
    "\n",
    "# add a legend with some customizations.\n",
    "legend = ax.legend(loc='upper left',fontsize=20)\n",
    "\n",
    "# tight layout\n",
    "fig.tight_layout()\n",
    "\n",
    "# Save to a file\n",
    "fig.savefig('orbit_M33_R_withDF.png')"
   ]
  },
  {
   "cell_type": "code",
   "execution_count": 12,
   "metadata": {
    "ExecuteTime": {
     "end_time": "2020-03-16T03:13:14.666621Z",
     "start_time": "2020-03-16T03:13:14.583039Z"
    }
   },
   "outputs": [
    {
     "ename": "NameError",
     "evalue": "name 'M33Orbit_Hmwk7' is not defined",
     "output_type": "error",
     "traceback": [
      "\u001b[0;31m---------------------------------------------------------------------------\u001b[0m",
      "\u001b[0;31mNameError\u001b[0m                                 Traceback (most recent call last)",
      "\u001b[0;32m/var/folders/1h/z8n5ns0s4xz1pj0xl926qny40000gn/T/ipykernel_7398/2310308831.py\u001b[0m in \u001b[0;36m<module>\u001b[0;34m\u001b[0m\n\u001b[1;32m      5\u001b[0m \u001b[0;34m\u001b[0m\u001b[0m\n\u001b[1;32m      6\u001b[0m \u001b[0;31m# Plot the analytical velocities of M31 and M33\u001b[0m\u001b[0;34m\u001b[0m\u001b[0;34m\u001b[0m\u001b[0m\n\u001b[0;32m----> 7\u001b[0;31m \u001b[0max\u001b[0m\u001b[0;34m.\u001b[0m\u001b[0mplot\u001b[0m\u001b[0;34m(\u001b[0m\u001b[0mM33Orbit_Hmwk7\u001b[0m\u001b[0;34m[\u001b[0m\u001b[0;34m't'\u001b[0m\u001b[0;34m]\u001b[0m\u001b[0;34m,\u001b[0m \u001b[0mM31_M33_V_Hmwk7\u001b[0m\u001b[0;34m,\u001b[0m \u001b[0;34m'b'\u001b[0m\u001b[0;34m,\u001b[0m \u001b[0mlw\u001b[0m\u001b[0;34m=\u001b[0m\u001b[0;36m5\u001b[0m\u001b[0;34m,\u001b[0m \u001b[0mlabel\u001b[0m\u001b[0;34m=\u001b[0m\u001b[0;34m'M31-M33 No DF'\u001b[0m\u001b[0;34m)\u001b[0m\u001b[0;34m\u001b[0m\u001b[0;34m\u001b[0m\u001b[0m\n\u001b[0m\u001b[1;32m      8\u001b[0m \u001b[0;34m\u001b[0m\u001b[0m\n\u001b[1;32m      9\u001b[0m \u001b[0;31m# Plot the simulated velocities of M31 and M33\u001b[0m\u001b[0;34m\u001b[0m\u001b[0;34m\u001b[0m\u001b[0m\n",
      "\u001b[0;31mNameError\u001b[0m: name 'M33Orbit_Hmwk7' is not defined"
     ]
    },
    {
     "data": {
      "image/png": "[encoded data removed]",
      "text/plain": [
       "<Figure size 1200x1000 with 1 Axes>"
      ]
     },
     "metadata": {},
     "output_type": "display_data"
    }
   ],
   "source": [
    "# Plot the orbital velocities of the galaxies \n",
    "#################################\n",
    "\n",
    "fig, ax= plt.subplots(figsize=(12, 10))\n",
    "\n",
    "# Plot the analytical velocities of M31 and M33\n",
    "ax.plot(M33Orbit_Hmwk7['t'], M31_M33_V_Hmwk7, 'b', lw=5, label='M31-M33 No DF')\n",
    "\n",
    "# Plot the simulated velocities of M31 and M33\n",
    "ax.plot(M33SimOrbit['t'], M31_M33_SimV, 'r', lw=5, label='M31-M33 Simulation')\n",
    "\n",
    "###### Plot the new orbit with DF \n",
    "\n",
    "\n",
    "# Add axis labels\n",
    "ax.set_xlabel('Time (Gyr)', fontsize=22)\n",
    "ax.set_ylabel('Velocity (km/s)', fontsize=22)\n",
    "ax.set_title(\"Velocities vs. Time\", fontsize=22)\n",
    "\n",
    "#adjust tick label font size\n",
    "ax.xaxis.set_tick_params(labelsize=22)\n",
    "ax.yaxis.set_tick_params(labelsize=22)\n",
    "\n",
    "# add a legend with some customizations.\n",
    "legend = ax.legend(loc='upper left',fontsize=20)\n",
    "\n",
    "# tight layout\n",
    "fig.tight_layout()\n",
    "\n",
    "# Save to a file\n",
    "fig.savefig('orbit_M33_V_withDF.png')"
   ]
  },
  {
   "cell_type": "markdown",
   "metadata": {
    "collapsed": true
   },
   "source": [
    "# 6. What other reasons might there be for why the orbits don't match?"
   ]
  },
  {
   "cell_type": "code",
   "execution_count": null,
   "metadata": {},
   "outputs": [],
   "source": []
  }
 ],
 "metadata": {
  "kernelspec": {
   "display_name": "Python 3 (ipykernel)",
   "language": "python",
   "name": "python3"
  },
  "language_info": {
   "codemirror_mode": {
    "name": "ipython",
    "version": 3
   },
   "file_extension": ".py",
   "mimetype": "text/x-python",
   "name": "python",
   "nbconvert_exporter": "python",
   "pygments_lexer": "ipython3",
   "version": "3.9.13"
  },
  "varInspector": {
   "cols": {
    "lenName": 16,
    "lenType": 16,
    "lenVar": 40
   },
   "kernels_config": {
    "python": {
     "delete_cmd_postfix": "",
     "delete_cmd_prefix": "del ",
     "library": "var_list.py",
     "varRefreshCmd": "print(var_dic_list())"
    },
    "r": {
     "delete_cmd_postfix": ") ",
     "delete_cmd_prefix": "rm(",
     "library": "var_list.r",
     "varRefreshCmd": "cat(var_dic_list()) "
    }
   },
   "types_to_exclude": [
    "module",
    "function",
    "builtin_function_or_method",
    "instance",
    "_Feature"
   ],
   "window_display": false
  }
 },
 "nbformat": 4,
 "nbformat_minor": 4
}
