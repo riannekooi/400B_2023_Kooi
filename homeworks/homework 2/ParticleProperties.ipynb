{
 "cells": [
  {
   "cell_type": "code",
   "execution_count": null,
   "id": "c789c923",
   "metadata": {},
   "outputs": [],
   "source": [
    "#inputs: file name, particle type, and particle number\n",
    "#outputs: magnitude of the distance: in kpc, magnitude of the velocity: in km/s, mass: in units of Mass of Sun"
   ]
  },
  {
   "cell_type": "code",
   "execution_count": null,
   "id": "d32edb2c",
   "metadata": {},
   "outputs": [],
   "source": [
    "import numpy as np\n",
    "import astropy.units as u\n",
    "from ReadFile import Read"
   ]
  },
  {
   "cell_type": "code",
   "execution_count": null,
   "id": "b5c983b1",
   "metadata": {},
   "outputs": [],
   "source": [
    "def ParticleInfo:\n",
    "    #use the file reader and read MW_000 file. then get particle type and particle number\n",
    "    #return magnitude of the distance in kpc\n",
    "    #return the magnitude of the velocity in km/s\n",
    "    #return the mass in xMass of Sun\n"
   ]
  },
  {
   "cell_type": "code",
   "execution_count": null,
   "id": "bcd1709b",
   "metadata": {},
   "outputs": [],
   "source": [
    "#using ParticleProperties to determine the following properties of\n",
    "#the 100th disk particle of the milky way at snap number 0:\n",
    "#1. 3d distance 2. 3d velocity 3. mass 4. converting the 3d distance\n",
    "#of the particle to lightyears"
   ]
  }
 ],
 "metadata": {
  "kernelspec": {
   "display_name": "Python 3 (ipykernel)",
   "language": "python",
   "name": "python3"
  },
  "language_info": {
   "codemirror_mode": {
    "name": "ipython",
    "version": 3
   },
   "file_extension": ".py",
   "mimetype": "text/x-python",
   "name": "python",
   "nbconvert_exporter": "python",
   "pygments_lexer": "ipython3",
   "version": "3.9.12"
  }
 },
 "nbformat": 4,
 "nbformat_minor": 5
}
