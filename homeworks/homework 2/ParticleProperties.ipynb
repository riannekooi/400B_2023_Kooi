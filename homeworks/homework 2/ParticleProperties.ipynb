{
 "cells": [
  {
   "cell_type": "code",
   "execution_count": 20,
   "id": "c789c923",
   "metadata": {},
   "outputs": [],
   "source": [
    "#inputs: file name, particle type, and particle number\n",
    "#outputs: magnitude of the distance: in kpc, magnitude of the velocity: in km/s, mass: in units of Mass of Sun"
   ]
  },
  {
   "cell_type": "code",
   "execution_count": 21,
   "id": "d32edb2c",
   "metadata": {
    "scrolled": true
   },
   "outputs": [],
   "source": [
    "import numpy as np\n",
    "import astropy.units as u"
   ]
  },
  {
   "cell_type": "code",
   "execution_count": 22,
   "id": "2918de29",
   "metadata": {},
   "outputs": [],
   "source": [
    "def Read(filename):\n",
    "    file = open(filename, 'r')\n",
    "    \n",
    "#Row 1 is the time in units of Myr (SnapNumber*10/0.7)\n",
    "    line1 = file.readline() #reading the first line of the file\n",
    "    label, value = line1.split() #splitting the label of the line and actual values\n",
    "    time = float(value)*u.Myr\n",
    "\n",
    "    #Row 2 is the total number of particles\n",
    "    line2 = file.readline()#reading the second line of the file\n",
    "    label, value = line2.split() #splitting the label of the line and actual values\n",
    "    numParticles = float(value)\n",
    "    file.close()#closing the file that was being read\n",
    "    \n",
    "    #storing the rest of the data in the file\n",
    "    #data stores the particle type, the mass, x,y,z coords, and the velocity in x, y, and z as a data array\n",
    "    data = np.genfromtxt(filename, dtype=None, names=True, skip_header=3)\n",
    "    return time, numParticles, data"
   ]
  },
  {
   "cell_type": "code",
   "execution_count": 23,
   "id": "b5c983b1",
   "metadata": {},
   "outputs": [
    {
     "name": "stdout",
     "output_type": "stream",
     "text": [
      "Magnitude of the distance of the 100th particle is 4.245 kpc\n",
      "Magnitude of the velocity of the 100th particle is 312.135 km / s\n",
      "Mass of the 100th particle is 1000000.0 solMass\n",
      "Distance of the 100th particle in lightyears is 13845.338 lyr\n"
     ]
    }
   ],
   "source": [
    "def ParticleInfo(PType, PNum, filename):\n",
    "    time, numParticles, data = Read(filename)\n",
    "    \n",
    "    index = np.where(data['type'] == PType)\n",
    "    \n",
    "    mnew = data['m'][index]*1e10*u.Msun\n",
    "    xnew = data['x'][index]*u.kpc\n",
    "    ynew = data['y'][index]*u.kpc\n",
    "    znew = data['z'][index]*u.kpc\n",
    "    vxnew = data['vx'][index]*u.km/u.s\n",
    "    vynew = data['vy'][index]*u.km/u.s\n",
    "    vznew = data['vz'][index]*u.km/u.s\n",
    "    \n",
    "    \n",
    "    R3D = np.round(np.sqrt(xnew[PNum-1]**2 + ynew[PNum-1]**2 + znew[PNum-1]**2),3)\n",
    "    \n",
    "    V3D = np.round(np.sqrt(vxnew[PNum-1]**2 + vynew[PNum-1]**2 + vznew[PNum-1]**2),3)\n",
    "    \n",
    "    Mass = np.round(mnew[PNum-1],3)\n",
    "    \n",
    "    return R3D, V3D, Mass\n",
    "\n",
    "\n",
    "\n",
    "R3D, V3D, Mass = ParticleInfo(2,100, \"MW_000.py\")\n",
    "\n",
    "print(\"Magnitude of the distance of the 100th particle is\",R3D)\n",
    "print(\"Magnitude of the velocity of the 100th particle is\",V3D)\n",
    "print(\"Mass of the 100th particle is\", Mass)\n",
    "print(\"Distance of the 100th particle in lightyears is\", np.round(R3D.to(u.lyr),3))"
   ]
  },
  {
   "cell_type": "code",
   "execution_count": null,
   "id": "ff6b939e",
   "metadata": {},
   "outputs": [],
   "source": []
  }
 ],
 "metadata": {
  "kernelspec": {
   "display_name": "Python 3 (ipykernel)",
   "language": "python",
   "name": "python3"
  },
  "language_info": {
   "codemirror_mode": {
    "name": "ipython",
    "version": 3
   },
   "file_extension": ".py",
   "mimetype": "text/x-python",
   "name": "python",
   "nbconvert_exporter": "python",
   "pygments_lexer": "ipython3",
   "version": "3.9.12"
  }
 },
 "nbformat": 4,
 "nbformat_minor": 5
}
