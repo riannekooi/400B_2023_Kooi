{
 "cells": [
  {
   "cell_type": "code",
   "execution_count": 11,
   "id": "5b43380c",
   "metadata": {},
   "outputs": [],
   "source": [
    "import numpy as np\n",
    "import astropy.units as u"
   ]
  },
  {
   "cell_type": "code",
   "execution_count": 12,
   "id": "16e7a026",
   "metadata": {},
   "outputs": [],
   "source": [
    "def Read(filename):\n",
    "    file = open(filename, 'r')"
   ]
  },
  {
   "cell_type": "code",
   "execution_count": 13,
   "id": "51f92cf8",
   "metadata": {},
   "outputs": [
    {
     "ename": "NameError",
     "evalue": "name 'file' is not defined",
     "output_type": "error",
     "traceback": [
      "\u001b[0;31m---------------------------------------------------------------------------\u001b[0m",
      "\u001b[0;31mNameError\u001b[0m                                 Traceback (most recent call last)",
      "Input \u001b[0;32mIn [13]\u001b[0m, in \u001b[0;36m<cell line: 1>\u001b[0;34m()\u001b[0m\n\u001b[0;32m----> 1\u001b[0m line1 \u001b[38;5;241m=\u001b[39m \u001b[43mfile\u001b[49m\u001b[38;5;241m.\u001b[39mreadline()\n\u001b[1;32m      2\u001b[0m label, value \u001b[38;5;241m=\u001b[39m line1\u001b[38;5;241m.\u001b[39msplit()\n\u001b[1;32m      3\u001b[0m time \u001b[38;5;241m=\u001b[39m \u001b[38;5;28mfloat\u001b[39m(value)\u001b[38;5;241m*\u001b[39mu\u001b[38;5;241m.\u001b[39mMyr\n",
      "\u001b[0;31mNameError\u001b[0m: name 'file' is not defined"
     ]
    }
   ],
   "source": [
    "#Row 1 is the time in units of Myr (SnapNumber*10/0.7)\n",
    "line1 = file.readline()\n",
    "label, value = line1.split()\n",
    "time = float(value)*u.Myr"
   ]
  },
  {
   "cell_type": "code",
   "execution_count": 14,
   "id": "adcffd25",
   "metadata": {},
   "outputs": [
    {
     "ename": "NameError",
     "evalue": "name 'file' is not defined",
     "output_type": "error",
     "traceback": [
      "\u001b[0;31m---------------------------------------------------------------------------\u001b[0m",
      "\u001b[0;31mNameError\u001b[0m                                 Traceback (most recent call last)",
      "Input \u001b[0;32mIn [14]\u001b[0m, in \u001b[0;36m<cell line: 1>\u001b[0;34m()\u001b[0m\n\u001b[0;32m----> 1\u001b[0m line2 \u001b[38;5;241m=\u001b[39m \u001b[43mfile\u001b[49m\u001b[38;5;241m.\u001b[39mreadline()\n\u001b[1;32m      2\u001b[0m label, value \u001b[38;5;241m=\u001b[39m line2\u001b[38;5;241m.\u001b[39msplit()\n\u001b[1;32m      3\u001b[0m numParticles \u001b[38;5;241m=\u001b[39m \u001b[38;5;28mfloat\u001b[39m(value)\n",
      "\u001b[0;31mNameError\u001b[0m: name 'file' is not defined"
     ]
    }
   ],
   "source": [
    "#Row 2 is the total number of particles\n",
    "line2 = file.readline()\n",
    "label, value = line2.split()\n",
    "numParticles = float(value)"
   ]
  },
  {
   "cell_type": "code",
   "execution_count": null,
   "id": "5095c83b",
   "metadata": {},
   "outputs": [],
   "source": [
    "#Row 3 describes the units of the columns that follows the 4th row\n",
    "line3 = file.readline()\n",
    "label, value = line3.split()"
   ]
  },
  {
   "cell_type": "code",
   "execution_count": null,
   "id": "3349d4da",
   "metadata": {},
   "outputs": [],
   "source": [
    "file.close()\n",
    "data = np.genfromtxt(filename, dtype=None, names=True, skip_header=3)"
   ]
  },
  {
   "cell_type": "code",
   "execution_count": null,
   "id": "dda94e92",
   "metadata": {},
   "outputs": [],
   "source": []
  }
 ],
 "metadata": {
  "kernelspec": {
   "display_name": "Python 3 (ipykernel)",
   "language": "python",
   "name": "python3"
  },
  "language_info": {
   "codemirror_mode": {
    "name": "ipython",
    "version": 3
   },
   "file_extension": ".py",
   "mimetype": "text/x-python",
   "name": "python",
   "nbconvert_exporter": "python",
   "pygments_lexer": "ipython3",
   "version": "3.9.12"
  }
 },
 "nbformat": 4,
 "nbformat_minor": 5
}
