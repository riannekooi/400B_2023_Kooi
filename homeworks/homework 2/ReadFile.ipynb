{
 "cells": [
  {
   "cell_type": "code",
   "execution_count": 20,
   "id": "0a2be597",
   "metadata": {},
   "outputs": [],
   "source": [
    "#input: MW_000 file and read it\n",
    "#output: the time and total number of particles as variables\n",
    "#output: particle type, mass, x,y,z, vx, vy, vz as a data array"
   ]
  },
  {
   "cell_type": "code",
   "execution_count": 21,
   "id": "5b43380c",
   "metadata": {},
   "outputs": [],
   "source": [
    "import numpy as np\n",
    "import astropy.units as u"
   ]
  },
  {
   "cell_type": "code",
   "execution_count": 22,
   "id": "16e7a026",
   "metadata": {},
   "outputs": [],
   "source": [
    "def Read(filename):\n",
    "    file = open(filename, 'r')\n",
    "    \n",
    "#Row 1 is the time in units of Myr (SnapNumber*10/0.7)\n",
    "    line1 = file.readline() #reading the first line of the file\n",
    "    label, value = line1.split() #splitting the label of the line and actual values\n",
    "    time = float(value)*u.Myr\n",
    "\n",
    "    #Row 2 is the total number of particles\n",
    "    line2 = file.readline()#reading the second line of the file\n",
    "    label, value = line2.split() #splitting the label of the line and actual values\n",
    "    numParticles = float(value)\n",
    "    file.close()#closing the file that was being read\n",
    "    \n",
    "    #storing the rest of the data in the file\n",
    "    #data stores the particle type, the mass, x,y,z coords, and the velocity in x, y, and z as a data array\n",
    "    data = np.genfromtxt(filename, dtype=None, names=True, skip_header=3)\n",
    "    return time, numParticles, data"
   ]
  },
  {
   "cell_type": "code",
   "execution_count": 23,
   "id": "dfff4317",
   "metadata": {},
   "outputs": [],
   "source": [
    "time, numParticles, data = Read(\"MW_000.py\")"
   ]
  },
  {
   "cell_type": "code",
   "execution_count": 24,
   "id": "164f5fe4",
   "metadata": {},
   "outputs": [
    {
     "name": "stdout",
     "output_type": "stream",
     "text": [
      "Time of the snapshot 0.0 Myr\n"
     ]
    }
   ],
   "source": [
    "print(\"Time of the snapshot\", time)"
   ]
  },
  {
   "cell_type": "code",
   "execution_count": 25,
   "id": "eef047e5",
   "metadata": {},
   "outputs": [
    {
     "name": "stdout",
     "output_type": "stream",
     "text": [
      "The total number of particles is 135000.0\n"
     ]
    }
   ],
   "source": [
    "print(\"The total number of particles is\", numParticles)"
   ]
  },
  {
   "cell_type": "code",
   "execution_count": 26,
   "id": "7126ead9",
   "metadata": {},
   "outputs": [
    {
     "name": "stdout",
     "output_type": "stream",
     "text": [
      "The mass of the first particle is 39498500.0 solMass\n"
     ]
    }
   ],
   "source": [
    "mass1 = np.round(data['m'][0]*u.Msun*1e10)\n",
    "print(\"The mass of the first particle is\", mass1)"
   ]
  },
  {
   "cell_type": "code",
   "execution_count": 27,
   "id": "47f8bd3a",
   "metadata": {},
   "outputs": [
    {
     "name": "stdout",
     "output_type": "stream",
     "text": [
      "Data type of the first particle is 1.0\n"
     ]
    }
   ],
   "source": [
    "print(\"Data type of the first particle is\", data['type'][0])"
   ]
  },
  {
   "cell_type": "code",
   "execution_count": null,
   "id": "0a46559c",
   "metadata": {},
   "outputs": [],
   "source": []
  }
 ],
 "metadata": {
  "kernelspec": {
   "display_name": "Python 3 (ipykernel)",
   "language": "python",
   "name": "python3"
  },
  "language_info": {
   "codemirror_mode": {
    "name": "ipython",
    "version": 3
   },
   "file_extension": ".py",
   "mimetype": "text/x-python",
   "name": "python",
   "nbconvert_exporter": "python",
   "pygments_lexer": "ipython3",
   "version": "3.9.12"
  }
 },
 "nbformat": 4,
 "nbformat_minor": 5
}
