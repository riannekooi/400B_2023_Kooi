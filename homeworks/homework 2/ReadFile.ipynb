{
 "cells": [
  {
   "cell_type": "code",
   "execution_count": 104,
   "id": "0a2be597",
   "metadata": {},
   "outputs": [],
   "source": [
    "#input: MW_000 file and read it\n",
    "#output: the time and total number of particles as variables\n",
    "#output: particle type, mass, x,y,z, vx, vy, vz as a data array"
   ]
  },
  {
   "cell_type": "code",
   "execution_count": 105,
   "id": "5b43380c",
   "metadata": {},
   "outputs": [],
   "source": [
    "import numpy as np\n",
    "import astropy.units as u"
   ]
  },
  {
   "cell_type": "code",
   "execution_count": 106,
   "id": "16e7a026",
   "metadata": {},
   "outputs": [],
   "source": [
    "def Read(filename):\n",
    "    file = open(filename, 'r')\n",
    "#Row 1 is the time in units of Myr (SnapNumber*10/0.7)\n",
    "    line1 = file.readline()\n",
    "    label, value = line1.split()\n",
    "    time = float(value)*u.Myr\n",
    "#Row 2 is the total number of particles\n",
    "    line2 = file.readline()\n",
    "    label, value = line2.split()\n",
    "    numParticles = int(value)\n",
    "    data = np.genfromtxt(filename, dtype=None, names=True, skip_header=3)\n",
    "    file.close()\n",
    "    return time, numParticles, data"
   ]
  },
  {
   "cell_type": "code",
   "execution_count": 107,
   "id": "30df50cf",
   "metadata": {},
   "outputs": [
    {
     "data": {
      "text/plain": [
       "(<Quantity 0. Myr>,\n",
       " 135000,\n",
       " array([(1., 0.00394985, -2.51725e+00,  19.1588 ,  5.28528e+01,  1.34962e-01, 116.109   ,  -85.3822 ),\n",
       "        (1., 0.00394985, -2.86601e+02, 298.455  ,  3.91692e+02,  5.02658e+01, -46.4521  ,   15.1825 ),\n",
       "        (1., 0.00394985, -5.05945e-01, -28.6337 , -8.39565e+01,  1.13833e+01,  -0.974253,  -39.3509 ),\n",
       "        ...,\n",
       "        (3., 0.00010005, -3.29432e+00,   3.36725,  1.09023e-01,  2.18821e+02,  73.4462  ,   -8.81108),\n",
       "        (3., 0.00010005,  2.57806e-01,   5.31409, -6.62670e-01,  5.46121e+01, -19.0044  , -190.184  ),\n",
       "        (3., 0.00010005, -6.57662e-01,   3.32552, -2.51660e+00, -1.37672e+01,  44.8175  ,   16.7124 )],\n",
       "       dtype=[('type', '<f8'), ('m', '<f8'), ('x', '<f8'), ('y', '<f8'), ('z', '<f8'), ('vx', '<f8'), ('vy', '<f8'), ('vz', '<f8')]))"
      ]
     },
     "execution_count": 107,
     "metadata": {},
     "output_type": "execute_result"
    }
   ],
   "source": [
    "Read(\"MW_000.py\")"
   ]
  },
  {
   "cell_type": "code",
   "execution_count": null,
   "id": "dfff4317",
   "metadata": {},
   "outputs": [],
   "source": []
  }
 ],
 "metadata": {
  "kernelspec": {
   "display_name": "Python 3 (ipykernel)",
   "language": "python",
   "name": "python3"
  },
  "language_info": {
   "codemirror_mode": {
    "name": "ipython",
    "version": 3
   },
   "file_extension": ".py",
   "mimetype": "text/x-python",
   "name": "python",
   "nbconvert_exporter": "python",
   "pygments_lexer": "ipython3",
   "version": "3.9.12"
  }
 },
 "nbformat": 4,
 "nbformat_minor": 5
}
