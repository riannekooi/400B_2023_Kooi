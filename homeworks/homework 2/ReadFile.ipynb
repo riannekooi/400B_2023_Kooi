{
 "cells": [
  {
   "cell_type": "code",
   "execution_count": 20,
   "id": "0a2be597",
   "metadata": {},
   "outputs": [],
   "source": [
    "#input: MW_000 file and read it\n",
    "#output: the time and total number of particles as variables\n",
    "#output: particle type, mass, x,y,z, vx, vy, vz as a data array"
   ]
  },
  {
   "cell_type": "code",
   "execution_count": 24,
   "id": "5b43380c",
   "metadata": {},
   "outputs": [],
   "source": [
    "import numpy as np\n",
    "import astropy.units as u"
   ]
  },
  {
   "cell_type": "code",
   "execution_count": 25,
   "id": "16e7a026",
   "metadata": {},
   "outputs": [],
   "source": [
    "def Read(filename):\n",
    "    file = open(filename, 'r')\n",
    "#Row 1 is the time in units of Myr (SnapNumber*10/0.7)\n",
    "    line1 = file.readline()\n",
    "    label, value = line1.split()\n",
    "    time = float(value)*u.Myr\n",
    "    print (line1)\n",
    "#Row 2 is the total number of particles\n",
    "    line2 = file.readline()\n",
    "    label, value = line2.split()\n",
    "    numParticles = float(value)\n",
    "    file.close()\n",
    "    data = np.genfromtxt(filename, dtype=None, names=True, skip_header=3)\n",
    "    return (line1, line2, data)"
   ]
  },
  {
   "cell_type": "code",
   "execution_count": null,
   "id": "3f70bde1",
   "metadata": {},
   "outputs": [],
   "source": []
  }
 ],
 "metadata": {
  "kernelspec": {
   "display_name": "Python 3 (ipykernel)",
   "language": "python",
   "name": "python3"
  },
  "language_info": {
   "codemirror_mode": {
    "name": "ipython",
    "version": 3
   },
   "file_extension": ".py",
   "mimetype": "text/x-python",
   "name": "python",
   "nbconvert_exporter": "python",
   "pygments_lexer": "ipython3",
   "version": "3.9.12"
  }
 },
 "nbformat": 4,
 "nbformat_minor": 5
}
