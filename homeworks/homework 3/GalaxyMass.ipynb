{
 "cells": [
  {
   "cell_type": "code",
   "execution_count": 41,
   "id": "73fd5442",
   "metadata": {},
   "outputs": [],
   "source": [
    "import numpy as np\n",
    "import astropy.units as u"
   ]
  },
  {
   "cell_type": "code",
   "execution_count": 42,
   "id": "9597a632",
   "metadata": {},
   "outputs": [],
   "source": [
    "def Read(filename):\n",
    "    file = open(filename, 'r')\n",
    "    \n",
    "    #Row 1 is the time in units of Myr (SnapNumber*10/0.7)\n",
    "    line1 = file.readline() #reading the first line of the file\n",
    "    label, value = line1.split() #splitting the label of the line and actual values\n",
    "    time = float(value)*u.Myr\n",
    "\n",
    "    #Row 2 is the total number of particles\n",
    "    line2 = file.readline()#reading the second line of the file\n",
    "    label, value = line2.split() #splitting the label of the line and actual values\n",
    "    numParticles = float(value)\n",
    "    file.close()#closing the file that was being read\n",
    "    \n",
    "    #storing the rest of the data in the file\n",
    "    #data stores the particle type, the mass, x,y,z coords, and the velocity in x, y, and z as a data array\n",
    "    data = np.genfromtxt(filename, dtype=None, names=True, skip_header=3)\n",
    "    return time, numParticles, data"
   ]
  },
  {
   "cell_type": "code",
   "execution_count": 43,
   "id": "d39d6016",
   "metadata": {},
   "outputs": [],
   "source": [
    "def ComponentMass(filename,typeParticle):\n",
    "    \n",
    "    time, data, numParticles = Read(filename)\n",
    "    typeParticle_data = data['type']\n",
    "    index = np.where(typeParticle == typeParticle_data)\n",
    "    \n",
    "    mass = sum(data['m'][index])#given in 10^10 solar masses\n",
    "    mass = np.round(mass/100, 3) #converts to 10^12 solar masses, rounds 3 decimal places\n",
    "    \n",
    "    return mass"
   ]
  },
  {
   "cell_type": "code",
   "execution_count": 44,
   "id": "7548b9c3",
   "metadata": {},
   "outputs": [
    {
     "ename": "TypeError",
     "evalue": "'float' object is not subscriptable",
     "output_type": "error",
     "traceback": [
      "\u001b[0;31m---------------------------------------------------------------------------\u001b[0m",
      "\u001b[0;31mTypeError\u001b[0m                                 Traceback (most recent call last)",
      "\u001b[0;32m/var/folders/1h/z8n5ns0s4xz1pj0xl926qny40000gn/T/ipykernel_49028/11504205.py\u001b[0m in \u001b[0;36m<module>\u001b[0;34m\u001b[0m\n\u001b[1;32m     13\u001b[0m     \u001b[0mcompDirect\u001b[0m \u001b[0;34m=\u001b[0m \u001b[0;34m{\u001b[0m\u001b[0;34m}\u001b[0m\u001b[0;34m\u001b[0m\u001b[0;34m\u001b[0m\u001b[0m\n\u001b[1;32m     14\u001b[0m     \u001b[0;32mfor\u001b[0m \u001b[0mtypeParticle\u001b[0m \u001b[0;32min\u001b[0m \u001b[0mrange\u001b[0m\u001b[0;34m(\u001b[0m\u001b[0;36m1\u001b[0m\u001b[0;34m,\u001b[0m\u001b[0mlen\u001b[0m\u001b[0;34m(\u001b[0m\u001b[0mgalaxyComp\u001b[0m\u001b[0;34m)\u001b[0m\u001b[0;34m+\u001b[0m\u001b[0;36m1\u001b[0m\u001b[0;34m)\u001b[0m\u001b[0;34m:\u001b[0m\u001b[0;34m\u001b[0m\u001b[0;34m\u001b[0m\u001b[0m\n\u001b[0;32m---> 15\u001b[0;31m         \u001b[0mtotalCompMass\u001b[0m \u001b[0;34m=\u001b[0m \u001b[0mComponentMass\u001b[0m\u001b[0;34m(\u001b[0m\u001b[0mfileList\u001b[0m\u001b[0;34m[\u001b[0m\u001b[0mi\u001b[0m\u001b[0;34m]\u001b[0m\u001b[0;34m,\u001b[0m \u001b[0mtypeParticle\u001b[0m\u001b[0;34m)\u001b[0m\u001b[0;34m\u001b[0m\u001b[0;34m\u001b[0m\u001b[0m\n\u001b[0m\u001b[1;32m     16\u001b[0m         \u001b[0mcompDirect\u001b[0m\u001b[0;34m[\u001b[0m\u001b[0mgalaxyComp\u001b[0m\u001b[0;34m[\u001b[0m\u001b[0mtypeParticle\u001b[0m\u001b[0;34m-\u001b[0m\u001b[0;36m1\u001b[0m\u001b[0;34m]\u001b[0m\u001b[0;34m]\u001b[0m \u001b[0;34m=\u001b[0m \u001b[0mtotalCompMass\u001b[0m\u001b[0;34m\u001b[0m\u001b[0;34m\u001b[0m\u001b[0m\n\u001b[1;32m     17\u001b[0m     \u001b[0mgalaxyDirect\u001b[0m\u001b[0;34m[\u001b[0m\u001b[0mgalaxyName\u001b[0m\u001b[0;34m[\u001b[0m\u001b[0mi\u001b[0m\u001b[0;34m]\u001b[0m\u001b[0;34m]\u001b[0m \u001b[0;34m=\u001b[0m \u001b[0mcompDirect\u001b[0m\u001b[0;34m\u001b[0m\u001b[0;34m\u001b[0m\u001b[0m\n",
      "\u001b[0;32m/var/folders/1h/z8n5ns0s4xz1pj0xl926qny40000gn/T/ipykernel_49028/204255073.py\u001b[0m in \u001b[0;36mComponentMass\u001b[0;34m(filename, typeParticle)\u001b[0m\n\u001b[1;32m      2\u001b[0m \u001b[0;34m\u001b[0m\u001b[0m\n\u001b[1;32m      3\u001b[0m     \u001b[0mtime\u001b[0m\u001b[0;34m,\u001b[0m \u001b[0mdata\u001b[0m\u001b[0;34m,\u001b[0m \u001b[0mnumParticles\u001b[0m \u001b[0;34m=\u001b[0m \u001b[0mRead\u001b[0m\u001b[0;34m(\u001b[0m\u001b[0mfilename\u001b[0m\u001b[0;34m)\u001b[0m\u001b[0;34m\u001b[0m\u001b[0;34m\u001b[0m\u001b[0m\n\u001b[0;32m----> 4\u001b[0;31m     \u001b[0mtypeParticle_data\u001b[0m \u001b[0;34m=\u001b[0m \u001b[0mdata\u001b[0m\u001b[0;34m[\u001b[0m\u001b[0;34m'type'\u001b[0m\u001b[0;34m]\u001b[0m\u001b[0;34m\u001b[0m\u001b[0;34m\u001b[0m\u001b[0m\n\u001b[0m\u001b[1;32m      5\u001b[0m     \u001b[0mindex\u001b[0m \u001b[0;34m=\u001b[0m \u001b[0mnp\u001b[0m\u001b[0;34m.\u001b[0m\u001b[0mwhere\u001b[0m\u001b[0;34m(\u001b[0m\u001b[0mtypeParticle\u001b[0m \u001b[0;34m==\u001b[0m \u001b[0mtypeParticle_data\u001b[0m\u001b[0;34m)\u001b[0m\u001b[0;34m\u001b[0m\u001b[0;34m\u001b[0m\u001b[0m\n\u001b[1;32m      6\u001b[0m \u001b[0;34m\u001b[0m\u001b[0m\n",
      "\u001b[0;31mTypeError\u001b[0m: 'float' object is not subscriptable"
     ]
    }
   ],
   "source": [
    "\n",
    "fileMW = 'MW_000.py'\n",
    "fileM31 = 'M31_000.py'\n",
    "fileM33 = 'M33_000.py'\n",
    "\n",
    "\n",
    "numFiles = 3 \n",
    "fileList = [fileMW, fileM31, fileM33] \n",
    "galaxyName = ['Milky Way', 'M31', 'M33']\n",
    "galaxyComp = ['dark matter halo', 'disk', 'bulge'] \n",
    "galaxyDirect = {} \n",
    "\n",
    "for i in range(0, len(galaxyName)): \n",
    "    compDirect = {} \n",
    "    for typeParticle in range(1,len(galaxyComp)+1):\n",
    "        totalCompMass = ComponentMass(fileList[i], typeParticle) \n",
    "        compDirect[galaxyComp[typeParticle-1]] = totalCompMass \n",
    "    galaxyDirect[galaxyName[i]] = compDirect \n",
    "    \n",
    "\n",
    "print(galaxyDirect)"
   ]
  },
  {
   "cell_type": "code",
   "execution_count": null,
   "id": "efb57003",
   "metadata": {},
   "outputs": [],
   "source": []
  },
  {
   "cell_type": "code",
   "execution_count": null,
   "id": "ccafd065",
   "metadata": {},
   "outputs": [],
   "source": []
  }
 ],
 "metadata": {
  "kernelspec": {
   "display_name": "Python 3 (ipykernel)",
   "language": "python",
   "name": "python3"
  },
  "language_info": {
   "codemirror_mode": {
    "name": "ipython",
    "version": 3
   },
   "file_extension": ".py",
   "mimetype": "text/x-python",
   "name": "python",
   "nbconvert_exporter": "python",
   "pygments_lexer": "ipython3",
   "version": "3.9.13"
  }
 },
 "nbformat": 4,
 "nbformat_minor": 5
}
