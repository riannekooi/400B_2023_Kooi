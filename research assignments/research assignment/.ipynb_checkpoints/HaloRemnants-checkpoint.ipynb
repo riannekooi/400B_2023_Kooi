{
 "cells": [
  {
   "cell_type": "code",
   "execution_count": 19,
   "id": "f79f096e",
   "metadata": {},
   "outputs": [],
   "source": [
    "import numpy as np\n",
    "import astropy.units as u\n",
    "import astropy.table as tbl\n",
    "import matplotlib.pyplot as plt\n",
    "import matplotlib\n",
    "%matplotlib inline\n",
    "\n",
    "\n",
    "from ReadFile import Read\n",
    "from CenterOfMassExtended import CenterOfMass\n",
    "from ExtendedMassProfile import MassProfile"
   ]
  },
  {
   "cell_type": "markdown",
   "id": "f5100661",
   "metadata": {},
   "source": [
    "## Milky Way Mass Profiles"
   ]
  },
  {
   "cell_type": "code",
   "execution_count": 20,
   "id": "a4ca0dd9",
   "metadata": {},
   "outputs": [
    {
     "ename": "TypeError",
     "evalue": "__init__() missing 1 required positional argument: 'snap'",
     "output_type": "error",
     "traceback": [
      "\u001b[0;31m---------------------------------------------------------------------------\u001b[0m",
      "\u001b[0;31mTypeError\u001b[0m                                 Traceback (most recent call last)",
      "\u001b[0;32m/var/folders/1h/z8n5ns0s4xz1pj0xl926qny40000gn/T/ipykernel_32295/45604490.py\u001b[0m in \u001b[0;36m<module>\u001b[0;34m\u001b[0m\n\u001b[0;32m----> 1\u001b[0;31m \u001b[0mMW_0\u001b[0m \u001b[0;34m=\u001b[0m \u001b[0mMassProfile\u001b[0m\u001b[0;34m(\u001b[0m\u001b[0;34m\"MW\"\u001b[0m\u001b[0;34m,\u001b[0m\u001b[0;36m0\u001b[0m\u001b[0;34m)\u001b[0m\u001b[0;34m\u001b[0m\u001b[0;34m\u001b[0m\u001b[0m\n\u001b[0m",
      "\u001b[0;31mTypeError\u001b[0m: __init__() missing 1 required positional argument: 'snap'"
     ]
    }
   ],
   "source": [
    "MW_0 = MassProfile(\"MW\",0)"
   ]
  },
  {
   "cell_type": "code",
   "execution_count": 21,
   "id": "307b7b44",
   "metadata": {},
   "outputs": [
    {
     "ename": "NameError",
     "evalue": "name 'MW_0' is not defined",
     "output_type": "error",
     "traceback": [
      "\u001b[0;31m---------------------------------------------------------------------------\u001b[0m",
      "\u001b[0;31mNameError\u001b[0m                                 Traceback (most recent call last)",
      "\u001b[0;32m/var/folders/1h/z8n5ns0s4xz1pj0xl926qny40000gn/T/ipykernel_32295/3891269139.py\u001b[0m in \u001b[0;36m<module>\u001b[0;34m\u001b[0m\n\u001b[1;32m      1\u001b[0m \u001b[0mradii\u001b[0m \u001b[0;34m=\u001b[0m \u001b[0mnp\u001b[0m\u001b[0;34m.\u001b[0m\u001b[0marange\u001b[0m\u001b[0;34m(\u001b[0m\u001b[0;36m0.1\u001b[0m\u001b[0;34m,\u001b[0m \u001b[0;36m30.5\u001b[0m\u001b[0;34m,\u001b[0m \u001b[0;36m0.5\u001b[0m\u001b[0;34m)\u001b[0m \u001b[0;31m# radius range we are using up to 30kpc\u001b[0m\u001b[0;34m\u001b[0m\u001b[0;34m\u001b[0m\u001b[0m\n\u001b[0;32m----> 2\u001b[0;31m \u001b[0menclosed_mass_MW_0_halo\u001b[0m \u001b[0;34m=\u001b[0m \u001b[0mMW_0\u001b[0m\u001b[0;34m.\u001b[0m\u001b[0mMassEnclosed\u001b[0m\u001b[0;34m(\u001b[0m\u001b[0;36m1\u001b[0m\u001b[0;34m,\u001b[0m\u001b[0mradii\u001b[0m\u001b[0;34m,\u001b[0m\u001b[0mvolDec\u001b[0m\u001b[0;34m=\u001b[0m\u001b[0;36m2.0\u001b[0m\u001b[0;34m)\u001b[0m\u001b[0;34m\u001b[0m\u001b[0;34m\u001b[0m\u001b[0m\n\u001b[0m",
      "\u001b[0;31mNameError\u001b[0m: name 'MW_0' is not defined"
     ]
    }
   ],
   "source": [
    "radii = np.arange(0.1, 30.5, 0.5) # radius range we are using up to 30kpc\n",
    "enclosed_mass_MW_0_halo = MW_0.MassEnclosed(1,radii,volDec=2.0)"
   ]
  },
  {
   "cell_type": "code",
   "execution_count": 22,
   "id": "ef2348cf",
   "metadata": {},
   "outputs": [
    {
     "ename": "TypeError",
     "evalue": "__init__() missing 1 required positional argument: 'snap'",
     "output_type": "error",
     "traceback": [
      "\u001b[0;31m---------------------------------------------------------------------------\u001b[0m",
      "\u001b[0;31mTypeError\u001b[0m                                 Traceback (most recent call last)",
      "\u001b[0;32m/var/folders/1h/z8n5ns0s4xz1pj0xl926qny40000gn/T/ipykernel_32295/3124275115.py\u001b[0m in \u001b[0;36m<module>\u001b[0;34m\u001b[0m\n\u001b[0;32m----> 1\u001b[0;31m \u001b[0mMW_200\u001b[0m \u001b[0;34m=\u001b[0m \u001b[0mMassProfile\u001b[0m\u001b[0;34m(\u001b[0m\u001b[0;34m\"MW\"\u001b[0m\u001b[0;34m,\u001b[0m \u001b[0;36m200\u001b[0m\u001b[0;34m)\u001b[0m\u001b[0;34m\u001b[0m\u001b[0;34m\u001b[0m\u001b[0m\n\u001b[0m",
      "\u001b[0;31mTypeError\u001b[0m: __init__() missing 1 required positional argument: 'snap'"
     ]
    }
   ],
   "source": [
    "MW_200 = MassProfile(\"MW\", 200)"
   ]
  },
  {
   "cell_type": "code",
   "execution_count": 30,
   "id": "b1e5676d",
   "metadata": {},
   "outputs": [
    {
     "name": "stdout",
     "output_type": "stream",
     "text": [
      "-39.08931287142656 72.12281936628642 -33.610986624419084\n",
      "[-39.09  72.12 -33.61] kpc\n"
     ]
    }
   ],
   "source": [
    "r = np.arange(0.1, 30.5, 0.5) # radius range we are using up to 30kpc\n",
    "enclosed_mass_MW_200_halo = MW_200.MassEnclosed(1,r,volDec=2.0)"
   ]
  },
  {
   "cell_type": "code",
   "execution_count": 31,
   "id": "618a89cc",
   "metadata": {},
   "outputs": [],
   "source": [
    "MW_400 = MassProfile(\"MW\", 400)"
   ]
  },
  {
   "cell_type": "code",
   "execution_count": 32,
   "id": "75fb3309",
   "metadata": {},
   "outputs": [
    {
     "name": "stdout",
     "output_type": "stream",
     "text": [
      "7.982258457243924 177.40653459292244 9.80750801373823\n",
      "[  7.98 177.41   9.81] kpc\n"
     ]
    }
   ],
   "source": [
    "r = np.arange(0.1, 30.5, 0.5) # radius range we are using up to 30kpc\n",
    "enclosed_mass_MW_400_halo = MW_400.MassEnclosed(1,r,volDec=2.0)"
   ]
  },
  {
   "cell_type": "code",
   "execution_count": 33,
   "id": "ca39b23d",
   "metadata": {},
   "outputs": [],
   "source": [
    "MW_600 = MassProfile(\"MW\", 600)"
   ]
  },
  {
   "cell_type": "code",
   "execution_count": 34,
   "id": "4ac89a50",
   "metadata": {},
   "outputs": [
    {
     "name": "stdout",
     "output_type": "stream",
     "text": [
      "103.04653794795058 87.30878457294394 77.26552783626354\n",
      "[103.05  87.31  77.27] kpc\n"
     ]
    }
   ],
   "source": [
    "r = np.arange(0.1, 30.5, 0.5) # radius range we are using up to 30kpc\n",
    "enclosed_mass_MW_600_halo = MW_600.MassEnclosed(1,r,volDec=2.0)"
   ]
  },
  {
   "cell_type": "code",
   "execution_count": 35,
   "id": "8b54827a",
   "metadata": {},
   "outputs": [],
   "source": [
    "MW_800 = MassProfile(\"MW\", 800)"
   ]
  },
  {
   "cell_type": "code",
   "execution_count": 36,
   "id": "d893fe56",
   "metadata": {},
   "outputs": [
    {
     "name": "stdout",
     "output_type": "stream",
     "text": [
      "190.73524031328387 23.626254707592192 146.59584217057156\n",
      "[190.74  23.63 146.6 ] kpc\n"
     ]
    }
   ],
   "source": [
    "r = np.arange(0.1, 30.5, 0.5) # radius range we are using up to 30kpc\n",
    "enclosed_mass_MW_800_halo = MW_800.MassEnclosed(1,r,volDec=2.0)"
   ]
  },
  {
   "cell_type": "markdown",
   "id": "480fd7dd",
   "metadata": {},
   "source": [
    "## M31 Mass Profiles"
   ]
  },
  {
   "cell_type": "code",
   "execution_count": 37,
   "id": "df8e571a",
   "metadata": {},
   "outputs": [],
   "source": [
    "M31_0 = MassProfile(\"M31\", 0)"
   ]
  },
  {
   "cell_type": "code",
   "execution_count": 38,
   "id": "eac60a42",
   "metadata": {},
   "outputs": [
    {
     "name": "stdout",
     "output_type": "stream",
     "text": [
      "-377.768922636103 611.4701417248947 -284.5982786909967\n",
      "[-377.77  611.47 -284.6 ] kpc\n"
     ]
    }
   ],
   "source": [
    "r = np.arange(0.1, 30.5, 0.5)\n",
    "enclosed_mass_M31_0_halo = M31_0.MassEnclosed(1,r,volDec=2.0)"
   ]
  },
  {
   "cell_type": "code",
   "execution_count": 39,
   "id": "be390c8c",
   "metadata": {},
   "outputs": [],
   "source": [
    "M31_200 = MassProfile(\"M31\", 200)"
   ]
  },
  {
   "cell_type": "code",
   "execution_count": 40,
   "id": "7fbc997d",
   "metadata": {},
   "outputs": [
    {
     "name": "stdout",
     "output_type": "stream",
     "text": [
      "-177.79972474270645 389.6042316237135 -113.56609052649482\n",
      "[-177.8   389.6  -113.57] kpc\n"
     ]
    }
   ],
   "source": [
    "r = np.arange(0.1, 30.5, 0.5)\n",
    "enclosed_mass_M31_200_halo = M31_200.MassEnclosed(1,r,volDec=2.0)"
   ]
  },
  {
   "cell_type": "code",
   "execution_count": 41,
   "id": "b471d31b",
   "metadata": {},
   "outputs": [],
   "source": [
    "M31_400 = MassProfile(\"M31\", 400)"
   ]
  },
  {
   "cell_type": "code",
   "execution_count": 42,
   "id": "dab81bdd",
   "metadata": {},
   "outputs": [
    {
     "name": "stdout",
     "output_type": "stream",
     "text": [
      "-13.014943157532326 129.6491515892461 -11.340252216696515\n",
      "[-13.01 129.65 -11.34] kpc\n"
     ]
    }
   ],
   "source": [
    "r = np.arange(0.1, 30.5, 0.5)\n",
    "enclosed_mass_M31_400_halo = M31_400.MassEnclosed(1,r,volDec=2.0)"
   ]
  },
  {
   "cell_type": "code",
   "execution_count": 43,
   "id": "7885b804",
   "metadata": {},
   "outputs": [],
   "source": [
    "M31_600 = MassProfile(\"M31\", 600)"
   ]
  },
  {
   "cell_type": "code",
   "execution_count": 44,
   "id": "94b05c51",
   "metadata": {},
   "outputs": [
    {
     "name": "stdout",
     "output_type": "stream",
     "text": [
      "102.49247029300973 87.42415348463278 76.39526463992131\n",
      "[102.49  87.42  76.4 ] kpc\n"
     ]
    }
   ],
   "source": [
    "r = np.arange(0.1, 30.5, 0.5)\n",
    "enclosed_mass_M31_600_halo = M31_600.MassEnclosed(1,r,volDec=2.0)"
   ]
  },
  {
   "cell_type": "code",
   "execution_count": 45,
   "id": "a29752af",
   "metadata": {},
   "outputs": [],
   "source": [
    "M31_800 = MassProfile(\"M31\", 800)"
   ]
  },
  {
   "cell_type": "code",
   "execution_count": 46,
   "id": "32b76df8",
   "metadata": {
    "scrolled": true
   },
   "outputs": [
    {
     "name": "stdout",
     "output_type": "stream",
     "text": [
      "190.84566096910274 23.61455695934643 145.87175865973018\n",
      "[190.85  23.61 145.87] kpc\n"
     ]
    }
   ],
   "source": [
    "r = np.arange(0.1, 30.5, 0.5)\n",
    "enclosed_mass_M31_800_halo = M31_800.MassEnclosed(1,r,volDec=2.0)"
   ]
  },
  {
   "cell_type": "code",
   "execution_count": 17,
   "id": "a6675585",
   "metadata": {},
   "outputs": [
    {
     "ename": "NameError",
     "evalue": "name 'MW_0' is not defined",
     "output_type": "error",
     "traceback": [
      "\u001b[0;31m---------------------------------------------------------------------------\u001b[0m",
      "\u001b[0;31mNameError\u001b[0m                                 Traceback (most recent call last)",
      "\u001b[0;32m/var/folders/1h/z8n5ns0s4xz1pj0xl926qny40000gn/T/ipykernel_32295/1037833465.py\u001b[0m in \u001b[0;36m<module>\u001b[0;34m\u001b[0m\n\u001b[0;32m----> 1\u001b[0;31m \u001b[0mhernquist_profile_MW0\u001b[0m \u001b[0;34m=\u001b[0m \u001b[0mMW_0\u001b[0m\u001b[0;34m.\u001b[0m\u001b[0mHernquistMass\u001b[0m\u001b[0;34m(\u001b[0m\u001b[0mr\u001b[0m\u001b[0;34m,\u001b[0m \u001b[0ma\u001b[0m\u001b[0;34m,\u001b[0m \u001b[0msum\u001b[0m\u001b[0;34m(\u001b[0m\u001b[0mMW_0\u001b[0m\u001b[0;34m.\u001b[0m\u001b[0mm_new\u001b[0m\u001b[0;34m*\u001b[0m\u001b[0;36m1e12\u001b[0m\u001b[0;34m)\u001b[0m\u001b[0;34m)\u001b[0m\u001b[0;34m\u001b[0m\u001b[0;34m\u001b[0m\u001b[0m\n\u001b[0m",
      "\u001b[0;31mNameError\u001b[0m: name 'MW_0' is not defined"
     ]
    }
   ],
   "source": [
    "hernquist_profile_MW0 = MW_0.HernquistMass(r, a, sum(MW_0.m_new*1e12))"
   ]
  },
  {
   "cell_type": "code",
   "execution_count": 18,
   "id": "c79eca10",
   "metadata": {},
   "outputs": [
    {
     "ename": "NameError",
     "evalue": "name 'enclosed_mass_MW_0_halo' is not defined",
     "output_type": "error",
     "traceback": [
      "\u001b[0;31m---------------------------------------------------------------------------\u001b[0m",
      "\u001b[0;31mNameError\u001b[0m                                 Traceback (most recent call last)",
      "\u001b[0;32m/var/folders/1h/z8n5ns0s4xz1pj0xl926qny40000gn/T/ipykernel_32295/775843949.py\u001b[0m in \u001b[0;36m<module>\u001b[0;34m\u001b[0m\n\u001b[1;32m      1\u001b[0m \u001b[0ma\u001b[0m \u001b[0;34m=\u001b[0m \u001b[0;36m40\u001b[0m \u001b[0;31m# the estimated scale factor\u001b[0m\u001b[0;34m\u001b[0m\u001b[0;34m\u001b[0m\u001b[0m\n\u001b[0;32m----> 2\u001b[0;31m \u001b[0mplt\u001b[0m\u001b[0;34m.\u001b[0m\u001b[0msemilogy\u001b[0m\u001b[0;34m(\u001b[0m\u001b[0mr\u001b[0m\u001b[0;34m,\u001b[0m \u001b[0menclosed_mass_MW_0_halo\u001b[0m\u001b[0;34m,\u001b[0m \u001b[0mlabel\u001b[0m\u001b[0;34m=\u001b[0m\u001b[0;34m'MW snap 0 halo'\u001b[0m\u001b[0;34m,\u001b[0m \u001b[0mc\u001b[0m\u001b[0;34m=\u001b[0m\u001b[0;34m'midnightblue'\u001b[0m\u001b[0;34m)\u001b[0m\u001b[0;34m\u001b[0m\u001b[0;34m\u001b[0m\u001b[0m\n\u001b[0m\u001b[1;32m      3\u001b[0m \u001b[0mplt\u001b[0m\u001b[0;34m.\u001b[0m\u001b[0msemilogy\u001b[0m\u001b[0;34m(\u001b[0m\u001b[0mr\u001b[0m\u001b[0;34m,\u001b[0m \u001b[0menclosed_mass_MW_200_halo\u001b[0m\u001b[0;34m,\u001b[0m \u001b[0mlabel\u001b[0m\u001b[0;34m=\u001b[0m\u001b[0;34m'MW snap 200 halo'\u001b[0m\u001b[0;34m,\u001b[0m \u001b[0mc\u001b[0m\u001b[0;34m=\u001b[0m\u001b[0;34m'lightcoral'\u001b[0m\u001b[0;34m)\u001b[0m\u001b[0;34m\u001b[0m\u001b[0;34m\u001b[0m\u001b[0m\n\u001b[1;32m      4\u001b[0m \u001b[0mplt\u001b[0m\u001b[0;34m.\u001b[0m\u001b[0msemilogy\u001b[0m\u001b[0;34m(\u001b[0m\u001b[0mr\u001b[0m\u001b[0;34m,\u001b[0m \u001b[0menclosed_mass_MW_400_halo\u001b[0m\u001b[0;34m,\u001b[0m \u001b[0mlabel\u001b[0m\u001b[0;34m=\u001b[0m\u001b[0;34m'MW snap 400 halo'\u001b[0m\u001b[0;34m,\u001b[0m \u001b[0mc\u001b[0m\u001b[0;34m=\u001b[0m\u001b[0;34m'maroon'\u001b[0m\u001b[0;34m)\u001b[0m\u001b[0;34m\u001b[0m\u001b[0;34m\u001b[0m\u001b[0m\n\u001b[1;32m      5\u001b[0m \u001b[0mplt\u001b[0m\u001b[0;34m.\u001b[0m\u001b[0msemilogy\u001b[0m\u001b[0;34m(\u001b[0m\u001b[0mr\u001b[0m\u001b[0;34m,\u001b[0m \u001b[0menclosed_mass_MW_600_halo\u001b[0m\u001b[0;34m,\u001b[0m \u001b[0mlabel\u001b[0m\u001b[0;34m=\u001b[0m\u001b[0;34m'MW snap 600 halo'\u001b[0m\u001b[0;34m,\u001b[0m \u001b[0mc\u001b[0m\u001b[0;34m=\u001b[0m\u001b[0;34m'teal'\u001b[0m\u001b[0;34m)\u001b[0m\u001b[0;34m\u001b[0m\u001b[0;34m\u001b[0m\u001b[0m\n",
      "\u001b[0;31mNameError\u001b[0m: name 'enclosed_mass_MW_0_halo' is not defined"
     ]
    }
   ],
   "source": [
    "a = 40 # the estimated scale factor\n",
    "plt.semilogy(r, enclosed_mass_MW_0_halo, label='MW snap 0 halo', c='midnightblue')\n",
    "plt.semilogy(r, enclosed_mass_MW_200_halo, label='MW snap 200 halo', c='lightcoral')\n",
    "plt.semilogy(r, enclosed_mass_MW_400_halo, label='MW snap 400 halo', c='maroon')\n",
    "plt.semilogy(r, enclosed_mass_MW_600_halo, label='MW snap 600 halo', c='teal')\n",
    "plt.semilogy(r, enclosed_mass_MW_800_halo, label='MW snap 800  halo', c='olive')\n",
    "plt.semilogy(r,hernquist_profile_MW0, '--',label='Hernquist model at snap 0', c='darkred', linewidth=3)\n",
    "#do hernquist profile\n",
    "\n",
    "plt.legend()\n",
    "plt.xlabel(\"radius in kpc\")\n",
    "plt.ylabel('log(Mass in $M_{sol}$)')\n",
    "plt.title(\"Milky Way Mass Profile at a = %s\" % a)"
   ]
  },
  {
   "cell_type": "code",
   "execution_count": 109,
   "id": "879e491c",
   "metadata": {},
   "outputs": [],
   "source": [
    "hernquist_profile_M31_0 = M31_0.HernquistMass(r, a, sum(M31_0.m_new*1e10))"
   ]
  },
  {
   "cell_type": "code",
   "execution_count": 110,
   "id": "8073ad40",
   "metadata": {},
   "outputs": [
    {
     "data": {
      "text/plain": [
       "Text(0.5, 1.0, 'M31 Mass Profile at a = 60')"
      ]
     },
     "execution_count": 110,
     "metadata": {},
     "output_type": "execute_result"
    },
    {
     "data": {
      "image/png": "[encoded data removed]",
      "text/plain": [
       "<Figure size 640x480 with 1 Axes>"
      ]
     },
     "metadata": {},
     "output_type": "display_data"
    }
   ],
   "source": [
    "a = 60 # the estimated scale factor\n",
    "plt.semilogy(r, enclosed_mass_M31_0_halo, label='M31 snap 0 halo', c='midnightblue')\n",
    "plt.semilogy(r, enclosed_mass_M31_200_halo, label='M31 snap 200 halo', c='lightcoral')\n",
    "plt.semilogy(r, enclosed_mass_M31_400_halo, label='M31 snap 400 halo', c='maroon')\n",
    "plt.semilogy(r, enclosed_mass_M31_600_halo, label='M31 snap 600 halo', c='teal')\n",
    "plt.semilogy(r, enclosed_mass_M31_800_halo, label='M31 snap 800 halo', c='olive')\n",
    "plt.semilogy(r,hernquist_profile_M31_0, '--',label='Hernquist model at snap 0', c='darkred', linewidth=3)\n",
    "#do hernquist profile too\n",
    "\n",
    "plt.legend()\n",
    "plt.xlabel(\"radius in kpc\")\n",
    "plt.ylabel('log(Mass in $M_{sol}$)')\n",
    "plt.title(\"M31 Mass Profile at a = %s\" % a)"
   ]
  },
  {
   "cell_type": "markdown",
   "id": "3491fd0a",
   "metadata": {},
   "source": [
    "## Finding the Density/Combining"
   ]
  },
  {
   "cell_type": "code",
   "execution_count": 16,
   "id": "95c2656d",
   "metadata": {},
   "outputs": [
    {
     "ename": "TypeError",
     "evalue": "__init__() takes 3 positional arguments but 4 were given",
     "output_type": "error",
     "traceback": [
      "\u001b[0;31m---------------------------------------------------------------------------\u001b[0m",
      "\u001b[0;31mTypeError\u001b[0m                                 Traceback (most recent call last)",
      "\u001b[0;32m/var/folders/1h/z8n5ns0s4xz1pj0xl926qny40000gn/T/ipykernel_32295/2177410542.py\u001b[0m in \u001b[0;36m<module>\u001b[0;34m\u001b[0m\n\u001b[1;32m      1\u001b[0m \u001b[0mM31_MW_Mass\u001b[0m \u001b[0;34m=\u001b[0m \u001b[0mMassProfile\u001b[0m\u001b[0;34m(\u001b[0m\u001b[0;34m\"MW\"\u001b[0m\u001b[0;34m,\u001b[0m \u001b[0;34m\"M31\"\u001b[0m\u001b[0;34m,\u001b[0m \u001b[0;36m800\u001b[0m\u001b[0;34m)\u001b[0m\u001b[0;34m\u001b[0m\u001b[0;34m\u001b[0m\u001b[0m\n\u001b[1;32m      2\u001b[0m \u001b[0mr\u001b[0m \u001b[0;34m=\u001b[0m \u001b[0mnp\u001b[0m\u001b[0;34m.\u001b[0m\u001b[0marange\u001b[0m\u001b[0;34m(\u001b[0m\u001b[0;36m0.1\u001b[0m\u001b[0;34m,\u001b[0m \u001b[0;36m30.5\u001b[0m\u001b[0;34m,\u001b[0m \u001b[0;36m0.5\u001b[0m\u001b[0;34m)\u001b[0m\u001b[0;34m\u001b[0m\u001b[0;34m\u001b[0m\u001b[0m\n\u001b[0;32m----> 3\u001b[0;31m \u001b[0mM31_MW_enclosed_density\u001b[0m \u001b[0;34m=\u001b[0m \u001b[0mM31_MW_Mass\u001b[0m\u001b[0;34m.\u001b[0m\u001b[0mDensityEnclosed\u001b[0m\u001b[0;34m(\u001b[0m\u001b[0;36m1\u001b[0m\u001b[0;34m,\u001b[0m \u001b[0mr\u001b[0m\u001b[0;34m,\u001b[0m \u001b[0mvolDec\u001b[0m\u001b[0;34m=\u001b[0m\u001b[0;36m2.0\u001b[0m\u001b[0;34m)\u001b[0m\u001b[0;34m\u001b[0m\u001b[0;34m\u001b[0m\u001b[0m\n\u001b[0m",
      "\u001b[0;32m~/400B_2023_Kooi/research assignments/research assignment/ExtendedMassProfile.py\u001b[0m in \u001b[0;36mDensityEnclosed\u001b[0;34m(self, ptype, radii, volDec)\u001b[0m\n\u001b[1;32m    256\u001b[0m         '''\n\u001b[1;32m    257\u001b[0m         \u001b[0;31m#creating the CenterOfMass objects and calling previously defined COM_P\u001b[0m\u001b[0;34m\u001b[0m\u001b[0;34m\u001b[0m\u001b[0m\n\u001b[0;32m--> 258\u001b[0;31m         \u001b[0mCOM\u001b[0m \u001b[0;34m=\u001b[0m \u001b[0mCenterOfMass\u001b[0m\u001b[0;34m(\u001b[0m\u001b[0mself\u001b[0m\u001b[0;34m.\u001b[0m\u001b[0mfilename1\u001b[0m\u001b[0;34m,\u001b[0m\u001b[0mself\u001b[0m\u001b[0;34m.\u001b[0m\u001b[0mfilename2\u001b[0m\u001b[0;34m,\u001b[0m \u001b[0;36m2\u001b[0m\u001b[0;34m)\u001b[0m\u001b[0;34m\u001b[0m\u001b[0;34m\u001b[0m\u001b[0m\n\u001b[0m\u001b[1;32m    259\u001b[0m         \u001b[0mCOM_p\u001b[0m \u001b[0;34m=\u001b[0m \u001b[0mCOM\u001b[0m\u001b[0;34m.\u001b[0m\u001b[0mCOM_P\u001b[0m\u001b[0;34m(\u001b[0m\u001b[0;36m0.1\u001b[0m\u001b[0;34m,\u001b[0m\u001b[0mvolDec\u001b[0m\u001b[0;34m=\u001b[0m\u001b[0;36m2.0\u001b[0m\u001b[0;34m)\u001b[0m\u001b[0;34m\u001b[0m\u001b[0;34m\u001b[0m\u001b[0m\n\u001b[1;32m    260\u001b[0m         \u001b[0mprint\u001b[0m\u001b[0;34m(\u001b[0m\u001b[0mCOM_p\u001b[0m\u001b[0;34m)\u001b[0m\u001b[0;34m\u001b[0m\u001b[0;34m\u001b[0m\u001b[0m\n",
      "\u001b[0;31mTypeError\u001b[0m: __init__() takes 3 positional arguments but 4 were given"
     ]
    }
   ],
   "source": [
    "M31_MW_Mass = MassProfile(\"MW\", \"M31\", 800)\n",
    "r = np.arange(0.1, 30.5, 0.5)\n",
    "#try extending the radius if needed\n",
    "M31_MW_enclosed_density = M31_MW_Mass.DensityEnclosed(1, r, volDec=2.0)"
   ]
  },
  {
   "cell_type": "markdown",
   "id": "e32e4b28",
   "metadata": {},
   "source": [
    "## Hernquist Density Profile\n"
   ]
  },
  {
   "cell_type": "code",
   "execution_count": 18,
   "id": "f8c6c82f",
   "metadata": {},
   "outputs": [],
   "source": [
    "def HernquistDensity(self, radii, a, M_total):\n",
    "    '''\n",
    "    computes the density enclosed within a particular radius\n",
    "    \n",
    "    inputs: \n",
    "        radius: 'array'\n",
    "        an array of radii values\n",
    "        \n",
    "        a: 'float'\n",
    "            hernquist scale factor\n",
    "        M_total: #look at the numbers from HW3 and add together \n",
    "       \n",
    "            '''\n",
    "    rho =  (M/2*np.pi)*(a/r)*(1/(r+a)**3) #hernquist density equation                \n",
    "    a = 40 #scale factor \n",
    "    return rho"
   ]
  },
  {
   "cell_type": "code",
   "execution_count": 19,
   "id": "d69e7b6d",
   "metadata": {},
   "outputs": [
    {
     "ename": "NameError",
     "evalue": "name 'M31_800' is not defined",
     "output_type": "error",
     "traceback": [
      "\u001b[0;31m---------------------------------------------------------------------------\u001b[0m",
      "\u001b[0;31mNameError\u001b[0m                                 Traceback (most recent call last)",
      "\u001b[0;32m/var/folders/1h/z8n5ns0s4xz1pj0xl926qny40000gn/T/ipykernel_32023/3561966302.py\u001b[0m in \u001b[0;36m<module>\u001b[0;34m\u001b[0m\n\u001b[0;32m----> 1\u001b[0;31m \u001b[0mhernquist_density_profile_M31_800\u001b[0m \u001b[0;34m=\u001b[0m \u001b[0mM31_800\u001b[0m\u001b[0;34m.\u001b[0m\u001b[0mHernquistDensity\u001b[0m\u001b[0;34m(\u001b[0m\u001b[0mr\u001b[0m\u001b[0;34m,\u001b[0m \u001b[0ma\u001b[0m\u001b[0;34m,\u001b[0m \u001b[0msum\u001b[0m\u001b[0;34m(\u001b[0m\u001b[0mM31_800\u001b[0m\u001b[0;34m.\u001b[0m\u001b[0mm_new\u001b[0m\u001b[0;34m*\u001b[0m\u001b[0;36m1e10\u001b[0m\u001b[0;34m)\u001b[0m\u001b[0;34m)\u001b[0m\u001b[0;34m\u001b[0m\u001b[0;34m\u001b[0m\u001b[0m\n\u001b[0m",
      "\u001b[0;31mNameError\u001b[0m: name 'M31_800' is not defined"
     ]
    }
   ],
   "source": [
    "hernquist_density_profile_M31_800 = M31_800.HernquistDensity(r, a, sum(M31_800.m_new*1e10))"
   ]
  },
  {
   "cell_type": "markdown",
   "id": "39de3569",
   "metadata": {},
   "source": [
    "### Plots"
   ]
  },
  {
   "cell_type": "code",
   "execution_count": null,
   "id": "c7f0545f",
   "metadata": {},
   "outputs": [],
   "source": [
    "# plot #1 will show dark matter density as a function of radius of the MW-M31 merger "
   ]
  },
  {
   "cell_type": "code",
   "execution_count": null,
   "id": "33c45bde",
   "metadata": {},
   "outputs": [],
   "source": [
    "# plot #2 will show the difference between the hernquist density \n",
    "#profile and the calculated spherically averaged density"
   ]
  }
 ],
 "metadata": {
  "kernelspec": {
   "display_name": "Python 3 (ipykernel)",
   "language": "python",
   "name": "python3"
  },
  "language_info": {
   "codemirror_mode": {
    "name": "ipython",
    "version": 3
   },
   "file_extension": ".py",
   "mimetype": "text/x-python",
   "name": "python",
   "nbconvert_exporter": "python",
   "pygments_lexer": "ipython3",
   "version": "3.9.13"
  }
 },
 "nbformat": 4,
 "nbformat_minor": 5
}
