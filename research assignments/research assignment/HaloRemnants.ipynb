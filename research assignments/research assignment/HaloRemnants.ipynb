{
 "cells": [
  {
   "cell_type": "code",
   "execution_count": 9,
   "id": "f79f096e",
   "metadata": {},
   "outputs": [
    {
     "ename": "SyntaxError",
     "evalue": "invalid syntax (CenterOfMassExtended.py, line 41)",
     "output_type": "error",
     "traceback": [
      "Traceback \u001b[0;36m(most recent call last)\u001b[0m:\n",
      "  File \u001b[1;32m\"/Users/riannekooi/opt/anaconda3/lib/python3.9/site-packages/IPython/core/interactiveshell.py\"\u001b[0m, line \u001b[1;32m3457\u001b[0m, in \u001b[1;35mrun_code\u001b[0m\n    exec(code_obj, self.user_global_ns, self.user_ns)\n",
      "\u001b[0;36m  File \u001b[0;32m\"/var/folders/1h/z8n5ns0s4xz1pj0xl926qny40000gn/T/ipykernel_32767/762107614.py\"\u001b[0;36m, line \u001b[0;32m9\u001b[0;36m, in \u001b[0;35m<module>\u001b[0;36m\u001b[0m\n\u001b[0;31m    from CenterOfMassExtended import CenterOfMass\u001b[0m\n",
      "\u001b[0;36m  File \u001b[0;32m\"/Users/riannekooi/400B_2023_Kooi/research assignments/research assignment/CenterOfMassExtended.py\"\u001b[0;36m, line \u001b[0;32m41\u001b[0m\n\u001b[0;31m    self.index2 = np.where(self.data2['type'] == ptype\u001b[0m\n\u001b[0m    ^\u001b[0m\n\u001b[0;31mSyntaxError\u001b[0m\u001b[0;31m:\u001b[0m invalid syntax\n"
     ]
    }
   ],
   "source": [
    "import numpy as np\n",
    "import astropy.units as u\n",
    "import astropy.table as tbl\n",
    "import matplotlib.pyplot as plt\n",
    "import matplotlib\n",
    "%matplotlib inline\n",
    "\n",
    "from ReadFile import Read\n",
    "from CenterOfMassExtended import CenterOfMass\n",
    "from ExtendedMassProfile import MassProfile"
   ]
  },
  {
   "cell_type": "markdown",
   "id": "3491fd0a",
   "metadata": {},
   "source": [
    "## Finding the Density/Combining"
   ]
  },
  {
   "cell_type": "code",
   "execution_count": 8,
   "id": "95c2656d",
   "metadata": {},
   "outputs": [
    {
     "ename": "NameError",
     "evalue": "name 'MassProfile' is not defined",
     "output_type": "error",
     "traceback": [
      "\u001b[0;31m---------------------------------------------------------------------------\u001b[0m",
      "\u001b[0;31mNameError\u001b[0m                                 Traceback (most recent call last)",
      "\u001b[0;32m/var/folders/1h/z8n5ns0s4xz1pj0xl926qny40000gn/T/ipykernel_32767/2778864934.py\u001b[0m in \u001b[0;36m<module>\u001b[0;34m\u001b[0m\n\u001b[0;32m----> 1\u001b[0;31m \u001b[0mM31_MW_Mass\u001b[0m \u001b[0;34m=\u001b[0m \u001b[0mMassProfile\u001b[0m\u001b[0;34m(\u001b[0m\u001b[0;34m\"MW\"\u001b[0m\u001b[0;34m,\u001b[0m \u001b[0;34m\"M31\"\u001b[0m\u001b[0;34m,\u001b[0m \u001b[0;36m800\u001b[0m\u001b[0;34m)\u001b[0m\u001b[0;34m\u001b[0m\u001b[0;34m\u001b[0m\u001b[0m\n\u001b[0m\u001b[1;32m      2\u001b[0m \u001b[0mr\u001b[0m \u001b[0;34m=\u001b[0m \u001b[0mnp\u001b[0m\u001b[0;34m.\u001b[0m\u001b[0marange\u001b[0m\u001b[0;34m(\u001b[0m\u001b[0;36m0.1\u001b[0m\u001b[0;34m,\u001b[0m \u001b[0;36m30.5\u001b[0m\u001b[0;34m,\u001b[0m \u001b[0;36m0.5\u001b[0m\u001b[0;34m)\u001b[0m\u001b[0;34m\u001b[0m\u001b[0;34m\u001b[0m\u001b[0m\n\u001b[1;32m      3\u001b[0m \u001b[0;31m#try extending the radius if needed\u001b[0m\u001b[0;34m\u001b[0m\u001b[0;34m\u001b[0m\u001b[0m\n\u001b[1;32m      4\u001b[0m \u001b[0mM31_MW_enclosed_density\u001b[0m \u001b[0;34m=\u001b[0m \u001b[0mM31_MW_Mass\u001b[0m\u001b[0;34m.\u001b[0m\u001b[0mDensityEnclosed\u001b[0m\u001b[0;34m(\u001b[0m\u001b[0;36m1\u001b[0m\u001b[0;34m,\u001b[0m \u001b[0mr\u001b[0m\u001b[0;34m,\u001b[0m \u001b[0mvolDec\u001b[0m\u001b[0;34m=\u001b[0m\u001b[0;36m2.0\u001b[0m\u001b[0;34m)\u001b[0m\u001b[0;34m\u001b[0m\u001b[0;34m\u001b[0m\u001b[0m\n",
      "\u001b[0;31mNameError\u001b[0m: name 'MassProfile' is not defined"
     ]
    }
   ],
   "source": [
    "M31_MW_Mass = MassProfile(\"MW\", \"M31\", 800)\n",
    "r = np.arange(0.1, 30.5, 0.5)\n",
    "#try extending the radius if needed\n",
    "M31_MW_enclosed_density = M31_MW_Mass.DensityEnclosed(1, r, volDec=2.0)"
   ]
  },
  {
   "cell_type": "markdown",
   "id": "e32e4b28",
   "metadata": {},
   "source": [
    "## Hernquist Density Profile\n"
   ]
  },
  {
   "cell_type": "code",
   "execution_count": 18,
   "id": "f8c6c82f",
   "metadata": {},
   "outputs": [],
   "source": [
    "def HernquistDensity(self, radii, a, M_total):\n",
    "    '''\n",
    "    computes the density enclosed within a particular radius\n",
    "    \n",
    "    inputs: \n",
    "        radius: 'array'\n",
    "        an array of radii values\n",
    "        \n",
    "        a: 'float'\n",
    "            hernquist scale factor\n",
    "        M_total: #look at the numbers from HW3 and add together \n",
    "       \n",
    "            '''\n",
    "    rho =  (M/2*np.pi)*(a/r)*(1/(r+a)**3) #hernquist density equation                \n",
    "    a = 40 #scale factor \n",
    "    return rho"
   ]
  },
  {
   "cell_type": "code",
   "execution_count": 19,
   "id": "d69e7b6d",
   "metadata": {},
   "outputs": [
    {
     "ename": "NameError",
     "evalue": "name 'M31_800' is not defined",
     "output_type": "error",
     "traceback": [
      "\u001b[0;31m---------------------------------------------------------------------------\u001b[0m",
      "\u001b[0;31mNameError\u001b[0m                                 Traceback (most recent call last)",
      "\u001b[0;32m/var/folders/1h/z8n5ns0s4xz1pj0xl926qny40000gn/T/ipykernel_32023/3561966302.py\u001b[0m in \u001b[0;36m<module>\u001b[0;34m\u001b[0m\n\u001b[0;32m----> 1\u001b[0;31m \u001b[0mhernquist_density_profile_M31_800\u001b[0m \u001b[0;34m=\u001b[0m \u001b[0mM31_800\u001b[0m\u001b[0;34m.\u001b[0m\u001b[0mHernquistDensity\u001b[0m\u001b[0;34m(\u001b[0m\u001b[0mr\u001b[0m\u001b[0;34m,\u001b[0m \u001b[0ma\u001b[0m\u001b[0;34m,\u001b[0m \u001b[0msum\u001b[0m\u001b[0;34m(\u001b[0m\u001b[0mM31_800\u001b[0m\u001b[0;34m.\u001b[0m\u001b[0mm_new\u001b[0m\u001b[0;34m*\u001b[0m\u001b[0;36m1e10\u001b[0m\u001b[0;34m)\u001b[0m\u001b[0;34m)\u001b[0m\u001b[0;34m\u001b[0m\u001b[0;34m\u001b[0m\u001b[0m\n\u001b[0m",
      "\u001b[0;31mNameError\u001b[0m: name 'M31_800' is not defined"
     ]
    }
   ],
   "source": [
    "hernquist_density_profile_M31_800 = M31_800.HernquistDensity(r, a, sum(M31_800.m_new*1e10))"
   ]
  },
  {
   "cell_type": "markdown",
   "id": "39de3569",
   "metadata": {},
   "source": [
    "### Plots"
   ]
  },
  {
   "cell_type": "code",
   "execution_count": null,
   "id": "c7f0545f",
   "metadata": {},
   "outputs": [],
   "source": [
    "# plot #1 will show dark matter density as a function of radius of the MW-M31 merger "
   ]
  },
  {
   "cell_type": "code",
   "execution_count": null,
   "id": "33c45bde",
   "metadata": {},
   "outputs": [],
   "source": [
    "# plot #2 will show the difference between the hernquist density \n",
    "#profile and the calculated spherically averaged density"
   ]
  }
 ],
 "metadata": {
  "kernelspec": {
   "display_name": "Python 3 (ipykernel)",
   "language": "python",
   "name": "python3"
  },
  "language_info": {
   "codemirror_mode": {
    "name": "ipython",
    "version": 3
   },
   "file_extension": ".py",
   "mimetype": "text/x-python",
   "name": "python",
   "nbconvert_exporter": "python",
   "pygments_lexer": "ipython3",
   "version": "3.9.13"
  }
 },
 "nbformat": 4,
 "nbformat_minor": 5
}
