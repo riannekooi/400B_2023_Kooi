{
 "cells": [
  {
   "cell_type": "code",
   "execution_count": 7,
   "id": "f79f096e",
   "metadata": {},
   "outputs": [
    {
     "ename": "NameError",
     "evalue": "name 'volDec' is not defined",
     "output_type": "error",
     "traceback": [
      "\u001b[0;31m---------------------------------------------------------------------------\u001b[0m",
      "\u001b[0;31mNameError\u001b[0m                                 Traceback (most recent call last)",
      "\u001b[0;32m/var/folders/1h/z8n5ns0s4xz1pj0xl926qny40000gn/T/ipykernel_86478/1407227697.py\u001b[0m in \u001b[0;36m<module>\u001b[0;34m\u001b[0m\n\u001b[1;32m      6\u001b[0m \u001b[0;32mfrom\u001b[0m \u001b[0mReadFile\u001b[0m \u001b[0;32mimport\u001b[0m \u001b[0mRead\u001b[0m\u001b[0;34m\u001b[0m\u001b[0;34m\u001b[0m\u001b[0m\n\u001b[1;32m      7\u001b[0m \u001b[0;32mfrom\u001b[0m \u001b[0mCenterOfMass2\u001b[0m \u001b[0;32mimport\u001b[0m \u001b[0mCenterOfMass\u001b[0m\u001b[0;34m\u001b[0m\u001b[0;34m\u001b[0m\u001b[0m\n\u001b[0;32m----> 8\u001b[0;31m \u001b[0;32mfrom\u001b[0m \u001b[0mMassProfile\u001b[0m \u001b[0;32mimport\u001b[0m \u001b[0mMassProfile\u001b[0m\u001b[0;34m\u001b[0m\u001b[0;34m\u001b[0m\u001b[0m\n\u001b[0m",
      "\u001b[0;32m~/400B_2023_Kooi/research assignments/research assignment/MassProfile.py\u001b[0m in \u001b[0;36m<module>\u001b[0;34m\u001b[0m\n\u001b[1;32m    247\u001b[0m \u001b[0;34m\u001b[0m\u001b[0m\n\u001b[1;32m    248\u001b[0m \u001b[0;31m# calculating enclosed mass for each galaxy component for each radius\u001b[0m\u001b[0;34m\u001b[0m\u001b[0;34m\u001b[0m\u001b[0m\n\u001b[0;32m--> 249\u001b[0;31m \u001b[0menclosed_mass_MW_halo\u001b[0m \u001b[0;34m=\u001b[0m \u001b[0mMW\u001b[0m\u001b[0;34m.\u001b[0m\u001b[0mMassEnclosed\u001b[0m\u001b[0;34m(\u001b[0m\u001b[0;36m1\u001b[0m\u001b[0;34m,\u001b[0m\u001b[0mr\u001b[0m\u001b[0;34m)\u001b[0m\u001b[0;34m\u001b[0m\u001b[0;34m\u001b[0m\u001b[0m\n\u001b[0m\u001b[1;32m    250\u001b[0m \u001b[0menclosed_mass_MW_disk\u001b[0m \u001b[0;34m=\u001b[0m \u001b[0mMW\u001b[0m\u001b[0;34m.\u001b[0m\u001b[0mMassEnclosed\u001b[0m\u001b[0;34m(\u001b[0m\u001b[0;36m2\u001b[0m\u001b[0;34m,\u001b[0m\u001b[0mr\u001b[0m\u001b[0;34m)\u001b[0m\u001b[0;34m\u001b[0m\u001b[0;34m\u001b[0m\u001b[0m\n\u001b[1;32m    251\u001b[0m \u001b[0menclosed_mass_MW_bulge\u001b[0m \u001b[0;34m=\u001b[0m \u001b[0mMW\u001b[0m\u001b[0;34m.\u001b[0m\u001b[0mMassEnclosed\u001b[0m\u001b[0;34m(\u001b[0m\u001b[0;36m3\u001b[0m\u001b[0;34m,\u001b[0m\u001b[0mr\u001b[0m\u001b[0;34m)\u001b[0m\u001b[0;34m\u001b[0m\u001b[0;34m\u001b[0m\u001b[0m\n",
      "\u001b[0;32m~/400B_2023_Kooi/research assignments/research assignment/MassProfile.py\u001b[0m in \u001b[0;36mMassEnclosed\u001b[0;34m(self, ptype, radii)\u001b[0m\n\u001b[1;32m     74\u001b[0m         \u001b[0;31m#creating the CenterOfMass objects and calling previously defined COM_P\u001b[0m\u001b[0;34m\u001b[0m\u001b[0;34m\u001b[0m\u001b[0m\n\u001b[1;32m     75\u001b[0m         \u001b[0mCOM\u001b[0m \u001b[0;34m=\u001b[0m \u001b[0mCenterOfMass\u001b[0m\u001b[0;34m(\u001b[0m\u001b[0mself\u001b[0m\u001b[0;34m.\u001b[0m\u001b[0mfilename\u001b[0m\u001b[0;34m,\u001b[0m \u001b[0mptype\u001b[0m\u001b[0;34m)\u001b[0m\u001b[0;34m\u001b[0m\u001b[0;34m\u001b[0m\u001b[0m\n\u001b[0;32m---> 76\u001b[0;31m         \u001b[0mCOM_p\u001b[0m \u001b[0;34m=\u001b[0m \u001b[0mCOM\u001b[0m\u001b[0;34m.\u001b[0m\u001b[0mCOM_P\u001b[0m\u001b[0;34m(\u001b[0m\u001b[0;36m0.1\u001b[0m\u001b[0;34m,\u001b[0m \u001b[0mvolDec\u001b[0m\u001b[0;34m)\u001b[0m\u001b[0;34m\u001b[0m\u001b[0;34m\u001b[0m\u001b[0m\n\u001b[0m\u001b[1;32m     77\u001b[0m         \u001b[0mprint\u001b[0m\u001b[0;34m(\u001b[0m\u001b[0mCOM_p\u001b[0m\u001b[0;34m)\u001b[0m\u001b[0;34m\u001b[0m\u001b[0;34m\u001b[0m\u001b[0m\n\u001b[1;32m     78\u001b[0m \u001b[0;34m\u001b[0m\u001b[0m\n",
      "\u001b[0;31mNameError\u001b[0m: name 'volDec' is not defined"
     ]
    }
   ],
   "source": [
    "import numpy as np\n",
    "import astropy.units as u\n",
    "import astropy.table as tbl\n",
    "import matplotlib as plt\n",
    "\n",
    "from ReadFile import Read\n",
    "from CenterOfMass2 import CenterOfMass\n",
    "from MassProfile import MassProfile"
   ]
  },
  {
   "cell_type": "markdown",
   "id": "f5100661",
   "metadata": {},
   "source": [
    "## Milky Way Mass Profiles"
   ]
  },
  {
   "cell_type": "code",
   "execution_count": 35,
   "id": "a4ca0dd9",
   "metadata": {},
   "outputs": [
    {
     "name": "stdout",
     "output_type": "stream",
     "text": [
      "this worked\n"
     ]
    },
    {
     "ename": "TypeError",
     "evalue": "COM_P() missing 1 required positional argument: 'volDec'",
     "output_type": "error",
     "traceback": [
      "\u001b[0;31m---------------------------------------------------------------------------\u001b[0m",
      "\u001b[0;31mTypeError\u001b[0m                                 Traceback (most recent call last)",
      "\u001b[0;32m/var/folders/1h/z8n5ns0s4xz1pj0xl926qny40000gn/T/ipykernel_84717/3908372326.py\u001b[0m in \u001b[0;36m<module>\u001b[0;34m\u001b[0m\n\u001b[1;32m      5\u001b[0m \u001b[0;34m\u001b[0m\u001b[0m\n\u001b[1;32m      6\u001b[0m \u001b[0;31m# calculating enclosed mass for each galaxy component for each radius\u001b[0m\u001b[0;34m\u001b[0m\u001b[0;34m\u001b[0m\u001b[0m\n\u001b[0;32m----> 7\u001b[0;31m \u001b[0menclosed_mass_MW_halo\u001b[0m \u001b[0;34m=\u001b[0m \u001b[0mMW\u001b[0m\u001b[0;34m.\u001b[0m\u001b[0mMassEnclosed\u001b[0m\u001b[0;34m(\u001b[0m\u001b[0;36m1\u001b[0m\u001b[0;34m,\u001b[0m\u001b[0mr\u001b[0m\u001b[0;34m)\u001b[0m\u001b[0;34m\u001b[0m\u001b[0;34m\u001b[0m\u001b[0m\n\u001b[0m\u001b[1;32m      8\u001b[0m \u001b[0menclosed_mass_MW_disk\u001b[0m \u001b[0;34m=\u001b[0m \u001b[0mMW\u001b[0m\u001b[0;34m.\u001b[0m\u001b[0mMassEnclosed\u001b[0m\u001b[0;34m(\u001b[0m\u001b[0;36m2\u001b[0m\u001b[0;34m,\u001b[0m\u001b[0mr\u001b[0m\u001b[0;34m)\u001b[0m\u001b[0;34m\u001b[0m\u001b[0;34m\u001b[0m\u001b[0m\n\u001b[1;32m      9\u001b[0m \u001b[0menclosed_mass_MW_bulge\u001b[0m \u001b[0;34m=\u001b[0m \u001b[0mMW\u001b[0m\u001b[0;34m.\u001b[0m\u001b[0mMassEnclosed\u001b[0m\u001b[0;34m(\u001b[0m\u001b[0;36m3\u001b[0m\u001b[0;34m,\u001b[0m\u001b[0mr\u001b[0m\u001b[0;34m)\u001b[0m\u001b[0;34m\u001b[0m\u001b[0;34m\u001b[0m\u001b[0m\n",
      "\u001b[0;32m~/400B_2023_Kooi/research assignments/research assignment/MassProfile.py\u001b[0m in \u001b[0;36mMassEnclosed\u001b[0;34m(self, ptype, radii)\u001b[0m\n\u001b[1;32m     74\u001b[0m         \u001b[0;31m#creating the CenterOfMass objects and calling previously defined COM_P\u001b[0m\u001b[0;34m\u001b[0m\u001b[0;34m\u001b[0m\u001b[0m\n\u001b[1;32m     75\u001b[0m         \u001b[0mCOM\u001b[0m \u001b[0;34m=\u001b[0m \u001b[0mCenterOfMass\u001b[0m\u001b[0;34m(\u001b[0m\u001b[0mself\u001b[0m\u001b[0;34m.\u001b[0m\u001b[0mfilename\u001b[0m\u001b[0;34m,\u001b[0m \u001b[0mptype\u001b[0m\u001b[0;34m)\u001b[0m\u001b[0;34m\u001b[0m\u001b[0;34m\u001b[0m\u001b[0m\n\u001b[0;32m---> 76\u001b[0;31m         \u001b[0mCOM_p\u001b[0m \u001b[0;34m=\u001b[0m \u001b[0mCOM\u001b[0m\u001b[0;34m.\u001b[0m\u001b[0mCOM_P\u001b[0m\u001b[0;34m(\u001b[0m\u001b[0;36m0.1\u001b[0m\u001b[0;34m)\u001b[0m\u001b[0;34m\u001b[0m\u001b[0;34m\u001b[0m\u001b[0m\n\u001b[0m\u001b[1;32m     77\u001b[0m         \u001b[0mprint\u001b[0m\u001b[0;34m(\u001b[0m\u001b[0mCOM_p\u001b[0m\u001b[0;34m)\u001b[0m\u001b[0;34m\u001b[0m\u001b[0;34m\u001b[0m\u001b[0m\n\u001b[1;32m     78\u001b[0m \u001b[0;34m\u001b[0m\u001b[0m\n",
      "\u001b[0;31mTypeError\u001b[0m: COM_P() missing 1 required positional argument: 'volDec'"
     ]
    }
   ],
   "source": [
    "MW_0 = MassProfile(\"MW\", 0)\n",
    "print(\"this worked\")\n",
    "r = np.arange(0.1, 30.5, 0.5) # radius range we are using up to 30kpc\n",
    "\n",
    "\n",
    "# calculating enclosed mass for the halo\n",
    "enclosed_mass_MW_halo = MW.MassEnclosed(1,r)\n",
    "\n",
    "\n"
   ]
  },
  {
   "cell_type": "code",
   "execution_count": 37,
   "id": "ef2348cf",
   "metadata": {},
   "outputs": [
    {
     "name": "stdout",
     "output_type": "stream",
     "text": [
      "this worked\n"
     ]
    },
    {
     "ename": "TypeError",
     "evalue": "COM_P() missing 1 required positional argument: 'volDec'",
     "output_type": "error",
     "traceback": [
      "\u001b[0;31m---------------------------------------------------------------------------\u001b[0m",
      "\u001b[0;31mTypeError\u001b[0m                                 Traceback (most recent call last)",
      "\u001b[0;32m/var/folders/1h/z8n5ns0s4xz1pj0xl926qny40000gn/T/ipykernel_84717/611742076.py\u001b[0m in \u001b[0;36m<module>\u001b[0;34m\u001b[0m\n\u001b[1;32m      5\u001b[0m \u001b[0;34m\u001b[0m\u001b[0m\n\u001b[1;32m      6\u001b[0m \u001b[0;31m# calculating enclosed mass for each galaxy component for each radius\u001b[0m\u001b[0;34m\u001b[0m\u001b[0;34m\u001b[0m\u001b[0m\n\u001b[0;32m----> 7\u001b[0;31m \u001b[0menclosed_mass_MW_halo\u001b[0m \u001b[0;34m=\u001b[0m \u001b[0mMW\u001b[0m\u001b[0;34m.\u001b[0m\u001b[0mMassEnclosed\u001b[0m\u001b[0;34m(\u001b[0m\u001b[0;36m1\u001b[0m\u001b[0;34m,\u001b[0m\u001b[0mr\u001b[0m\u001b[0;34m)\u001b[0m\u001b[0;34m\u001b[0m\u001b[0;34m\u001b[0m\u001b[0m\n\u001b[0m\u001b[1;32m      8\u001b[0m \u001b[0menclosed_mass_MW_disk\u001b[0m \u001b[0;34m=\u001b[0m \u001b[0mMW\u001b[0m\u001b[0;34m.\u001b[0m\u001b[0mMassEnclosed\u001b[0m\u001b[0;34m(\u001b[0m\u001b[0;36m2\u001b[0m\u001b[0;34m,\u001b[0m\u001b[0mr\u001b[0m\u001b[0;34m)\u001b[0m\u001b[0;34m\u001b[0m\u001b[0;34m\u001b[0m\u001b[0m\n\u001b[1;32m      9\u001b[0m \u001b[0menclosed_mass_MW_bulge\u001b[0m \u001b[0;34m=\u001b[0m \u001b[0mMW\u001b[0m\u001b[0;34m.\u001b[0m\u001b[0mMassEnclosed\u001b[0m\u001b[0;34m(\u001b[0m\u001b[0;36m3\u001b[0m\u001b[0;34m,\u001b[0m\u001b[0mr\u001b[0m\u001b[0;34m)\u001b[0m\u001b[0;34m\u001b[0m\u001b[0;34m\u001b[0m\u001b[0m\n",
      "\u001b[0;32m~/400B_2023_Kooi/research assignments/research assignment/MassProfile.py\u001b[0m in \u001b[0;36mMassEnclosed\u001b[0;34m(self, ptype, radii)\u001b[0m\n\u001b[1;32m     74\u001b[0m         \u001b[0;31m#creating the CenterOfMass objects and calling previously defined COM_P\u001b[0m\u001b[0;34m\u001b[0m\u001b[0;34m\u001b[0m\u001b[0m\n\u001b[1;32m     75\u001b[0m         \u001b[0mCOM\u001b[0m \u001b[0;34m=\u001b[0m \u001b[0mCenterOfMass\u001b[0m\u001b[0;34m(\u001b[0m\u001b[0mself\u001b[0m\u001b[0;34m.\u001b[0m\u001b[0mfilename\u001b[0m\u001b[0;34m,\u001b[0m \u001b[0mptype\u001b[0m\u001b[0;34m)\u001b[0m\u001b[0;34m\u001b[0m\u001b[0;34m\u001b[0m\u001b[0m\n\u001b[0;32m---> 76\u001b[0;31m         \u001b[0mCOM_p\u001b[0m \u001b[0;34m=\u001b[0m \u001b[0mCOM\u001b[0m\u001b[0;34m.\u001b[0m\u001b[0mCOM_P\u001b[0m\u001b[0;34m(\u001b[0m\u001b[0;36m0.1\u001b[0m\u001b[0;34m)\u001b[0m\u001b[0;34m\u001b[0m\u001b[0;34m\u001b[0m\u001b[0m\n\u001b[0m\u001b[1;32m     77\u001b[0m         \u001b[0mprint\u001b[0m\u001b[0;34m(\u001b[0m\u001b[0mCOM_p\u001b[0m\u001b[0;34m)\u001b[0m\u001b[0;34m\u001b[0m\u001b[0;34m\u001b[0m\u001b[0m\n\u001b[1;32m     78\u001b[0m \u001b[0;34m\u001b[0m\u001b[0m\n",
      "\u001b[0;31mTypeError\u001b[0m: COM_P() missing 1 required positional argument: 'volDec'"
     ]
    }
   ],
   "source": [
    "#need to fix the mass profile to see the 200th snapshot\n",
    "MW_200 = MassProfile(\"MW\", 200)\n",
    "print(\"this worked\")\n",
    "r = np.arange(0.1, 30.5, 0.5) # radius range we are using up to 30kpc\n",
    "\n",
    "\n",
    "# calculating enclosed mass for the halo\n",
    "enclosed_mass_MW_halo = MW.MassEnclosed(1,r)\n"
   ]
  },
  {
   "cell_type": "code",
   "execution_count": 38,
   "id": "618a89cc",
   "metadata": {},
   "outputs": [
    {
     "name": "stdout",
     "output_type": "stream",
     "text": [
      "this worked\n"
     ]
    },
    {
     "ename": "TypeError",
     "evalue": "COM_P() missing 1 required positional argument: 'volDec'",
     "output_type": "error",
     "traceback": [
      "\u001b[0;31m---------------------------------------------------------------------------\u001b[0m",
      "\u001b[0;31mTypeError\u001b[0m                                 Traceback (most recent call last)",
      "\u001b[0;32m/var/folders/1h/z8n5ns0s4xz1pj0xl926qny40000gn/T/ipykernel_84717/3145656372.py\u001b[0m in \u001b[0;36m<module>\u001b[0;34m\u001b[0m\n\u001b[1;32m      5\u001b[0m \u001b[0;34m\u001b[0m\u001b[0m\n\u001b[1;32m      6\u001b[0m \u001b[0;31m# calculating enclosed mass for each galaxy component for each radius\u001b[0m\u001b[0;34m\u001b[0m\u001b[0;34m\u001b[0m\u001b[0m\n\u001b[0;32m----> 7\u001b[0;31m \u001b[0menclosed_mass_MW_halo\u001b[0m \u001b[0;34m=\u001b[0m \u001b[0mMW\u001b[0m\u001b[0;34m.\u001b[0m\u001b[0mMassEnclosed\u001b[0m\u001b[0;34m(\u001b[0m\u001b[0;36m1\u001b[0m\u001b[0;34m,\u001b[0m\u001b[0mr\u001b[0m\u001b[0;34m)\u001b[0m\u001b[0;34m\u001b[0m\u001b[0;34m\u001b[0m\u001b[0m\n\u001b[0m\u001b[1;32m      8\u001b[0m \u001b[0menclosed_mass_MW_disk\u001b[0m \u001b[0;34m=\u001b[0m \u001b[0mMW\u001b[0m\u001b[0;34m.\u001b[0m\u001b[0mMassEnclosed\u001b[0m\u001b[0;34m(\u001b[0m\u001b[0;36m2\u001b[0m\u001b[0;34m,\u001b[0m\u001b[0mr\u001b[0m\u001b[0;34m)\u001b[0m\u001b[0;34m\u001b[0m\u001b[0;34m\u001b[0m\u001b[0m\n\u001b[1;32m      9\u001b[0m \u001b[0menclosed_mass_MW_bulge\u001b[0m \u001b[0;34m=\u001b[0m \u001b[0mMW\u001b[0m\u001b[0;34m.\u001b[0m\u001b[0mMassEnclosed\u001b[0m\u001b[0;34m(\u001b[0m\u001b[0;36m3\u001b[0m\u001b[0;34m,\u001b[0m\u001b[0mr\u001b[0m\u001b[0;34m)\u001b[0m\u001b[0;34m\u001b[0m\u001b[0;34m\u001b[0m\u001b[0m\n",
      "\u001b[0;32m~/400B_2023_Kooi/research assignments/research assignment/MassProfile.py\u001b[0m in \u001b[0;36mMassEnclosed\u001b[0;34m(self, ptype, radii)\u001b[0m\n\u001b[1;32m     74\u001b[0m         \u001b[0;31m#creating the CenterOfMass objects and calling previously defined COM_P\u001b[0m\u001b[0;34m\u001b[0m\u001b[0;34m\u001b[0m\u001b[0m\n\u001b[1;32m     75\u001b[0m         \u001b[0mCOM\u001b[0m \u001b[0;34m=\u001b[0m \u001b[0mCenterOfMass\u001b[0m\u001b[0;34m(\u001b[0m\u001b[0mself\u001b[0m\u001b[0;34m.\u001b[0m\u001b[0mfilename\u001b[0m\u001b[0;34m,\u001b[0m \u001b[0mptype\u001b[0m\u001b[0;34m)\u001b[0m\u001b[0;34m\u001b[0m\u001b[0;34m\u001b[0m\u001b[0m\n\u001b[0;32m---> 76\u001b[0;31m         \u001b[0mCOM_p\u001b[0m \u001b[0;34m=\u001b[0m \u001b[0mCOM\u001b[0m\u001b[0;34m.\u001b[0m\u001b[0mCOM_P\u001b[0m\u001b[0;34m(\u001b[0m\u001b[0;36m0.1\u001b[0m\u001b[0;34m)\u001b[0m\u001b[0;34m\u001b[0m\u001b[0;34m\u001b[0m\u001b[0m\n\u001b[0m\u001b[1;32m     77\u001b[0m         \u001b[0mprint\u001b[0m\u001b[0;34m(\u001b[0m\u001b[0mCOM_p\u001b[0m\u001b[0;34m)\u001b[0m\u001b[0;34m\u001b[0m\u001b[0;34m\u001b[0m\u001b[0m\n\u001b[1;32m     78\u001b[0m \u001b[0;34m\u001b[0m\u001b[0m\n",
      "\u001b[0;31mTypeError\u001b[0m: COM_P() missing 1 required positional argument: 'volDec'"
     ]
    }
   ],
   "source": [
    "#need to fix the mass profile to see the 400th snapshot\n",
    "MW_400 = MassProfile(\"MW\", 400)\n",
    "print(\"this worked\")\n",
    "r = np.arange(0.1, 30.5, 0.5) # radius range we are using up to 30kpc\n",
    "\n",
    "\n",
    "# calculating enclosed mass for the halo\n",
    "enclosed_mass_MW_halo = MW.MassEnclosed(1,r)\n"
   ]
  },
  {
   "cell_type": "code",
   "execution_count": 39,
   "id": "ca39b23d",
   "metadata": {},
   "outputs": [
    {
     "name": "stdout",
     "output_type": "stream",
     "text": [
      "this worked\n"
     ]
    },
    {
     "ename": "TypeError",
     "evalue": "COM_P() missing 1 required positional argument: 'volDec'",
     "output_type": "error",
     "traceback": [
      "\u001b[0;31m---------------------------------------------------------------------------\u001b[0m",
      "\u001b[0;31mTypeError\u001b[0m                                 Traceback (most recent call last)",
      "\u001b[0;32m/var/folders/1h/z8n5ns0s4xz1pj0xl926qny40000gn/T/ipykernel_84717/3496987260.py\u001b[0m in \u001b[0;36m<module>\u001b[0;34m\u001b[0m\n\u001b[1;32m      5\u001b[0m \u001b[0;34m\u001b[0m\u001b[0m\n\u001b[1;32m      6\u001b[0m \u001b[0;31m# calculating enclosed mass for each galaxy component for each radius\u001b[0m\u001b[0;34m\u001b[0m\u001b[0;34m\u001b[0m\u001b[0m\n\u001b[0;32m----> 7\u001b[0;31m \u001b[0menclosed_mass_MW_halo\u001b[0m \u001b[0;34m=\u001b[0m \u001b[0mMW\u001b[0m\u001b[0;34m.\u001b[0m\u001b[0mMassEnclosed\u001b[0m\u001b[0;34m(\u001b[0m\u001b[0;36m1\u001b[0m\u001b[0;34m,\u001b[0m\u001b[0mr\u001b[0m\u001b[0;34m)\u001b[0m\u001b[0;34m\u001b[0m\u001b[0;34m\u001b[0m\u001b[0m\n\u001b[0m\u001b[1;32m      8\u001b[0m \u001b[0menclosed_mass_MW_disk\u001b[0m \u001b[0;34m=\u001b[0m \u001b[0mMW\u001b[0m\u001b[0;34m.\u001b[0m\u001b[0mMassEnclosed\u001b[0m\u001b[0;34m(\u001b[0m\u001b[0;36m2\u001b[0m\u001b[0;34m,\u001b[0m\u001b[0mr\u001b[0m\u001b[0;34m)\u001b[0m\u001b[0;34m\u001b[0m\u001b[0;34m\u001b[0m\u001b[0m\n\u001b[1;32m      9\u001b[0m \u001b[0menclosed_mass_MW_bulge\u001b[0m \u001b[0;34m=\u001b[0m \u001b[0mMW\u001b[0m\u001b[0;34m.\u001b[0m\u001b[0mMassEnclosed\u001b[0m\u001b[0;34m(\u001b[0m\u001b[0;36m3\u001b[0m\u001b[0;34m,\u001b[0m\u001b[0mr\u001b[0m\u001b[0;34m)\u001b[0m\u001b[0;34m\u001b[0m\u001b[0;34m\u001b[0m\u001b[0m\n",
      "\u001b[0;32m~/400B_2023_Kooi/research assignments/research assignment/MassProfile.py\u001b[0m in \u001b[0;36mMassEnclosed\u001b[0;34m(self, ptype, radii)\u001b[0m\n\u001b[1;32m     74\u001b[0m         \u001b[0;31m#creating the CenterOfMass objects and calling previously defined COM_P\u001b[0m\u001b[0;34m\u001b[0m\u001b[0;34m\u001b[0m\u001b[0m\n\u001b[1;32m     75\u001b[0m         \u001b[0mCOM\u001b[0m \u001b[0;34m=\u001b[0m \u001b[0mCenterOfMass\u001b[0m\u001b[0;34m(\u001b[0m\u001b[0mself\u001b[0m\u001b[0;34m.\u001b[0m\u001b[0mfilename\u001b[0m\u001b[0;34m,\u001b[0m \u001b[0mptype\u001b[0m\u001b[0;34m)\u001b[0m\u001b[0;34m\u001b[0m\u001b[0;34m\u001b[0m\u001b[0m\n\u001b[0;32m---> 76\u001b[0;31m         \u001b[0mCOM_p\u001b[0m \u001b[0;34m=\u001b[0m \u001b[0mCOM\u001b[0m\u001b[0;34m.\u001b[0m\u001b[0mCOM_P\u001b[0m\u001b[0;34m(\u001b[0m\u001b[0;36m0.1\u001b[0m\u001b[0;34m)\u001b[0m\u001b[0;34m\u001b[0m\u001b[0;34m\u001b[0m\u001b[0m\n\u001b[0m\u001b[1;32m     77\u001b[0m         \u001b[0mprint\u001b[0m\u001b[0;34m(\u001b[0m\u001b[0mCOM_p\u001b[0m\u001b[0;34m)\u001b[0m\u001b[0;34m\u001b[0m\u001b[0;34m\u001b[0m\u001b[0m\n\u001b[1;32m     78\u001b[0m \u001b[0;34m\u001b[0m\u001b[0m\n",
      "\u001b[0;31mTypeError\u001b[0m: COM_P() missing 1 required positional argument: 'volDec'"
     ]
    }
   ],
   "source": [
    "#need to fix the mass profile to see the 600th snapshot\n",
    "MW_600 = MassProfile(\"MW\", 600)\n",
    "print(\"this worked\")\n",
    "r = np.arange(0.1, 30.5, 0.5) # radius range we are using up to 30kpc\n",
    "\n",
    "\n",
    "# calculating enclosed mass for the halo\n",
    "enclosed_mass_MW_halo = MW.MassEnclosed(1,r)\n"
   ]
  },
  {
   "cell_type": "code",
   "execution_count": 40,
   "id": "8b54827a",
   "metadata": {},
   "outputs": [
    {
     "name": "stdout",
     "output_type": "stream",
     "text": [
      "this worked\n"
     ]
    },
    {
     "ename": "TypeError",
     "evalue": "COM_P() missing 1 required positional argument: 'volDec'",
     "output_type": "error",
     "traceback": [
      "\u001b[0;31m---------------------------------------------------------------------------\u001b[0m",
      "\u001b[0;31mTypeError\u001b[0m                                 Traceback (most recent call last)",
      "\u001b[0;32m/var/folders/1h/z8n5ns0s4xz1pj0xl926qny40000gn/T/ipykernel_84717/2486113443.py\u001b[0m in \u001b[0;36m<module>\u001b[0;34m\u001b[0m\n\u001b[1;32m      5\u001b[0m \u001b[0;34m\u001b[0m\u001b[0m\n\u001b[1;32m      6\u001b[0m \u001b[0;31m# calculating enclosed mass for each galaxy component for each radius\u001b[0m\u001b[0;34m\u001b[0m\u001b[0;34m\u001b[0m\u001b[0m\n\u001b[0;32m----> 7\u001b[0;31m \u001b[0menclosed_mass_MW_halo\u001b[0m \u001b[0;34m=\u001b[0m \u001b[0mMW\u001b[0m\u001b[0;34m.\u001b[0m\u001b[0mMassEnclosed\u001b[0m\u001b[0;34m(\u001b[0m\u001b[0;36m1\u001b[0m\u001b[0;34m,\u001b[0m\u001b[0mr\u001b[0m\u001b[0;34m)\u001b[0m\u001b[0;34m\u001b[0m\u001b[0;34m\u001b[0m\u001b[0m\n\u001b[0m\u001b[1;32m      8\u001b[0m \u001b[0menclosed_mass_MW_disk\u001b[0m \u001b[0;34m=\u001b[0m \u001b[0mMW\u001b[0m\u001b[0;34m.\u001b[0m\u001b[0mMassEnclosed\u001b[0m\u001b[0;34m(\u001b[0m\u001b[0;36m2\u001b[0m\u001b[0;34m,\u001b[0m\u001b[0mr\u001b[0m\u001b[0;34m)\u001b[0m\u001b[0;34m\u001b[0m\u001b[0;34m\u001b[0m\u001b[0m\n\u001b[1;32m      9\u001b[0m \u001b[0menclosed_mass_MW_bulge\u001b[0m \u001b[0;34m=\u001b[0m \u001b[0mMW\u001b[0m\u001b[0;34m.\u001b[0m\u001b[0mMassEnclosed\u001b[0m\u001b[0;34m(\u001b[0m\u001b[0;36m3\u001b[0m\u001b[0;34m,\u001b[0m\u001b[0mr\u001b[0m\u001b[0;34m)\u001b[0m\u001b[0;34m\u001b[0m\u001b[0;34m\u001b[0m\u001b[0m\n",
      "\u001b[0;32m~/400B_2023_Kooi/research assignments/research assignment/MassProfile.py\u001b[0m in \u001b[0;36mMassEnclosed\u001b[0;34m(self, ptype, radii)\u001b[0m\n\u001b[1;32m     74\u001b[0m         \u001b[0;31m#creating the CenterOfMass objects and calling previously defined COM_P\u001b[0m\u001b[0;34m\u001b[0m\u001b[0;34m\u001b[0m\u001b[0m\n\u001b[1;32m     75\u001b[0m         \u001b[0mCOM\u001b[0m \u001b[0;34m=\u001b[0m \u001b[0mCenterOfMass\u001b[0m\u001b[0;34m(\u001b[0m\u001b[0mself\u001b[0m\u001b[0;34m.\u001b[0m\u001b[0mfilename\u001b[0m\u001b[0;34m,\u001b[0m \u001b[0mptype\u001b[0m\u001b[0;34m)\u001b[0m\u001b[0;34m\u001b[0m\u001b[0;34m\u001b[0m\u001b[0m\n\u001b[0;32m---> 76\u001b[0;31m         \u001b[0mCOM_p\u001b[0m \u001b[0;34m=\u001b[0m \u001b[0mCOM\u001b[0m\u001b[0;34m.\u001b[0m\u001b[0mCOM_P\u001b[0m\u001b[0;34m(\u001b[0m\u001b[0;36m0.1\u001b[0m\u001b[0;34m)\u001b[0m\u001b[0;34m\u001b[0m\u001b[0;34m\u001b[0m\u001b[0m\n\u001b[0m\u001b[1;32m     77\u001b[0m         \u001b[0mprint\u001b[0m\u001b[0;34m(\u001b[0m\u001b[0mCOM_p\u001b[0m\u001b[0;34m)\u001b[0m\u001b[0;34m\u001b[0m\u001b[0;34m\u001b[0m\u001b[0m\n\u001b[1;32m     78\u001b[0m \u001b[0;34m\u001b[0m\u001b[0m\n",
      "\u001b[0;31mTypeError\u001b[0m: COM_P() missing 1 required positional argument: 'volDec'"
     ]
    }
   ],
   "source": [
    "#need to fix the mass profile to see the 800th snapshot\n",
    "MW_800 = MassProfile(\"MW\", 800)\n",
    "print(\"this worked\")\n",
    "r = np.arange(0.1, 30.5, 0.5) # radius range we are using up to 30kpc\n",
    "\n",
    "\n",
    "# calculating enclosed mass for the halo\n",
    "enclosed_mass_MW_halo = MW.MassEnclosed(1,r)\n"
   ]
  },
  {
   "cell_type": "markdown",
   "id": "480fd7dd",
   "metadata": {},
   "source": [
    "## M31 Mass Profiles"
   ]
  },
  {
   "cell_type": "code",
   "execution_count": null,
   "id": "df8e571a",
   "metadata": {},
   "outputs": [],
   "source": [
    "M31_0 = MassProfile(\"M31\", 0)"
   ]
  },
  {
   "cell_type": "code",
   "execution_count": null,
   "id": "be390c8c",
   "metadata": {},
   "outputs": [],
   "source": [
    "M31_200 = MassProfile(\"M31\", 200)"
   ]
  },
  {
   "cell_type": "code",
   "execution_count": null,
   "id": "b471d31b",
   "metadata": {},
   "outputs": [],
   "source": [
    "M31_400 = MassProfile(\"M31\", 400)"
   ]
  },
  {
   "cell_type": "code",
   "execution_count": null,
   "id": "7885b804",
   "metadata": {},
   "outputs": [],
   "source": [
    "M31_600 = MassProfile(\"M31\", 600)"
   ]
  },
  {
   "cell_type": "code",
   "execution_count": null,
   "id": "a29752af",
   "metadata": {},
   "outputs": [],
   "source": [
    "M31_800 = MassProfile(\"M31\", 800)"
   ]
  },
  {
   "cell_type": "markdown",
   "id": "3491fd0a",
   "metadata": {},
   "source": [
    "## Finding the Density/Combining"
   ]
  },
  {
   "cell_type": "code",
   "execution_count": null,
   "id": "2a7ca568",
   "metadata": {},
   "outputs": [],
   "source": [
    "#need help with finding density and combining the massses\n",
    "\n",
    "#determine the point in the simulation where they are mereged \n",
    "#numpy append (concatonate) For combings\n",
    "\n",
    "#radial: define an  array of spherical shells, some thickness dr all particles within the shell and divide out\n",
    "#the volume\n",
    "\n",
    "#hernquist: there is a density profile too\n"
   ]
  }
 ],
 "metadata": {
  "kernelspec": {
   "display_name": "Python 3 (ipykernel)",
   "language": "python",
   "name": "python3"
  },
  "language_info": {
   "codemirror_mode": {
    "name": "ipython",
    "version": 3
   },
   "file_extension": ".py",
   "mimetype": "text/x-python",
   "name": "python",
   "nbconvert_exporter": "python",
   "pygments_lexer": "ipython3",
   "version": "3.9.13"
  }
 },
 "nbformat": 4,
 "nbformat_minor": 5
}
